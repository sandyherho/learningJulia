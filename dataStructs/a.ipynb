{
 "cells": [
  {
   "cell_type": "markdown",
   "id": "41cefc95",
   "metadata": {},
   "source": [
    "# Tuples"
   ]
  },
  {
   "cell_type": "code",
   "execution_count": 33,
   "id": "e37d820f",
   "metadata": {},
   "outputs": [
    {
     "data": {
      "text/plain": [
       "(3, \"Julia\", 2022, 4.12)"
      ]
     },
     "execution_count": 33,
     "metadata": {},
     "output_type": "execute_result"
    }
   ],
   "source": [
    "tpl1 = (3, \"Julia\", 2022, 4.12)"
   ]
  },
  {
   "cell_type": "code",
   "execution_count": 34,
   "id": "a5f3c007",
   "metadata": {},
   "outputs": [
    {
     "data": {
      "text/plain": [
       "Tuple{Int64, String, Int64, Float64}"
      ]
     },
     "execution_count": 34,
     "metadata": {},
     "output_type": "execute_result"
    }
   ],
   "source": [
    "typeof(tpl1)"
   ]
  },
  {
   "cell_type": "code",
   "execution_count": 35,
   "id": "71b7f4c7",
   "metadata": {},
   "outputs": [
    {
     "data": {
      "text/plain": [
       "(3, \"Julia\", 2022, 4.12)"
      ]
     },
     "execution_count": 35,
     "metadata": {},
     "output_type": "execute_result"
    }
   ],
   "source": [
    "tpl2 = tuple(3, \"Julia\", 2022, 4.12)"
   ]
  },
  {
   "cell_type": "code",
   "execution_count": 36,
   "id": "301a72bc",
   "metadata": {},
   "outputs": [
    {
     "data": {
      "text/plain": [
       "false"
      ]
     },
     "execution_count": 36,
     "metadata": {},
     "output_type": "execute_result"
    }
   ],
   "source": [
    "tpl == tpl2"
   ]
  },
  {
   "cell_type": "code",
   "execution_count": 37,
   "id": "7ec59394",
   "metadata": {},
   "outputs": [
    {
     "data": {
      "text/plain": [
       "Any"
      ]
     },
     "execution_count": 37,
     "metadata": {},
     "output_type": "execute_result"
    }
   ],
   "source": [
    "supertype(Tuple)"
   ]
  },
  {
   "cell_type": "code",
   "execution_count": 38,
   "id": "7324181d",
   "metadata": {},
   "outputs": [
    {
     "data": {
      "text/plain": [
       "(\"Julia\", 12, 10//3)"
      ]
     },
     "execution_count": 38,
     "metadata": {},
     "output_type": "execute_result"
    }
   ],
   "source": [
    "tpl3 = \"Julia\", 5 + 7, 10//3"
   ]
  },
  {
   "cell_type": "code",
   "execution_count": 39,
   "id": "5074f29a",
   "metadata": {},
   "outputs": [
    {
     "data": {
      "text/plain": [
       "Tuple{String, Int64, Rational{Int64}}"
      ]
     },
     "execution_count": 39,
     "metadata": {},
     "output_type": "execute_result"
    }
   ],
   "source": [
    "typeof(tpl3)"
   ]
  },
  {
   "cell_type": "code",
   "execution_count": 40,
   "id": "ab8469f7",
   "metadata": {},
   "outputs": [
    {
     "data": {
      "text/plain": [
       "6"
      ]
     },
     "execution_count": 40,
     "metadata": {},
     "output_type": "execute_result"
    }
   ],
   "source": [
    "t = (6)"
   ]
  },
  {
   "cell_type": "code",
   "execution_count": 41,
   "id": "789937ae",
   "metadata": {},
   "outputs": [
    {
     "data": {
      "text/plain": [
       "Int64"
      ]
     },
     "execution_count": 41,
     "metadata": {},
     "output_type": "execute_result"
    }
   ],
   "source": [
    "typeof(t)"
   ]
  },
  {
   "cell_type": "code",
   "execution_count": 42,
   "id": "f50a5722",
   "metadata": {},
   "outputs": [
    {
     "data": {
      "text/plain": [
       "(6,)"
      ]
     },
     "execution_count": 42,
     "metadata": {},
     "output_type": "execute_result"
    }
   ],
   "source": [
    "t = (6,) "
   ]
  },
  {
   "cell_type": "code",
   "execution_count": 43,
   "id": "5e25f63c",
   "metadata": {},
   "outputs": [
    {
     "data": {
      "text/plain": [
       "Tuple{Int64}"
      ]
     },
     "execution_count": 43,
     "metadata": {},
     "output_type": "execute_result"
    }
   ],
   "source": [
    "typeof(t)"
   ]
  },
  {
   "cell_type": "code",
   "execution_count": 44,
   "id": "1aba78e5",
   "metadata": {},
   "outputs": [
    {
     "data": {
      "text/plain": [
       "(name = \"Julia\", year = 2022, version = 1.7)"
      ]
     },
     "execution_count": 44,
     "metadata": {},
     "output_type": "execute_result"
    }
   ],
   "source": [
    "tpl"
   ]
  },
  {
   "cell_type": "code",
   "execution_count": 45,
   "id": "b6faad77",
   "metadata": {},
   "outputs": [
    {
     "data": {
      "text/plain": [
       "\"Julia\""
      ]
     },
     "execution_count": 45,
     "metadata": {},
     "output_type": "execute_result"
    }
   ],
   "source": [
    "tpl[1]"
   ]
  },
  {
   "cell_type": "code",
   "execution_count": 46,
   "id": "2dae0800",
   "metadata": {},
   "outputs": [
    {
     "data": {
      "text/plain": [
       "2022"
      ]
     },
     "execution_count": 46,
     "metadata": {},
     "output_type": "execute_result"
    }
   ],
   "source": [
    "tpl[2]"
   ]
  },
  {
   "cell_type": "code",
   "execution_count": 47,
   "id": "2f86e7c5",
   "metadata": {},
   "outputs": [
    {
     "ename": "LoadError",
     "evalue": "MethodError: no method matching getindex(::NamedTuple{(:name, :year, :version), Tuple{String, Int64, Float64}}, ::UnitRange{Int64})\n\u001b[0mClosest candidates are:\n\u001b[0m  getindex(::NamedTuple, \u001b[91m::Int64\u001b[39m) at namedtuple.jl:136\n\u001b[0m  getindex(::NamedTuple, \u001b[91m::Symbol\u001b[39m) at namedtuple.jl:137\n\u001b[0m  getindex(::NamedTuple, \u001b[91m::Tuple{Vararg{Symbol}}\u001b[39m) at namedtuple.jl:138\n\u001b[0m  ...",
     "output_type": "error",
     "traceback": [
      "MethodError: no method matching getindex(::NamedTuple{(:name, :year, :version), Tuple{String, Int64, Float64}}, ::UnitRange{Int64})\n\u001b[0mClosest candidates are:\n\u001b[0m  getindex(::NamedTuple, \u001b[91m::Int64\u001b[39m) at namedtuple.jl:136\n\u001b[0m  getindex(::NamedTuple, \u001b[91m::Symbol\u001b[39m) at namedtuple.jl:137\n\u001b[0m  getindex(::NamedTuple, \u001b[91m::Tuple{Vararg{Symbol}}\u001b[39m) at namedtuple.jl:138\n\u001b[0m  ...",
      "",
      "Stacktrace:",
      " [1] top-level scope",
      "   @ In[47]:1",
      " [2] eval",
      "   @ ./boot.jl:368 [inlined]",
      " [3] include_string(mapexpr::typeof(REPL.softscope), mod::Module, code::String, filename::String)",
      "   @ Base ./loading.jl:1428"
     ]
    }
   ],
   "source": [
    "tpl[2:3]"
   ]
  },
  {
   "cell_type": "code",
   "execution_count": 48,
   "id": "ad5fa57a",
   "metadata": {},
   "outputs": [
    {
     "data": {
      "text/plain": [
       "(name = \"Julia\", year = 2022, version = 1.7)"
      ]
     },
     "execution_count": 48,
     "metadata": {},
     "output_type": "execute_result"
    }
   ],
   "source": [
    "tpl = (name=\"Julia\", year=2022, version=1.7)"
   ]
  },
  {
   "cell_type": "code",
   "execution_count": 49,
   "id": "ebc19016",
   "metadata": {},
   "outputs": [
    {
     "data": {
      "text/plain": [
       "\"Julia\""
      ]
     },
     "execution_count": 49,
     "metadata": {},
     "output_type": "execute_result"
    }
   ],
   "source": [
    "tpl[1]"
   ]
  },
  {
   "cell_type": "code",
   "execution_count": 50,
   "id": "5c352e2b",
   "metadata": {},
   "outputs": [
    {
     "data": {
      "text/plain": [
       "1.7"
      ]
     },
     "execution_count": 50,
     "metadata": {},
     "output_type": "execute_result"
    }
   ],
   "source": [
    "tpl.version"
   ]
  },
  {
   "cell_type": "code",
   "execution_count": 51,
   "id": "249016e2",
   "metadata": {},
   "outputs": [
    {
     "ename": "LoadError",
     "evalue": "syntax: invalid named tuple element \"8\" around In[51]:1",
     "output_type": "error",
     "traceback": [
      "syntax: invalid named tuple element \"8\" around In[51]:1",
      "",
      "Stacktrace:",
      " [1] top-level scope",
      "   @ In[51]:1",
      " [2] eval",
      "   @ ./boot.jl:368 [inlined]",
      " [3] include_string(mapexpr::typeof(REPL.softscope), mod::Module, code::String, filename::String)",
      "   @ Base ./loading.jl:1428"
     ]
    }
   ],
   "source": [
    "t = (a = 7, 8, 10)"
   ]
  },
  {
   "cell_type": "code",
   "execution_count": 52,
   "id": "fbf59c2d",
   "metadata": {},
   "outputs": [
    {
     "data": {
      "text/plain": [
       "(π, ℯ, φ)"
      ]
     },
     "execution_count": 52,
     "metadata": {},
     "output_type": "execute_result"
    }
   ],
   "source": [
    "mathConsts = (MathConstants.pi, MathConstants.e, MathConstants.golden)"
   ]
  },
  {
   "cell_type": "code",
   "execution_count": 53,
   "id": "bef3c3ee",
   "metadata": {},
   "outputs": [
    {
     "data": {
      "text/plain": [
       "(π, ℯ, φ)"
      ]
     },
     "execution_count": 53,
     "metadata": {},
     "output_type": "execute_result"
    }
   ],
   "source": [
    "p, e, g = mathConsts"
   ]
  },
  {
   "cell_type": "code",
   "execution_count": 54,
   "id": "7d9b5072",
   "metadata": {},
   "outputs": [
    {
     "data": {
      "text/plain": [
       "π = 3.1415926535897..."
      ]
     },
     "execution_count": 54,
     "metadata": {},
     "output_type": "execute_result"
    }
   ],
   "source": [
    "p"
   ]
  },
  {
   "cell_type": "code",
   "execution_count": 55,
   "id": "588c7760",
   "metadata": {},
   "outputs": [
    {
     "data": {
      "text/plain": [
       "ℯ = 2.7182818284590..."
      ]
     },
     "execution_count": 55,
     "metadata": {},
     "output_type": "execute_result"
    }
   ],
   "source": [
    "e"
   ]
  },
  {
   "cell_type": "code",
   "execution_count": 56,
   "id": "addc3e71",
   "metadata": {},
   "outputs": [
    {
     "data": {
      "text/plain": [
       "φ = 1.6180339887498..."
      ]
     },
     "execution_count": 56,
     "metadata": {},
     "output_type": "execute_result"
    }
   ],
   "source": [
    "g"
   ]
  },
  {
   "cell_type": "code",
   "execution_count": 57,
   "id": "5dc443e8",
   "metadata": {},
   "outputs": [
    {
     "data": {
      "text/plain": [
       "(3, 4, 5, 6)"
      ]
     },
     "execution_count": 57,
     "metadata": {},
     "output_type": "execute_result"
    }
   ],
   "source": [
    "nt = (3,4,5,6)"
   ]
  },
  {
   "cell_type": "code",
   "execution_count": 58,
   "id": "6df568d4",
   "metadata": {},
   "outputs": [
    {
     "data": {
      "text/plain": [
       "NTuple{4, Int64}"
      ]
     },
     "execution_count": 58,
     "metadata": {},
     "output_type": "execute_result"
    }
   ],
   "source": [
    "typeof(nt)"
   ]
  },
  {
   "cell_type": "code",
   "execution_count": 59,
   "id": "b9a997b1",
   "metadata": {},
   "outputs": [
    {
     "data": {
      "text/plain": [
       "(1, 8, 27, 64, 125)"
      ]
     },
     "execution_count": 59,
     "metadata": {},
     "output_type": "execute_result"
    }
   ],
   "source": [
    "ntuple(x -> x^3, 5)"
   ]
  },
  {
   "cell_type": "code",
   "execution_count": 61,
   "id": "4dcae1a1",
   "metadata": {},
   "outputs": [
    {
     "data": {
      "text/plain": [
       "(3, \"Julia\", 2022, 4.12)"
      ]
     },
     "execution_count": 61,
     "metadata": {},
     "output_type": "execute_result"
    }
   ],
   "source": [
    "tpl1"
   ]
  },
  {
   "cell_type": "code",
   "execution_count": 62,
   "id": "944ece8b",
   "metadata": {},
   "outputs": [
    {
     "data": {
      "text/plain": [
       "true"
      ]
     },
     "execution_count": 62,
     "metadata": {},
     "output_type": "execute_result"
    }
   ],
   "source": [
    "in(2022, tpl1)"
   ]
  },
  {
   "cell_type": "code",
   "execution_count": 63,
   "id": "4ef9f23a",
   "metadata": {},
   "outputs": [
    {
     "data": {
      "text/plain": [
       "false"
      ]
     },
     "execution_count": 63,
     "metadata": {},
     "output_type": "execute_result"
    }
   ],
   "source": [
    "in(1, tpl1)"
   ]
  },
  {
   "cell_type": "code",
   "execution_count": 65,
   "id": "0b2ac92f",
   "metadata": {},
   "outputs": [
    {
     "data": {
      "text/plain": [
       "true"
      ]
     },
     "execution_count": 65,
     "metadata": {},
     "output_type": "execute_result"
    }
   ],
   "source": [
    "2022 ∈ tpl1 # \\in TAB"
   ]
  },
  {
   "cell_type": "code",
   "execution_count": 66,
   "id": "a9068bff",
   "metadata": {},
   "outputs": [
    {
     "data": {
      "text/plain": [
       "false"
      ]
     },
     "execution_count": 66,
     "metadata": {},
     "output_type": "execute_result"
    }
   ],
   "source": [
    "\"2\" ∈ tpl1"
   ]
  },
  {
   "cell_type": "code",
   "execution_count": 67,
   "id": "54764638",
   "metadata": {},
   "outputs": [
    {
     "data": {
      "text/plain": [
       "true"
      ]
     },
     "execution_count": 67,
     "metadata": {},
     "output_type": "execute_result"
    }
   ],
   "source": [
    "1999 ∉ tpl1 #\\notin TAB"
   ]
  },
  {
   "cell_type": "code",
   "execution_count": 69,
   "id": "49422c89",
   "metadata": {},
   "outputs": [
    {
     "data": {
      "text/plain": [
       "false"
      ]
     },
     "execution_count": 69,
     "metadata": {},
     "output_type": "execute_result"
    }
   ],
   "source": [
    "2022 ∉ tpl1"
   ]
  },
  {
   "cell_type": "markdown",
   "id": "73c1ac39",
   "metadata": {},
   "source": [
    "# Dictionary"
   ]
  },
  {
   "cell_type": "code",
   "execution_count": null,
   "id": "33676d49",
   "metadata": {},
   "outputs": [],
   "source": []
  }
 ],
 "metadata": {
  "kernelspec": {
   "display_name": "Julia 1.8.2",
   "language": "julia",
   "name": "julia-1.8"
  },
  "language_info": {
   "file_extension": ".jl",
   "mimetype": "application/julia",
   "name": "julia",
   "version": "1.8.2"
  }
 },
 "nbformat": 4,
 "nbformat_minor": 5
}
