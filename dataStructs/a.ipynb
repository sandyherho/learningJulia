{
 "cells": [
  {
   "cell_type": "markdown",
   "id": "41cefc95",
   "metadata": {},
   "source": [
    "# Tuples"
   ]
  },
  {
   "cell_type": "code",
   "execution_count": 33,
   "id": "e37d820f",
   "metadata": {},
   "outputs": [
    {
     "data": {
      "text/plain": [
       "(3, \"Julia\", 2022, 4.12)"
      ]
     },
     "execution_count": 33,
     "metadata": {},
     "output_type": "execute_result"
    }
   ],
   "source": [
    "tpl1 = (3, \"Julia\", 2022, 4.12)"
   ]
  },
  {
   "cell_type": "code",
   "execution_count": 34,
   "id": "a5f3c007",
   "metadata": {},
   "outputs": [
    {
     "data": {
      "text/plain": [
       "Tuple{Int64, String, Int64, Float64}"
      ]
     },
     "execution_count": 34,
     "metadata": {},
     "output_type": "execute_result"
    }
   ],
   "source": [
    "typeof(tpl1)"
   ]
  },
  {
   "cell_type": "code",
   "execution_count": 35,
   "id": "71b7f4c7",
   "metadata": {},
   "outputs": [
    {
     "data": {
      "text/plain": [
       "(3, \"Julia\", 2022, 4.12)"
      ]
     },
     "execution_count": 35,
     "metadata": {},
     "output_type": "execute_result"
    }
   ],
   "source": [
    "tpl2 = tuple(3, \"Julia\", 2022, 4.12)"
   ]
  },
  {
   "cell_type": "code",
   "execution_count": 36,
   "id": "301a72bc",
   "metadata": {},
   "outputs": [
    {
     "data": {
      "text/plain": [
       "false"
      ]
     },
     "execution_count": 36,
     "metadata": {},
     "output_type": "execute_result"
    }
   ],
   "source": [
    "tpl == tpl2"
   ]
  },
  {
   "cell_type": "code",
   "execution_count": 37,
   "id": "7ec59394",
   "metadata": {},
   "outputs": [
    {
     "data": {
      "text/plain": [
       "Any"
      ]
     },
     "execution_count": 37,
     "metadata": {},
     "output_type": "execute_result"
    }
   ],
   "source": [
    "supertype(Tuple)"
   ]
  },
  {
   "cell_type": "code",
   "execution_count": 38,
   "id": "7324181d",
   "metadata": {},
   "outputs": [
    {
     "data": {
      "text/plain": [
       "(\"Julia\", 12, 10//3)"
      ]
     },
     "execution_count": 38,
     "metadata": {},
     "output_type": "execute_result"
    }
   ],
   "source": [
    "tpl3 = \"Julia\", 5 + 7, 10//3"
   ]
  },
  {
   "cell_type": "code",
   "execution_count": 39,
   "id": "5074f29a",
   "metadata": {},
   "outputs": [
    {
     "data": {
      "text/plain": [
       "Tuple{String, Int64, Rational{Int64}}"
      ]
     },
     "execution_count": 39,
     "metadata": {},
     "output_type": "execute_result"
    }
   ],
   "source": [
    "typeof(tpl3)"
   ]
  },
  {
   "cell_type": "code",
   "execution_count": 40,
   "id": "ab8469f7",
   "metadata": {},
   "outputs": [
    {
     "data": {
      "text/plain": [
       "6"
      ]
     },
     "execution_count": 40,
     "metadata": {},
     "output_type": "execute_result"
    }
   ],
   "source": [
    "t = (6)"
   ]
  },
  {
   "cell_type": "code",
   "execution_count": 41,
   "id": "789937ae",
   "metadata": {},
   "outputs": [
    {
     "data": {
      "text/plain": [
       "Int64"
      ]
     },
     "execution_count": 41,
     "metadata": {},
     "output_type": "execute_result"
    }
   ],
   "source": [
    "typeof(t)"
   ]
  },
  {
   "cell_type": "code",
   "execution_count": 42,
   "id": "f50a5722",
   "metadata": {},
   "outputs": [
    {
     "data": {
      "text/plain": [
       "(6,)"
      ]
     },
     "execution_count": 42,
     "metadata": {},
     "output_type": "execute_result"
    }
   ],
   "source": [
    "t = (6,) "
   ]
  },
  {
   "cell_type": "code",
   "execution_count": 43,
   "id": "5e25f63c",
   "metadata": {},
   "outputs": [
    {
     "data": {
      "text/plain": [
       "Tuple{Int64}"
      ]
     },
     "execution_count": 43,
     "metadata": {},
     "output_type": "execute_result"
    }
   ],
   "source": [
    "typeof(t)"
   ]
  },
  {
   "cell_type": "code",
   "execution_count": 44,
   "id": "1aba78e5",
   "metadata": {},
   "outputs": [
    {
     "data": {
      "text/plain": [
       "(name = \"Julia\", year = 2022, version = 1.7)"
      ]
     },
     "execution_count": 44,
     "metadata": {},
     "output_type": "execute_result"
    }
   ],
   "source": [
    "tpl"
   ]
  },
  {
   "cell_type": "code",
   "execution_count": 45,
   "id": "b6faad77",
   "metadata": {},
   "outputs": [
    {
     "data": {
      "text/plain": [
       "\"Julia\""
      ]
     },
     "execution_count": 45,
     "metadata": {},
     "output_type": "execute_result"
    }
   ],
   "source": [
    "tpl[1]"
   ]
  },
  {
   "cell_type": "code",
   "execution_count": 46,
   "id": "2dae0800",
   "metadata": {},
   "outputs": [
    {
     "data": {
      "text/plain": [
       "2022"
      ]
     },
     "execution_count": 46,
     "metadata": {},
     "output_type": "execute_result"
    }
   ],
   "source": [
    "tpl[2]"
   ]
  },
  {
   "cell_type": "code",
   "execution_count": 47,
   "id": "2f86e7c5",
   "metadata": {},
   "outputs": [
    {
     "ename": "LoadError",
     "evalue": "MethodError: no method matching getindex(::NamedTuple{(:name, :year, :version), Tuple{String, Int64, Float64}}, ::UnitRange{Int64})\n\u001b[0mClosest candidates are:\n\u001b[0m  getindex(::NamedTuple, \u001b[91m::Int64\u001b[39m) at namedtuple.jl:136\n\u001b[0m  getindex(::NamedTuple, \u001b[91m::Symbol\u001b[39m) at namedtuple.jl:137\n\u001b[0m  getindex(::NamedTuple, \u001b[91m::Tuple{Vararg{Symbol}}\u001b[39m) at namedtuple.jl:138\n\u001b[0m  ...",
     "output_type": "error",
     "traceback": [
      "MethodError: no method matching getindex(::NamedTuple{(:name, :year, :version), Tuple{String, Int64, Float64}}, ::UnitRange{Int64})\n\u001b[0mClosest candidates are:\n\u001b[0m  getindex(::NamedTuple, \u001b[91m::Int64\u001b[39m) at namedtuple.jl:136\n\u001b[0m  getindex(::NamedTuple, \u001b[91m::Symbol\u001b[39m) at namedtuple.jl:137\n\u001b[0m  getindex(::NamedTuple, \u001b[91m::Tuple{Vararg{Symbol}}\u001b[39m) at namedtuple.jl:138\n\u001b[0m  ...",
      "",
      "Stacktrace:",
      " [1] top-level scope",
      "   @ In[47]:1",
      " [2] eval",
      "   @ ./boot.jl:368 [inlined]",
      " [3] include_string(mapexpr::typeof(REPL.softscope), mod::Module, code::String, filename::String)",
      "   @ Base ./loading.jl:1428"
     ]
    }
   ],
   "source": [
    "tpl[2:3]"
   ]
  },
  {
   "cell_type": "code",
   "execution_count": 48,
   "id": "ad5fa57a",
   "metadata": {},
   "outputs": [
    {
     "data": {
      "text/plain": [
       "(name = \"Julia\", year = 2022, version = 1.7)"
      ]
     },
     "execution_count": 48,
     "metadata": {},
     "output_type": "execute_result"
    }
   ],
   "source": [
    "tpl = (name=\"Julia\", year=2022, version=1.7)"
   ]
  },
  {
   "cell_type": "code",
   "execution_count": 49,
   "id": "ebc19016",
   "metadata": {},
   "outputs": [
    {
     "data": {
      "text/plain": [
       "\"Julia\""
      ]
     },
     "execution_count": 49,
     "metadata": {},
     "output_type": "execute_result"
    }
   ],
   "source": [
    "tpl[1]"
   ]
  },
  {
   "cell_type": "code",
   "execution_count": 50,
   "id": "5c352e2b",
   "metadata": {},
   "outputs": [
    {
     "data": {
      "text/plain": [
       "1.7"
      ]
     },
     "execution_count": 50,
     "metadata": {},
     "output_type": "execute_result"
    }
   ],
   "source": [
    "tpl.version"
   ]
  },
  {
   "cell_type": "code",
   "execution_count": 51,
   "id": "249016e2",
   "metadata": {},
   "outputs": [
    {
     "ename": "LoadError",
     "evalue": "syntax: invalid named tuple element \"8\" around In[51]:1",
     "output_type": "error",
     "traceback": [
      "syntax: invalid named tuple element \"8\" around In[51]:1",
      "",
      "Stacktrace:",
      " [1] top-level scope",
      "   @ In[51]:1",
      " [2] eval",
      "   @ ./boot.jl:368 [inlined]",
      " [3] include_string(mapexpr::typeof(REPL.softscope), mod::Module, code::String, filename::String)",
      "   @ Base ./loading.jl:1428"
     ]
    }
   ],
   "source": [
    "t = (a = 7, 8, 10)"
   ]
  },
  {
   "cell_type": "code",
   "execution_count": 52,
   "id": "fbf59c2d",
   "metadata": {},
   "outputs": [
    {
     "data": {
      "text/plain": [
       "(π, ℯ, φ)"
      ]
     },
     "execution_count": 52,
     "metadata": {},
     "output_type": "execute_result"
    }
   ],
   "source": [
    "mathConsts = (MathConstants.pi, MathConstants.e, MathConstants.golden)"
   ]
  },
  {
   "cell_type": "code",
   "execution_count": 53,
   "id": "bef3c3ee",
   "metadata": {},
   "outputs": [
    {
     "data": {
      "text/plain": [
       "(π, ℯ, φ)"
      ]
     },
     "execution_count": 53,
     "metadata": {},
     "output_type": "execute_result"
    }
   ],
   "source": [
    "p, e, g = mathConsts"
   ]
  },
  {
   "cell_type": "code",
   "execution_count": 54,
   "id": "7d9b5072",
   "metadata": {},
   "outputs": [
    {
     "data": {
      "text/plain": [
       "π = 3.1415926535897..."
      ]
     },
     "execution_count": 54,
     "metadata": {},
     "output_type": "execute_result"
    }
   ],
   "source": [
    "p"
   ]
  },
  {
   "cell_type": "code",
   "execution_count": 55,
   "id": "588c7760",
   "metadata": {},
   "outputs": [
    {
     "data": {
      "text/plain": [
       "ℯ = 2.7182818284590..."
      ]
     },
     "execution_count": 55,
     "metadata": {},
     "output_type": "execute_result"
    }
   ],
   "source": [
    "e"
   ]
  },
  {
   "cell_type": "code",
   "execution_count": 56,
   "id": "addc3e71",
   "metadata": {},
   "outputs": [
    {
     "data": {
      "text/plain": [
       "φ = 1.6180339887498..."
      ]
     },
     "execution_count": 56,
     "metadata": {},
     "output_type": "execute_result"
    }
   ],
   "source": [
    "g"
   ]
  },
  {
   "cell_type": "code",
   "execution_count": 57,
   "id": "5dc443e8",
   "metadata": {},
   "outputs": [
    {
     "data": {
      "text/plain": [
       "(3, 4, 5, 6)"
      ]
     },
     "execution_count": 57,
     "metadata": {},
     "output_type": "execute_result"
    }
   ],
   "source": [
    "nt = (3,4,5,6)"
   ]
  },
  {
   "cell_type": "code",
   "execution_count": 58,
   "id": "4646c4cd",
   "metadata": {},
   "outputs": [
    {
     "data": {
      "text/plain": [
       "NTuple{4, Int64}"
      ]
     },
     "execution_count": 58,
     "metadata": {},
     "output_type": "execute_result"
    }
   ],
   "source": [
    "typeof(nt)"
   ]
  },
  {
   "cell_type": "code",
   "execution_count": 59,
   "id": "189ba565",
   "metadata": {},
   "outputs": [
    {
     "data": {
      "text/plain": [
       "(1, 8, 27, 64, 125)"
      ]
     },
     "execution_count": 59,
     "metadata": {},
     "output_type": "execute_result"
    }
   ],
   "source": [
    "ntuple(x -> x^3, 5)"
   ]
  },
  {
   "cell_type": "code",
   "execution_count": 61,
   "id": "1a0b1a95",
   "metadata": {},
   "outputs": [
    {
     "data": {
      "text/plain": [
       "(3, \"Julia\", 2022, 4.12)"
      ]
     },
     "execution_count": 61,
     "metadata": {},
     "output_type": "execute_result"
    }
   ],
   "source": [
    "tpl1"
   ]
  },
  {
   "cell_type": "code",
   "execution_count": 62,
   "id": "80e50806",
   "metadata": {},
   "outputs": [
    {
     "data": {
      "text/plain": [
       "true"
      ]
     },
     "execution_count": 62,
     "metadata": {},
     "output_type": "execute_result"
    }
   ],
   "source": [
    "in(2022, tpl1)"
   ]
  },
  {
   "cell_type": "code",
   "execution_count": 63,
   "id": "a1ff108b",
   "metadata": {},
   "outputs": [
    {
     "data": {
      "text/plain": [
       "false"
      ]
     },
     "execution_count": 63,
     "metadata": {},
     "output_type": "execute_result"
    }
   ],
   "source": [
    "in(1, tpl1)"
   ]
  },
  {
   "cell_type": "code",
   "execution_count": 65,
   "id": "76676a67",
   "metadata": {},
   "outputs": [
    {
     "data": {
      "text/plain": [
       "true"
      ]
     },
     "execution_count": 65,
     "metadata": {},
     "output_type": "execute_result"
    }
   ],
   "source": [
    "2022 ∈ tpl1 # \\in TAB"
   ]
  },
  {
   "cell_type": "code",
   "execution_count": 66,
   "id": "ac342c5e",
   "metadata": {},
   "outputs": [
    {
     "data": {
      "text/plain": [
       "false"
      ]
     },
     "execution_count": 66,
     "metadata": {},
     "output_type": "execute_result"
    }
   ],
   "source": [
    "\"2\" ∈ tpl1"
   ]
  },
  {
   "cell_type": "code",
   "execution_count": 67,
   "id": "e6fff64e",
   "metadata": {},
   "outputs": [
    {
     "data": {
      "text/plain": [
       "true"
      ]
     },
     "execution_count": 67,
     "metadata": {},
     "output_type": "execute_result"
    }
   ],
   "source": [
    "1999 ∉ tpl1 #\\notin TAB"
   ]
  },
  {
   "cell_type": "code",
   "execution_count": 69,
   "id": "f2405f7a",
   "metadata": {},
   "outputs": [
    {
     "data": {
      "text/plain": [
       "false"
      ]
     },
     "execution_count": 69,
     "metadata": {},
     "output_type": "execute_result"
    }
   ],
   "source": [
    "2022 ∉ tpl1"
   ]
  },
  {
   "cell_type": "markdown",
   "id": "3e42f4be",
   "metadata": {},
   "source": [
    "# Dictionary"
   ]
  },
  {
   "cell_type": "code",
   "execution_count": 70,
   "id": "b247c193",
   "metadata": {},
   "outputs": [
    {
     "data": {
      "text/plain": [
       "Dict{Any, Any}()"
      ]
     },
     "execution_count": 70,
     "metadata": {},
     "output_type": "execute_result"
    }
   ],
   "source": [
    "d1 = Dict()"
   ]
  },
  {
   "cell_type": "code",
   "execution_count": 71,
   "id": "0464c74b",
   "metadata": {},
   "outputs": [
    {
     "data": {
      "text/plain": [
       "Dict{String, Int64} with 3 entries:\n",
       "  \"albert\"  => 100\n",
       "  \"maria\"   => 99\n",
       "  \"richard\" => 97"
      ]
     },
     "execution_count": 71,
     "metadata": {},
     "output_type": "execute_result"
    }
   ],
   "source": [
    "studentgrades = Dict([(\"albert\", 100), (\"maria\", 99), (\"richard\", 97)])"
   ]
  },
  {
   "cell_type": "code",
   "execution_count": 72,
   "id": "c736ffa3",
   "metadata": {},
   "outputs": [
    {
     "data": {
      "text/plain": [
       "Dict{String, Int64} with 3 entries:\n",
       "  \"albert\"  => 100\n",
       "  \"maria\"   => 99\n",
       "  \"richard\" => 97"
      ]
     },
     "execution_count": 72,
     "metadata": {},
     "output_type": "execute_result"
    }
   ],
   "source": [
    "studentgrades = Dict(\"albert\" => 100, \"maria\" => 99,\n",
    "\"richard\" => 97)"
   ]
  },
  {
   "cell_type": "code",
   "execution_count": 73,
   "id": "c4a557b5",
   "metadata": {},
   "outputs": [
    {
     "data": {
      "text/plain": [
       "Dict{Any, Any}()"
      ]
     },
     "execution_count": 73,
     "metadata": {},
     "output_type": "execute_result"
    }
   ],
   "source": [
    "grades = Dict()"
   ]
  },
  {
   "cell_type": "code",
   "execution_count": 74,
   "id": "d4c6bf0c",
   "metadata": {},
   "outputs": [
    {
     "data": {
      "text/plain": [
       "100"
      ]
     },
     "execution_count": 74,
     "metadata": {},
     "output_type": "execute_result"
    }
   ],
   "source": [
    "grades[\"albert\"] = 100"
   ]
  },
  {
   "cell_type": "code",
   "execution_count": 77,
   "id": "0ad5bc3d",
   "metadata": {},
   "outputs": [],
   "source": [
    "grades[\"maria\"] = 99; grades[\"richard\"] = 97; grades[\"carl\"] = 97;"
   ]
  },
  {
   "cell_type": "code",
   "execution_count": 78,
   "id": "269d708e",
   "metadata": {},
   "outputs": [
    {
     "data": {
      "text/plain": [
       "Dict{Any, Any} with 4 entries:\n",
       "  \"albert\"  => 100\n",
       "  \"carl\"    => 97\n",
       "  \"maria\"   => 99\n",
       "  \"richard\" => 97"
      ]
     },
     "execution_count": 78,
     "metadata": {},
     "output_type": "execute_result"
    }
   ],
   "source": [
    "grades"
   ]
  },
  {
   "cell_type": "code",
   "execution_count": 79,
   "id": "a2f74f38",
   "metadata": {},
   "outputs": [
    {
     "data": {
      "text/plain": [
       "Dict{Any, Any} with 4 entries:\n",
       "  \"albert\"  => 100\n",
       "  \"carl\"    => 100\n",
       "  \"maria\"   => 99\n",
       "  \"richard\" => 97"
      ]
     },
     "execution_count": 79,
     "metadata": {},
     "output_type": "execute_result"
    }
   ],
   "source": [
    "grades[\"carl\"] = 100;\n",
    "grades"
   ]
  },
  {
   "cell_type": "code",
   "execution_count": 80,
   "id": "e75b5dff",
   "metadata": {},
   "outputs": [
    {
     "ename": "LoadError",
     "evalue": "KeyError: key 1 not found",
     "output_type": "error",
     "traceback": [
      "KeyError: key 1 not found",
      "",
      "Stacktrace:",
      " [1] getindex(h::Dict{Any, Any}, key::Int64)",
      "   @ Base ./dict.jl:498",
      " [2] top-level scope",
      "   @ In[80]:1",
      " [3] eval",
      "   @ ./boot.jl:368 [inlined]",
      " [4] include_string(mapexpr::typeof(REPL.softscope), mod::Module, code::String, filename::String)",
      "   @ Base ./loading.jl:1428"
     ]
    }
   ],
   "source": [
    "grades[1]"
   ]
  },
  {
   "cell_type": "code",
   "execution_count": 81,
   "id": "ebaf2bbc",
   "metadata": {},
   "outputs": [
    {
     "data": {
      "text/plain": [
       "99"
      ]
     },
     "execution_count": 81,
     "metadata": {},
     "output_type": "execute_result"
    }
   ],
   "source": [
    "grades[\"maria\"]"
   ]
  },
  {
   "cell_type": "code",
   "execution_count": 82,
   "id": "14b846b4",
   "metadata": {},
   "outputs": [
    {
     "ename": "LoadError",
     "evalue": "KeyError: key \"rosalind\" not found",
     "output_type": "error",
     "traceback": [
      "KeyError: key \"rosalind\" not found",
      "",
      "Stacktrace:",
      " [1] getindex(h::Dict{Any, Any}, key::String)",
      "   @ Base ./dict.jl:498",
      " [2] top-level scope",
      "   @ In[82]:1",
      " [3] eval",
      "   @ ./boot.jl:368 [inlined]",
      " [4] include_string(mapexpr::typeof(REPL.softscope), mod::Module, code::String, filename::String)",
      "   @ Base ./loading.jl:1428"
     ]
    }
   ],
   "source": [
    "grades[\"rosalind\"]"
   ]
  },
  {
   "cell_type": "code",
   "execution_count": 83,
   "id": "ea5a5774",
   "metadata": {},
   "outputs": [
    {
     "data": {
      "text/plain": [
       "4"
      ]
     },
     "execution_count": 83,
     "metadata": {},
     "output_type": "execute_result"
    }
   ],
   "source": [
    "length(grades)"
   ]
  },
  {
   "cell_type": "code",
   "execution_count": 84,
   "id": "36b2fd21",
   "metadata": {},
   "outputs": [
    {
     "data": {
      "text/plain": [
       "KeySet for a Dict{Any, Any} with 4 entries. Keys:\n",
       "  \"albert\"\n",
       "  \"carl\"\n",
       "  \"maria\"\n",
       "  \"richard\""
      ]
     },
     "execution_count": 84,
     "metadata": {},
     "output_type": "execute_result"
    }
   ],
   "source": [
    "keys(grades)"
   ]
  },
  {
   "cell_type": "code",
   "execution_count": 85,
   "id": "f50d7d93",
   "metadata": {},
   "outputs": [
    {
     "data": {
      "text/plain": [
       "ValueIterator for a Dict{Any, Any} with 4 entries. Values:\n",
       "  100\n",
       "  100\n",
       "  99\n",
       "  97"
      ]
     },
     "execution_count": 85,
     "metadata": {},
     "output_type": "execute_result"
    }
   ],
   "source": [
    "values(grades)"
   ]
  },
  {
   "cell_type": "code",
   "execution_count": 86,
   "id": "61eb73d9",
   "metadata": {},
   "outputs": [
    {
     "data": {
      "text/plain": [
       "true"
      ]
     },
     "execution_count": 86,
     "metadata": {},
     "output_type": "execute_result"
    }
   ],
   "source": [
    "\"albert\" ∈ keys(grades)"
   ]
  },
  {
   "cell_type": "code",
   "execution_count": 87,
   "id": "2a5b1072",
   "metadata": {},
   "outputs": [
    {
     "data": {
      "text/plain": [
       "true"
      ]
     },
     "execution_count": 87,
     "metadata": {},
     "output_type": "execute_result"
    }
   ],
   "source": [
    "100 ∈ values(grades)"
   ]
  },
  {
   "cell_type": "code",
   "execution_count": 88,
   "id": "f1b86941",
   "metadata": {},
   "outputs": [
    {
     "data": {
      "text/plain": [
       "true"
      ]
     },
     "execution_count": 88,
     "metadata": {},
     "output_type": "execute_result"
    }
   ],
   "source": [
    "haskey(grades, \"maria\")"
   ]
  },
  {
   "cell_type": "code",
   "execution_count": 89,
   "id": "aeffb1fe",
   "metadata": {},
   "outputs": [
    {
     "data": {
      "text/plain": [
       "100"
      ]
     },
     "execution_count": 89,
     "metadata": {},
     "output_type": "execute_result"
    }
   ],
   "source": [
    "get(grades, \"albert\", \"not found\")"
   ]
  },
  {
   "cell_type": "code",
   "execution_count": 90,
   "id": "e66ecbd4",
   "metadata": {},
   "outputs": [
    {
     "data": {
      "text/plain": [
       "\"not found\""
      ]
     },
     "execution_count": 90,
     "metadata": {},
     "output_type": "execute_result"
    }
   ],
   "source": [
    "get(grades, \"bertrand\", \"not found\")"
   ]
  },
  {
   "cell_type": "code",
   "execution_count": 91,
   "id": "2650edbe",
   "metadata": {},
   "outputs": [
    {
     "data": {
      "text/plain": [
       "85"
      ]
     },
     "execution_count": 91,
     "metadata": {},
     "output_type": "execute_result"
    }
   ],
   "source": [
    "get!(grades, \"bertrand\", 85)"
   ]
  },
  {
   "cell_type": "code",
   "execution_count": 92,
   "id": "1b370ea9",
   "metadata": {},
   "outputs": [
    {
     "data": {
      "text/plain": [
       "Dict{Any, Any} with 5 entries:\n",
       "  \"albert\"   => 100\n",
       "  \"bertrand\" => 85\n",
       "  \"carl\"     => 100\n",
       "  \"maria\"    => 99\n",
       "  \"richard\"  => 97"
      ]
     },
     "execution_count": 92,
     "metadata": {},
     "output_type": "execute_result"
    }
   ],
   "source": [
    "grades"
   ]
  },
  {
   "cell_type": "code",
   "execution_count": 93,
   "id": "3c44e031",
   "metadata": {},
   "outputs": [
    {
     "data": {
      "text/plain": [
       "\"albert\""
      ]
     },
     "execution_count": 93,
     "metadata": {},
     "output_type": "execute_result"
    }
   ],
   "source": [
    "getkey(grades, \"albert\", \"einstein\")"
   ]
  },
  {
   "cell_type": "code",
   "execution_count": 94,
   "id": "47aaf2d0",
   "metadata": {},
   "outputs": [
    {
     "data": {
      "text/plain": [
       "\"newton\""
      ]
     },
     "execution_count": 94,
     "metadata": {},
     "output_type": "execute_result"
    }
   ],
   "source": [
    "getkey(grades, \"issac\", \"newton\")"
   ]
  },
  {
   "cell_type": "code",
   "execution_count": 97,
   "id": "7ca11073",
   "metadata": {},
   "outputs": [
    {
     "data": {
      "text/plain": [
       "Dict{Any, Any} with 4 entries:\n",
       "  \"albert\"   => 100\n",
       "  \"bertrand\" => 85\n",
       "  \"maria\"    => 99\n",
       "  \"richard\"  => 97"
      ]
     },
     "execution_count": 97,
     "metadata": {},
     "output_type": "execute_result"
    }
   ],
   "source": [
    "delete!(grades, \"carl\")"
   ]
  },
  {
   "cell_type": "code",
   "execution_count": 98,
   "id": "5c325427",
   "metadata": {},
   "outputs": [
    {
     "data": {
      "text/plain": [
       "Dict{Any, Any} with 4 entries:\n",
       "  \"albert\"   => 100\n",
       "  \"bertrand\" => 85\n",
       "  \"maria\"    => 99\n",
       "  \"richard\"  => 97"
      ]
     },
     "execution_count": 98,
     "metadata": {},
     "output_type": "execute_result"
    }
   ],
   "source": [
    "grades"
   ]
  },
  {
   "cell_type": "code",
   "execution_count": 101,
   "id": "74fd5977",
   "metadata": {},
   "outputs": [
    {
     "data": {
      "text/plain": [
       "Dict{String, Int64} with 6 entries:\n",
       "  \"f\" => 10\n",
       "  \"c\" => 9\n",
       "  \"e\" => 8\n",
       "  \"b\" => 7\n",
       "  \"a\" => 5\n",
       "  \"d\" => 6"
      ]
     },
     "execution_count": 101,
     "metadata": {},
     "output_type": "execute_result"
    }
   ],
   "source": [
    "dict1 = Dict(\"a\"=>5, \"b\"=>7, \"c\"=>9);\n",
    "dict2 = Dict(\"d\"=>6, \"e\"=>8, \"f\"=> 10);\n",
    "merge(dict1, dict2)"
   ]
  },
  {
   "cell_type": "code",
   "execution_count": 103,
   "id": "e5f7b4d6",
   "metadata": {},
   "outputs": [
    {
     "data": {
      "text/plain": [
       "Dict{String, Int64} with 6 entries:\n",
       "  \"f\" => 10\n",
       "  \"c\" => 9\n",
       "  \"e\" => 8\n",
       "  \"b\" => 7\n",
       "  \"a\" => 5\n",
       "  \"d\" => 6"
      ]
     },
     "execution_count": 103,
     "metadata": {},
     "output_type": "execute_result"
    }
   ],
   "source": [
    "dict1 = Dict(\"a\"=>5, \"b\"=>7, \"c\"=>9);\n",
    "dict2 = Dict(\"d\"=>6, \"e\"=>8, \"f\"=> 10);\n",
    "mergewith(+,dict1, dict2)"
   ]
  },
  {
   "cell_type": "code",
   "execution_count": 104,
   "id": "871df15e",
   "metadata": {},
   "outputs": [
    {
     "data": {
      "text/plain": [
       "Dict{Any, Any} with 3 entries:\n",
       "  3.5   => true\n",
       "  \"two\" => 2\n",
       "  1     => \"one\""
      ]
     },
     "execution_count": 104,
     "metadata": {},
     "output_type": "execute_result"
    }
   ],
   "source": [
    "dct = Dict(1=>\"one\", \"two\"=>2, 3.5=>true)"
   ]
  },
  {
   "cell_type": "code",
   "execution_count": 106,
   "id": "74a5333f",
   "metadata": {},
   "outputs": [
    {
     "data": {
      "text/plain": [
       "KeySet for a Dict{Any, Any} with 3 entries. Keys:\n",
       "  3.5\n",
       "  \"two\"\n",
       "  1"
      ]
     },
     "execution_count": 106,
     "metadata": {},
     "output_type": "execute_result"
    }
   ],
   "source": [
    "keys(dct)"
   ]
  },
  {
   "cell_type": "code",
   "execution_count": 108,
   "id": "b97efaa3",
   "metadata": {},
   "outputs": [
    {
     "data": {
      "text/plain": [
       "ValueIterator for a Dict{Any, Any} with 3 entries. Values:\n",
       "  true\n",
       "  2\n",
       "  \"one\""
      ]
     },
     "execution_count": 108,
     "metadata": {},
     "output_type": "execute_result"
    }
   ],
   "source": [
    "values(dct)"
   ]
  },
  {
   "cell_type": "markdown",
   "id": "68dd907e",
   "metadata": {},
   "source": [
    "# Ranges"
   ]
  },
  {
   "cell_type": "code",
   "execution_count": 109,
   "id": "5505357f",
   "metadata": {},
   "outputs": [
    {
     "data": {
      "text/plain": [
       "1:10"
      ]
     },
     "execution_count": 109,
     "metadata": {},
     "output_type": "execute_result"
    }
   ],
   "source": [
    "1:10"
   ]
  },
  {
   "cell_type": "code",
   "execution_count": 110,
   "id": "b426ccec",
   "metadata": {},
   "outputs": [
    {
     "data": {
      "text/plain": [
       "1:10"
      ]
     },
     "execution_count": 110,
     "metadata": {},
     "output_type": "execute_result"
    }
   ],
   "source": [
    "rng = 1:10"
   ]
  },
  {
   "cell_type": "code",
   "execution_count": 111,
   "id": "a160a780",
   "metadata": {},
   "outputs": [
    {
     "data": {
      "text/plain": [
       "10-element Vector{Int64}:\n",
       "  1\n",
       "  2\n",
       "  3\n",
       "  4\n",
       "  5\n",
       "  6\n",
       "  7\n",
       "  8\n",
       "  9\n",
       " 10"
      ]
     },
     "execution_count": 111,
     "metadata": {},
     "output_type": "execute_result"
    }
   ],
   "source": [
    "collect(rng)"
   ]
  },
  {
   "cell_type": "code",
   "execution_count": 112,
   "id": "694439db",
   "metadata": {},
   "outputs": [
    {
     "data": {
      "text/plain": [
       "16"
      ]
     },
     "execution_count": 112,
     "metadata": {},
     "output_type": "execute_result"
    }
   ],
   "source": [
    "sizeof(1:10)"
   ]
  },
  {
   "cell_type": "code",
   "execution_count": 113,
   "id": "e24ff9bc",
   "metadata": {},
   "outputs": [
    {
     "data": {
      "text/plain": [
       "80"
      ]
     },
     "execution_count": 113,
     "metadata": {},
     "output_type": "execute_result"
    }
   ],
   "source": [
    "sizeof(collect(1:10))"
   ]
  },
  {
   "cell_type": "code",
   "execution_count": 114,
   "id": "18c63d81",
   "metadata": {},
   "outputs": [
    {
     "data": {
      "text/plain": [
       "UnitRange{Int64}"
      ]
     },
     "execution_count": 114,
     "metadata": {},
     "output_type": "execute_result"
    }
   ],
   "source": [
    "typeof(rng)"
   ]
  },
  {
   "cell_type": "code",
   "execution_count": 115,
   "id": "3140b7ca",
   "metadata": {},
   "outputs": [
    {
     "data": {
      "text/plain": [
       "AbstractUnitRange{T} where T<:Real"
      ]
     },
     "execution_count": 115,
     "metadata": {},
     "output_type": "execute_result"
    }
   ],
   "source": [
    "supertype(UnitRange)"
   ]
  },
  {
   "cell_type": "code",
   "execution_count": 116,
   "id": "e55081b0",
   "metadata": {},
   "outputs": [
    {
     "data": {
      "text/plain": [
       "OrdinalRange{T, T} where T"
      ]
     },
     "execution_count": 116,
     "metadata": {},
     "output_type": "execute_result"
    }
   ],
   "source": [
    "supertype(AbstractUnitRange)"
   ]
  },
  {
   "cell_type": "code",
   "execution_count": 117,
   "id": "c4d66178",
   "metadata": {},
   "outputs": [
    {
     "data": {
      "text/plain": [
       "AbstractRange"
      ]
     },
     "execution_count": 117,
     "metadata": {},
     "output_type": "execute_result"
    }
   ],
   "source": [
    "supertype(OrdinalRange)"
   ]
  },
  {
   "cell_type": "code",
   "execution_count": 118,
   "id": "31916e4c",
   "metadata": {},
   "outputs": [
    {
     "data": {
      "text/plain": [
       "AbstractVector\u001b[90m (alias for \u001b[39m\u001b[90mAbstractArray{T, 1} where T\u001b[39m\u001b[90m)\u001b[39m"
      ]
     },
     "execution_count": 118,
     "metadata": {},
     "output_type": "execute_result"
    }
   ],
   "source": [
    "supertype(AbstractRange)"
   ]
  },
  {
   "cell_type": "code",
   "execution_count": 119,
   "id": "e2eedf1f",
   "metadata": {},
   "outputs": [
    {
     "data": {
      "text/plain": [
       "Any"
      ]
     },
     "execution_count": 119,
     "metadata": {},
     "output_type": "execute_result"
    }
   ],
   "source": [
    "supertype(AbstractVector)"
   ]
  },
  {
   "cell_type": "code",
   "execution_count": 120,
   "id": "6cef4aeb",
   "metadata": {},
   "outputs": [
    {
     "data": {
      "text/plain": [
       "1:2:19"
      ]
     },
     "execution_count": 120,
     "metadata": {},
     "output_type": "execute_result"
    }
   ],
   "source": [
    "rng2 = 1:2:20"
   ]
  },
  {
   "cell_type": "code",
   "execution_count": 121,
   "id": "2966a75d",
   "metadata": {},
   "outputs": [
    {
     "data": {
      "text/plain": [
       "20:-2:2"
      ]
     },
     "execution_count": 121,
     "metadata": {},
     "output_type": "execute_result"
    }
   ],
   "source": [
    "rng3 = 20:-2:1"
   ]
  },
  {
   "cell_type": "code",
   "execution_count": 122,
   "id": "a39f05ea",
   "metadata": {},
   "outputs": [
    {
     "data": {
      "text/plain": [
       "-3.0:0.1:3.0"
      ]
     },
     "execution_count": 122,
     "metadata": {},
     "output_type": "execute_result"
    }
   ],
   "source": [
    "-3:0.1:3"
   ]
  },
  {
   "cell_type": "code",
   "execution_count": 123,
   "id": "20bd7ba8",
   "metadata": {},
   "outputs": [
    {
     "data": {
      "text/plain": [
       "0:2:20"
      ]
     },
     "execution_count": 123,
     "metadata": {},
     "output_type": "execute_result"
    }
   ],
   "source": [
    "range(start=0, step=2, stop=20)"
   ]
  },
  {
   "cell_type": "code",
   "execution_count": 124,
   "id": "2182750a",
   "metadata": {},
   "outputs": [
    {
     "data": {
      "text/plain": [
       "2:11"
      ]
     },
     "execution_count": 124,
     "metadata": {},
     "output_type": "execute_result"
    }
   ],
   "source": [
    "range(2, length=10)"
   ]
  },
  {
   "cell_type": "code",
   "execution_count": 125,
   "id": "90ef5081",
   "metadata": {},
   "outputs": [
    {
     "data": {
      "text/plain": [
       "5:20"
      ]
     },
     "execution_count": 125,
     "metadata": {},
     "output_type": "execute_result"
    }
   ],
   "source": [
    "range(5, stop=20)"
   ]
  },
  {
   "cell_type": "code",
   "execution_count": 126,
   "id": "a7cfb4b5",
   "metadata": {},
   "outputs": [
    {
     "data": {
      "text/plain": [
       "4:4:40"
      ]
     },
     "execution_count": 126,
     "metadata": {},
     "output_type": "execute_result"
    }
   ],
   "source": [
    "range(4, step=4, length=10)"
   ]
  },
  {
   "cell_type": "code",
   "execution_count": 127,
   "id": "4d631fb4",
   "metadata": {},
   "outputs": [
    {
     "data": {
      "text/plain": [
       "-3.0:0.06:3.0"
      ]
     },
     "execution_count": 127,
     "metadata": {},
     "output_type": "execute_result"
    }
   ],
   "source": [
    "range(-3,3, length=101)"
   ]
  }
 ],
 "metadata": {
  "kernelspec": {
   "display_name": "Julia 1.8.2",
   "language": "julia",
   "name": "julia-1.8"
  },
  "language_info": {
   "file_extension": ".jl",
   "mimetype": "application/julia",
   "name": "julia",
   "version": "1.8.2"
  }
 },
 "nbformat": 4,
 "nbformat_minor": 5
}
