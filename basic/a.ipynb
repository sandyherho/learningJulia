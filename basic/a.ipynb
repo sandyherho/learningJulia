{
 "cells": [
  {
   "cell_type": "markdown",
   "id": "9f24b29e",
   "metadata": {},
   "source": [
    "# Variables"
   ]
  },
  {
   "cell_type": "code",
   "execution_count": 3,
   "id": "ecddb124",
   "metadata": {},
   "outputs": [
    {
     "data": {
      "text/plain": [
       "42"
      ]
     },
     "execution_count": 3,
     "metadata": {},
     "output_type": "execute_result"
    }
   ],
   "source": [
    "x = 42"
   ]
  },
  {
   "cell_type": "code",
   "execution_count": 4,
   "id": "919854c7",
   "metadata": {},
   "outputs": [
    {
     "data": {
      "text/plain": [
       "44"
      ]
     },
     "execution_count": 4,
     "metadata": {},
     "output_type": "execute_result"
    }
   ],
   "source": [
    "x + 12"
   ]
  },
  {
   "cell_type": "code",
   "execution_count": 8,
   "id": "2fb27fa3",
   "metadata": {},
   "outputs": [],
   "source": [
    "x = 12; y = 15; z = 18;"
   ]
  },
  {
   "cell_type": "code",
   "execution_count": 9,
   "id": "ffe52f46",
   "metadata": {},
   "outputs": [
    {
     "data": {
      "text/plain": [
       "1764"
      ]
     },
     "execution_count": 9,
     "metadata": {},
     "output_type": "execute_result"
    }
   ],
   "source": [
    "y = x^3 + 3*x"
   ]
  },
  {
   "cell_type": "code",
   "execution_count": 12,
   "id": "09f1eae9",
   "metadata": {},
   "outputs": [
    {
     "data": {
      "text/plain": [
       "Float64"
      ]
     },
     "execution_count": 12,
     "metadata": {},
     "output_type": "execute_result"
    }
   ],
   "source": [
    "x = \"Programming in Julia\";\n",
    "z = 3.14;\n",
    "typeof(z)"
   ]
  },
  {
   "cell_type": "code",
   "execution_count": 15,
   "id": "661a1fde",
   "metadata": {},
   "outputs": [
    {
     "data": {
      "text/plain": [
       "String"
      ]
     },
     "execution_count": 15,
     "metadata": {},
     "output_type": "execute_result"
    }
   ],
   "source": [
    "z = \"tst\";\n",
    "typeof(z)"
   ]
  },
  {
   "cell_type": "code",
   "execution_count": 17,
   "id": "118ab4af",
   "metadata": {},
   "outputs": [
    {
     "name": "stdout",
     "output_type": "stream",
     "text": [
      "213\n"
     ]
    }
   ],
   "source": [
    "_abc = 213;\n",
    "println(_abc)"
   ]
  },
  {
   "cell_type": "code",
   "execution_count": 19,
   "id": "fc97331a",
   "metadata": {},
   "outputs": [
    {
     "data": {
      "text/plain": [
       "15"
      ]
     },
     "execution_count": 19,
     "metadata": {},
     "output_type": "execute_result"
    }
   ],
   "source": [
    "α = 15 # \\alpha TAB\n",
    "α"
   ]
  },
  {
   "cell_type": "code",
   "execution_count": 20,
   "id": "12320f8f",
   "metadata": {},
   "outputs": [
    {
     "data": {
      "text/plain": [
       "23"
      ]
     },
     "execution_count": 20,
     "metadata": {},
     "output_type": "execute_result"
    }
   ],
   "source": [
    "β = 23 "
   ]
  },
  {
   "cell_type": "code",
   "execution_count": 22,
   "id": "eb36d0e2",
   "metadata": {},
   "outputs": [
    {
     "data": {
      "text/plain": [
       "345"
      ]
     },
     "execution_count": 22,
     "metadata": {},
     "output_type": "execute_result"
    }
   ],
   "source": [
    "α * β"
   ]
  },
  {
   "cell_type": "code",
   "execution_count": 23,
   "id": "7e8b5b5c",
   "metadata": {},
   "outputs": [
    {
     "data": {
      "text/plain": [
       "3"
      ]
     },
     "execution_count": 23,
     "metadata": {},
     "output_type": "execute_result"
    }
   ],
   "source": [
    "β₀ = 3 # \\beta TAB \\_0 TAB"
   ]
  },
  {
   "cell_type": "code",
   "execution_count": 24,
   "id": "4066ee75",
   "metadata": {},
   "outputs": [
    {
     "data": {
      "text/plain": [
       "4"
      ]
     },
     "execution_count": 24,
     "metadata": {},
     "output_type": "execute_result"
    }
   ],
   "source": [
    "β₁ = 4"
   ]
  },
  {
   "cell_type": "code",
   "execution_count": 25,
   "id": "4f530371",
   "metadata": {},
   "outputs": [
    {
     "data": {
      "text/plain": [
       "13"
      ]
     },
     "execution_count": 25,
     "metadata": {},
     "output_type": "execute_result"
    }
   ],
   "source": [
    "α¹ = 13 # \\alpha TAB \\^1 TAB"
   ]
  },
  {
   "cell_type": "markdown",
   "id": "0c8db41e",
   "metadata": {},
   "source": [
    "Cannot use keywords as variable names : [keywords](https://docs.julialang.org/en/v1/base/base/#Keywords)"
   ]
  },
  {
   "cell_type": "code",
   "execution_count": 27,
   "id": "7f1da5ac",
   "metadata": {},
   "outputs": [
    {
     "ename": "LoadError",
     "evalue": "syntax: unexpected \"=\"",
     "output_type": "error",
     "traceback": [
      "syntax: unexpected \"=\"",
      "",
      "Stacktrace:",
      " [1] top-level scope",
      "   @ In[27]:1",
      " [2] eval",
      "   @ ./boot.jl:368 [inlined]",
      " [3] include_string(mapexpr::typeof(REPL.softscope), mod::Module, code::String, filename::String)",
      "   @ Base ./loading.jl:1428"
     ]
    }
   ],
   "source": [
    "if = 5 # incorrect\n",
    "begin = 3.15"
   ]
  },
  {
   "cell_type": "code",
   "execution_count": 28,
   "id": "a43a860a",
   "metadata": {},
   "outputs": [
    {
     "data": {
      "text/plain": [
       "π = 3.1415926535897..."
      ]
     },
     "execution_count": 28,
     "metadata": {},
     "output_type": "execute_result"
    }
   ],
   "source": [
    "π "
   ]
  },
  {
   "cell_type": "code",
   "execution_count": 29,
   "id": "eba11da1",
   "metadata": {},
   "outputs": [
    {
     "ename": "LoadError",
     "evalue": "cannot assign a value to variable MathConstants.π from module Main",
     "output_type": "error",
     "traceback": [
      "cannot assign a value to variable MathConstants.π from module Main",
      "",
      "Stacktrace:",
      " [1] top-level scope",
      "   @ In[29]:1",
      " [2] eval",
      "   @ ./boot.jl:368 [inlined]",
      " [3] include_string(mapexpr::typeof(REPL.softscope), mod::Module, code::String, filename::String)",
      "   @ Base ./loading.jl:1428"
     ]
    }
   ],
   "source": [
    "π = 45"
   ]
  },
  {
   "cell_type": "code",
   "execution_count": 30,
   "id": "422dd6f6",
   "metadata": {},
   "outputs": [
    {
     "data": {
      "text/plain": [
       "ℯ = 2.7182818284590..."
      ]
     },
     "execution_count": 30,
     "metadata": {},
     "output_type": "execute_result"
    }
   ],
   "source": [
    "ℯ"
   ]
  },
  {
   "cell_type": "code",
   "execution_count": 33,
   "id": "cc62af92",
   "metadata": {},
   "outputs": [
    {
     "data": {
      "text/plain": [
       "3"
      ]
     },
     "execution_count": 33,
     "metadata": {},
     "output_type": "execute_result"
    }
   ],
   "source": [
    "# This is a one-line command\n",
    "#= This is a multi-line command\n",
    "hahah\n",
    "haha\n",
    "=#\n",
    "x = 3"
   ]
  },
  {
   "cell_type": "code",
   "execution_count": 35,
   "id": "24df6a79",
   "metadata": {},
   "outputs": [],
   "source": [
    "rectangle_width = 5;\n",
    "rectangle_length = 12;"
   ]
  },
  {
   "cell_type": "code",
   "execution_count": 36,
   "id": "84b82df8",
   "metadata": {},
   "outputs": [],
   "source": [
    "rectangleWidth = 4;\n",
    "rectangleLength = 16;"
   ]
  },
  {
   "cell_type": "code",
   "execution_count": 38,
   "id": "ac4bfbf5",
   "metadata": {},
   "outputs": [],
   "source": [
    "a, b, c = 4, 7, 9;"
   ]
  },
  {
   "cell_type": "code",
   "execution_count": 39,
   "id": "28c6557f",
   "metadata": {},
   "outputs": [
    {
     "data": {
      "text/plain": [
       "4"
      ]
     },
     "execution_count": 39,
     "metadata": {},
     "output_type": "execute_result"
    }
   ],
   "source": [
    "a"
   ]
  },
  {
   "cell_type": "code",
   "execution_count": 40,
   "id": "c71e3796",
   "metadata": {},
   "outputs": [
    {
     "data": {
      "text/plain": [
       "7"
      ]
     },
     "execution_count": 40,
     "metadata": {},
     "output_type": "execute_result"
    }
   ],
   "source": [
    "b"
   ]
  },
  {
   "cell_type": "code",
   "execution_count": 41,
   "id": "38b9e247",
   "metadata": {},
   "outputs": [
    {
     "data": {
      "text/plain": [
       "9"
      ]
     },
     "execution_count": 41,
     "metadata": {},
     "output_type": "execute_result"
    }
   ],
   "source": [
    "c"
   ]
  },
  {
   "cell_type": "code",
   "execution_count": 42,
   "id": "e900626e",
   "metadata": {},
   "outputs": [
    {
     "data": {
      "text/plain": [
       "(7, 4)"
      ]
     },
     "execution_count": 42,
     "metadata": {},
     "output_type": "execute_result"
    }
   ],
   "source": [
    "a,b = b, a"
   ]
  },
  {
   "cell_type": "code",
   "execution_count": 44,
   "id": "6a16f43c",
   "metadata": {},
   "outputs": [
    {
     "data": {
      "text/plain": [
       "7"
      ]
     },
     "execution_count": 44,
     "metadata": {},
     "output_type": "execute_result"
    }
   ],
   "source": [
    "# other prog langs\n",
    "d = b\n",
    "b = a\n",
    "d = a"
   ]
  },
  {
   "cell_type": "code",
   "execution_count": 46,
   "id": "efc8fe89",
   "metadata": {},
   "outputs": [
    {
     "data": {
      "text/plain": [
       "15"
      ]
     },
     "execution_count": 46,
     "metadata": {},
     "output_type": "execute_result"
    }
   ],
   "source": [
    "(7 + 8)::Int"
   ]
  },
  {
   "cell_type": "code",
   "execution_count": 47,
   "id": "fac072f7",
   "metadata": {},
   "outputs": [
    {
     "data": {
      "text/plain": [
       "5.859874482048838"
      ]
     },
     "execution_count": 47,
     "metadata": {},
     "output_type": "execute_result"
    }
   ],
   "source": [
    "(π + ℯ)::Float64"
   ]
  },
  {
   "cell_type": "code",
   "execution_count": 48,
   "id": "98420187",
   "metadata": {},
   "outputs": [
    {
     "ename": "LoadError",
     "evalue": "TypeError: in typeassert, expected Int64, got a value of type Float64",
     "output_type": "error",
     "traceback": [
      "TypeError: in typeassert, expected Int64, got a value of type Float64",
      "",
      "Stacktrace:",
      " [1] top-level scope",
      "   @ In[48]:1",
      " [2] eval",
      "   @ ./boot.jl:368 [inlined]",
      " [3] include_string(mapexpr::typeof(REPL.softscope), mod::Module, code::String, filename::String)",
      "   @ Base ./loading.jl:1428"
     ]
    }
   ],
   "source": [
    "(2.5 + 5)::Int"
   ]
  },
  {
   "cell_type": "code",
   "execution_count": 49,
   "id": "2f75d24c",
   "metadata": {},
   "outputs": [
    {
     "data": {
      "text/plain": [
       "Int64"
      ]
     },
     "execution_count": 49,
     "metadata": {},
     "output_type": "execute_result"
    }
   ],
   "source": [
    "x = 13;\n",
    "typeof(x)"
   ]
  },
  {
   "cell_type": "code",
   "execution_count": 50,
   "id": "16a98c89",
   "metadata": {},
   "outputs": [
    {
     "data": {
      "text/plain": [
       "String"
      ]
     },
     "execution_count": 50,
     "metadata": {},
     "output_type": "execute_result"
    }
   ],
   "source": [
    "x = \"thirteen\";\n",
    "typeof(x)"
   ]
  },
  {
   "cell_type": "code",
   "execution_count": 51,
   "id": "5103bd83",
   "metadata": {},
   "outputs": [],
   "source": [
    "const MYCONST = 42; # define constant"
   ]
  },
  {
   "cell_type": "code",
   "execution_count": 52,
   "id": "2d06e331",
   "metadata": {},
   "outputs": [
    {
     "ename": "LoadError",
     "evalue": "invalid redefinition of constant MYCONST",
     "output_type": "error",
     "traceback": [
      "invalid redefinition of constant MYCONST",
      "",
      "Stacktrace:",
      " [1] top-level scope",
      "   @ In[52]:2",
      " [2] eval",
      "   @ ./boot.jl:368 [inlined]",
      " [3] include_string(mapexpr::typeof(REPL.softscope), mod::Module, code::String, filename::String)",
      "   @ Base ./loading.jl:1428"
     ]
    }
   ],
   "source": [
    "# try to change value\n",
    "MYCONST = 3.2"
   ]
  },
  {
   "cell_type": "code",
   "execution_count": 53,
   "id": "c6e29695",
   "metadata": {},
   "outputs": [
    {
     "name": "stderr",
     "output_type": "stream",
     "text": [
      "WARNING: redefinition of constant MYCONST. This may fail, cause incorrect answers, or produce other errors.\n"
     ]
    },
    {
     "data": {
      "text/plain": [
       "44"
      ]
     },
     "execution_count": 53,
     "metadata": {},
     "output_type": "execute_result"
    }
   ],
   "source": [
    "MYCONST = 44"
   ]
  },
  {
   "cell_type": "markdown",
   "id": "bc55d016",
   "metadata": {},
   "source": [
    "# Type Hierarchy"
   ]
  },
  {
   "cell_type": "code",
   "execution_count": 54,
   "id": "e75c8597",
   "metadata": {},
   "outputs": [
    {
     "data": {
      "text/plain": [
       "593-element Vector{Any}:\n",
       " AbstractArray\n",
       " AbstractChannel\n",
       " AbstractChar\n",
       " AbstractDict\n",
       " AbstractDisplay\n",
       " AbstractMatch\n",
       " AbstractPattern\n",
       " AbstractSet\n",
       " AbstractString\n",
       " Any\n",
       " Base.AbstractBroadcasted\n",
       " Base.AbstractCartesianIndex\n",
       " Base.AbstractCmd\n",
       " ⋮\n",
       " Timer\n",
       " Tuple\n",
       " Type\n",
       " TypeVar\n",
       " UndefInitializer\n",
       " Val\n",
       " VecElement\n",
       " VersionNumber\n",
       " WeakRef\n",
       " ZMQ.Context\n",
       " ZMQ.Socket\n",
       " ZMQ._Message"
      ]
     },
     "execution_count": 54,
     "metadata": {},
     "output_type": "execute_result"
    }
   ],
   "source": [
    "subtypes(Any)"
   ]
  },
  {
   "cell_type": "code",
   "execution_count": 55,
   "id": "57738ff2",
   "metadata": {},
   "outputs": [
    {
     "data": {
      "text/plain": [
       "Any"
      ]
     },
     "execution_count": 55,
     "metadata": {},
     "output_type": "execute_result"
    }
   ],
   "source": [
    "supertype(Number)"
   ]
  },
  {
   "cell_type": "code",
   "execution_count": 57,
   "id": "4b6cde57",
   "metadata": {},
   "outputs": [
    {
     "data": {
      "text/plain": [
       "2-element Vector{Any}:\n",
       " Complex\n",
       " Real"
      ]
     },
     "execution_count": 57,
     "metadata": {},
     "output_type": "execute_result"
    }
   ],
   "source": [
    "subtypes(Number)"
   ]
  },
  {
   "cell_type": "code",
   "execution_count": 58,
   "id": "5bc2065b",
   "metadata": {},
   "outputs": [
    {
     "data": {
      "text/plain": [
       "Type[]"
      ]
     },
     "execution_count": 58,
     "metadata": {},
     "output_type": "execute_result"
    }
   ],
   "source": [
    "subtypes(Complex)"
   ]
  },
  {
   "cell_type": "code",
   "execution_count": 59,
   "id": "4a0d9672",
   "metadata": {},
   "outputs": [
    {
     "data": {
      "text/plain": [
       "4-element Vector{Any}:\n",
       " AbstractFloat\n",
       " AbstractIrrational\n",
       " Integer\n",
       " Rational"
      ]
     },
     "execution_count": 59,
     "metadata": {},
     "output_type": "execute_result"
    }
   ],
   "source": [
    "subtypes(Real)"
   ]
  },
  {
   "cell_type": "code",
   "execution_count": 60,
   "id": "10d78bba",
   "metadata": {},
   "outputs": [
    {
     "data": {
      "text/plain": [
       "true"
      ]
     },
     "execution_count": 60,
     "metadata": {},
     "output_type": "execute_result"
    }
   ],
   "source": [
    "Complex <: Number # is Complex a subtype of Number"
   ]
  },
  {
   "cell_type": "code",
   "execution_count": 61,
   "id": "e9e595fa",
   "metadata": {},
   "outputs": [
    {
     "data": {
      "text/plain": [
       "true"
      ]
     },
     "execution_count": 61,
     "metadata": {},
     "output_type": "execute_result"
    }
   ],
   "source": [
    "Int64 <: Signed"
   ]
  },
  {
   "cell_type": "code",
   "execution_count": 63,
   "id": "d25baf74",
   "metadata": {},
   "outputs": [
    {
     "data": {
      "text/plain": [
       "false"
      ]
     },
     "execution_count": 63,
     "metadata": {},
     "output_type": "execute_result"
    }
   ],
   "source": [
    "Float64 <: Complex"
   ]
  },
  {
   "cell_type": "code",
   "execution_count": 64,
   "id": "21839884",
   "metadata": {},
   "outputs": [
    {
     "data": {
      "text/plain": [
       "true"
      ]
     },
     "execution_count": 64,
     "metadata": {},
     "output_type": "execute_result"
    }
   ],
   "source": [
    "Int32 <: Signed"
   ]
  },
  {
   "cell_type": "code",
   "execution_count": 65,
   "id": "c7d3529e",
   "metadata": {},
   "outputs": [
    {
     "data": {
      "text/plain": [
       "true"
      ]
     },
     "execution_count": 65,
     "metadata": {},
     "output_type": "execute_result"
    }
   ],
   "source": [
    "Int32 <: Real"
   ]
  },
  {
   "cell_type": "code",
   "execution_count": null,
   "id": "06bbd218",
   "metadata": {},
   "outputs": [],
   "source": []
  }
 ],
 "metadata": {
  "kernelspec": {
   "display_name": "Julia 1.8.2",
   "language": "julia",
   "name": "julia-1.8"
  },
  "language_info": {
   "file_extension": ".jl",
   "mimetype": "application/julia",
   "name": "julia",
   "version": "1.8.2"
  }
 },
 "nbformat": 4,
 "nbformat_minor": 5
}
