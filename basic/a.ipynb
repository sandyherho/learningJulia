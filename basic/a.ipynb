{
 "cells": [
  {
   "cell_type": "markdown",
   "id": "9f24b29e",
   "metadata": {},
   "source": [
    "# Variables"
   ]
  },
  {
   "cell_type": "code",
   "execution_count": 1,
   "id": "ecddb124",
   "metadata": {},
   "outputs": [
    {
     "data": {
      "text/plain": [
       "42"
      ]
     },
     "execution_count": 1,
     "metadata": {},
     "output_type": "execute_result"
    }
   ],
   "source": [
    "x = 42"
   ]
  },
  {
   "cell_type": "code",
   "execution_count": 2,
   "id": "919854c7",
   "metadata": {},
   "outputs": [
    {
     "data": {
      "text/plain": [
       "54"
      ]
     },
     "execution_count": 2,
     "metadata": {},
     "output_type": "execute_result"
    }
   ],
   "source": [
    "x + 12"
   ]
  },
  {
   "cell_type": "code",
   "execution_count": 3,
   "id": "2fb27fa3",
   "metadata": {},
   "outputs": [],
   "source": [
    "x = 12; y = 15; z = 18;"
   ]
  },
  {
   "cell_type": "code",
   "execution_count": 4,
   "id": "ffe52f46",
   "metadata": {},
   "outputs": [
    {
     "data": {
      "text/plain": [
       "1764"
      ]
     },
     "execution_count": 4,
     "metadata": {},
     "output_type": "execute_result"
    }
   ],
   "source": [
    "y = x^3 + 3*x"
   ]
  },
  {
   "cell_type": "code",
   "execution_count": 5,
   "id": "09f1eae9",
   "metadata": {},
   "outputs": [
    {
     "data": {
      "text/plain": [
       "Float64"
      ]
     },
     "execution_count": 5,
     "metadata": {},
     "output_type": "execute_result"
    }
   ],
   "source": [
    "x = \"Programming in Julia\";\n",
    "z = 3.14;\n",
    "typeof(z)"
   ]
  },
  {
   "cell_type": "code",
   "execution_count": 6,
   "id": "661a1fde",
   "metadata": {},
   "outputs": [
    {
     "data": {
      "text/plain": [
       "String"
      ]
     },
     "execution_count": 6,
     "metadata": {},
     "output_type": "execute_result"
    }
   ],
   "source": [
    "z = \"tst\";\n",
    "typeof(z)"
   ]
  },
  {
   "cell_type": "code",
   "execution_count": 7,
   "id": "118ab4af",
   "metadata": {},
   "outputs": [
    {
     "name": "stdout",
     "output_type": "stream",
     "text": [
      "213\n"
     ]
    }
   ],
   "source": [
    "_abc = 213;\n",
    "println(_abc)"
   ]
  },
  {
   "cell_type": "code",
   "execution_count": 8,
   "id": "fc97331a",
   "metadata": {},
   "outputs": [
    {
     "data": {
      "text/plain": [
       "15"
      ]
     },
     "execution_count": 8,
     "metadata": {},
     "output_type": "execute_result"
    }
   ],
   "source": [
    "α = 15 # \\alpha TAB\n",
    "α"
   ]
  },
  {
   "cell_type": "code",
   "execution_count": 9,
   "id": "12320f8f",
   "metadata": {},
   "outputs": [
    {
     "data": {
      "text/plain": [
       "23"
      ]
     },
     "execution_count": 9,
     "metadata": {},
     "output_type": "execute_result"
    }
   ],
   "source": [
    "β = 23 "
   ]
  },
  {
   "cell_type": "code",
   "execution_count": 10,
   "id": "eb36d0e2",
   "metadata": {},
   "outputs": [
    {
     "data": {
      "text/plain": [
       "345"
      ]
     },
     "execution_count": 10,
     "metadata": {},
     "output_type": "execute_result"
    }
   ],
   "source": [
    "α * β"
   ]
  },
  {
   "cell_type": "code",
   "execution_count": 11,
   "id": "7e8b5b5c",
   "metadata": {},
   "outputs": [
    {
     "data": {
      "text/plain": [
       "3"
      ]
     },
     "execution_count": 11,
     "metadata": {},
     "output_type": "execute_result"
    }
   ],
   "source": [
    "β₀ = 3 # \\beta TAB \\_0 TAB"
   ]
  },
  {
   "cell_type": "code",
   "execution_count": 12,
   "id": "4066ee75",
   "metadata": {},
   "outputs": [
    {
     "data": {
      "text/plain": [
       "4"
      ]
     },
     "execution_count": 12,
     "metadata": {},
     "output_type": "execute_result"
    }
   ],
   "source": [
    "β₁ = 4"
   ]
  },
  {
   "cell_type": "code",
   "execution_count": 13,
   "id": "4f530371",
   "metadata": {},
   "outputs": [
    {
     "data": {
      "text/plain": [
       "13"
      ]
     },
     "execution_count": 13,
     "metadata": {},
     "output_type": "execute_result"
    }
   ],
   "source": [
    "α¹ = 13 # \\alpha TAB \\^1 TAB"
   ]
  },
  {
   "cell_type": "markdown",
   "id": "0c8db41e",
   "metadata": {},
   "source": [
    "Cannot use keywords as variable names : [keywords](https://docs.julialang.org/en/v1/base/base/#Keywords)"
   ]
  },
  {
   "cell_type": "code",
   "execution_count": 14,
   "id": "7f1da5ac",
   "metadata": {},
   "outputs": [
    {
     "ename": "LoadError",
     "evalue": "syntax: unexpected \"=\"",
     "output_type": "error",
     "traceback": [
      "syntax: unexpected \"=\"",
      "",
      "Stacktrace:",
      " [1] top-level scope",
      "   @ In[14]:1",
      " [2] eval",
      "   @ ./boot.jl:368 [inlined]",
      " [3] include_string(mapexpr::typeof(REPL.softscope), mod::Module, code::String, filename::String)",
      "   @ Base ./loading.jl:1428"
     ]
    }
   ],
   "source": [
    "if = 5 # incorrect\n",
    "begin = 3.15"
   ]
  },
  {
   "cell_type": "code",
   "execution_count": 15,
   "id": "a43a860a",
   "metadata": {},
   "outputs": [
    {
     "data": {
      "text/plain": [
       "π = 3.1415926535897..."
      ]
     },
     "execution_count": 15,
     "metadata": {},
     "output_type": "execute_result"
    }
   ],
   "source": [
    "π "
   ]
  },
  {
   "cell_type": "code",
   "execution_count": 16,
   "id": "eba11da1",
   "metadata": {},
   "outputs": [
    {
     "ename": "LoadError",
     "evalue": "cannot assign a value to variable MathConstants.π from module Main",
     "output_type": "error",
     "traceback": [
      "cannot assign a value to variable MathConstants.π from module Main",
      "",
      "Stacktrace:",
      " [1] top-level scope",
      "   @ In[16]:1",
      " [2] eval",
      "   @ ./boot.jl:368 [inlined]",
      " [3] include_string(mapexpr::typeof(REPL.softscope), mod::Module, code::String, filename::String)",
      "   @ Base ./loading.jl:1428"
     ]
    }
   ],
   "source": [
    "π = 45"
   ]
  },
  {
   "cell_type": "code",
   "execution_count": 17,
   "id": "422dd6f6",
   "metadata": {},
   "outputs": [
    {
     "data": {
      "text/plain": [
       "ℯ = 2.7182818284590..."
      ]
     },
     "execution_count": 17,
     "metadata": {},
     "output_type": "execute_result"
    }
   ],
   "source": [
    "ℯ"
   ]
  },
  {
   "cell_type": "code",
   "execution_count": 18,
   "id": "cc62af92",
   "metadata": {},
   "outputs": [
    {
     "data": {
      "text/plain": [
       "3"
      ]
     },
     "execution_count": 18,
     "metadata": {},
     "output_type": "execute_result"
    }
   ],
   "source": [
    "# This is a one-line command\n",
    "#= This is a multi-line command\n",
    "hahah\n",
    "haha\n",
    "=#\n",
    "x = 3"
   ]
  },
  {
   "cell_type": "code",
   "execution_count": 19,
   "id": "24df6a79",
   "metadata": {},
   "outputs": [],
   "source": [
    "rectangle_width = 5;\n",
    "rectangle_length = 12;"
   ]
  },
  {
   "cell_type": "code",
   "execution_count": 20,
   "id": "84b82df8",
   "metadata": {},
   "outputs": [],
   "source": [
    "rectangleWidth = 4;\n",
    "rectangleLength = 16;"
   ]
  },
  {
   "cell_type": "code",
   "execution_count": 21,
   "id": "ac4bfbf5",
   "metadata": {},
   "outputs": [],
   "source": [
    "a, b, c = 4, 7, 9;"
   ]
  },
  {
   "cell_type": "code",
   "execution_count": 22,
   "id": "28c6557f",
   "metadata": {},
   "outputs": [
    {
     "data": {
      "text/plain": [
       "4"
      ]
     },
     "execution_count": 22,
     "metadata": {},
     "output_type": "execute_result"
    }
   ],
   "source": [
    "a"
   ]
  },
  {
   "cell_type": "code",
   "execution_count": 23,
   "id": "c71e3796",
   "metadata": {},
   "outputs": [
    {
     "data": {
      "text/plain": [
       "7"
      ]
     },
     "execution_count": 23,
     "metadata": {},
     "output_type": "execute_result"
    }
   ],
   "source": [
    "b"
   ]
  },
  {
   "cell_type": "code",
   "execution_count": 24,
   "id": "38b9e247",
   "metadata": {},
   "outputs": [
    {
     "data": {
      "text/plain": [
       "9"
      ]
     },
     "execution_count": 24,
     "metadata": {},
     "output_type": "execute_result"
    }
   ],
   "source": [
    "c"
   ]
  },
  {
   "cell_type": "code",
   "execution_count": 25,
   "id": "e900626e",
   "metadata": {},
   "outputs": [
    {
     "data": {
      "text/plain": [
       "(7, 4)"
      ]
     },
     "execution_count": 25,
     "metadata": {},
     "output_type": "execute_result"
    }
   ],
   "source": [
    "a,b = b, a"
   ]
  },
  {
   "cell_type": "code",
   "execution_count": 26,
   "id": "6a16f43c",
   "metadata": {},
   "outputs": [
    {
     "data": {
      "text/plain": [
       "7"
      ]
     },
     "execution_count": 26,
     "metadata": {},
     "output_type": "execute_result"
    }
   ],
   "source": [
    "# other prog langs\n",
    "d = b\n",
    "b = a\n",
    "d = a"
   ]
  },
  {
   "cell_type": "code",
   "execution_count": 27,
   "id": "efc8fe89",
   "metadata": {},
   "outputs": [
    {
     "data": {
      "text/plain": [
       "15"
      ]
     },
     "execution_count": 27,
     "metadata": {},
     "output_type": "execute_result"
    }
   ],
   "source": [
    "(7 + 8)::Int"
   ]
  },
  {
   "cell_type": "code",
   "execution_count": 28,
   "id": "fac072f7",
   "metadata": {},
   "outputs": [
    {
     "data": {
      "text/plain": [
       "5.859874482048838"
      ]
     },
     "execution_count": 28,
     "metadata": {},
     "output_type": "execute_result"
    }
   ],
   "source": [
    "(π + ℯ)::Float64"
   ]
  },
  {
   "cell_type": "code",
   "execution_count": 29,
   "id": "98420187",
   "metadata": {},
   "outputs": [
    {
     "ename": "LoadError",
     "evalue": "TypeError: in typeassert, expected Int64, got a value of type Float64",
     "output_type": "error",
     "traceback": [
      "TypeError: in typeassert, expected Int64, got a value of type Float64",
      "",
      "Stacktrace:",
      " [1] top-level scope",
      "   @ In[29]:1",
      " [2] eval",
      "   @ ./boot.jl:368 [inlined]",
      " [3] include_string(mapexpr::typeof(REPL.softscope), mod::Module, code::String, filename::String)",
      "   @ Base ./loading.jl:1428"
     ]
    }
   ],
   "source": [
    "(2.5 + 5)::Int"
   ]
  },
  {
   "cell_type": "code",
   "execution_count": 30,
   "id": "2f75d24c",
   "metadata": {},
   "outputs": [
    {
     "data": {
      "text/plain": [
       "Int64"
      ]
     },
     "execution_count": 30,
     "metadata": {},
     "output_type": "execute_result"
    }
   ],
   "source": [
    "x = 13;\n",
    "typeof(x)"
   ]
  },
  {
   "cell_type": "code",
   "execution_count": 31,
   "id": "16a98c89",
   "metadata": {},
   "outputs": [
    {
     "data": {
      "text/plain": [
       "String"
      ]
     },
     "execution_count": 31,
     "metadata": {},
     "output_type": "execute_result"
    }
   ],
   "source": [
    "x = \"thirteen\";\n",
    "typeof(x)"
   ]
  },
  {
   "cell_type": "code",
   "execution_count": 32,
   "id": "5103bd83",
   "metadata": {},
   "outputs": [],
   "source": [
    "const MYCONST = 42; # define constant"
   ]
  },
  {
   "cell_type": "code",
   "execution_count": 33,
   "id": "2d06e331",
   "metadata": {},
   "outputs": [
    {
     "ename": "LoadError",
     "evalue": "invalid redefinition of constant MYCONST",
     "output_type": "error",
     "traceback": [
      "invalid redefinition of constant MYCONST",
      "",
      "Stacktrace:",
      " [1] top-level scope",
      "   @ In[33]:2",
      " [2] eval",
      "   @ ./boot.jl:368 [inlined]",
      " [3] include_string(mapexpr::typeof(REPL.softscope), mod::Module, code::String, filename::String)",
      "   @ Base ./loading.jl:1428"
     ]
    }
   ],
   "source": [
    "# try to change value\n",
    "MYCONST = 3.2"
   ]
  },
  {
   "cell_type": "code",
   "execution_count": 34,
   "id": "c6e29695",
   "metadata": {},
   "outputs": [
    {
     "name": "stderr",
     "output_type": "stream",
     "text": [
      "WARNING: redefinition of constant MYCONST. This may fail, cause incorrect answers, or produce other errors.\n"
     ]
    },
    {
     "data": {
      "text/plain": [
       "44"
      ]
     },
     "execution_count": 34,
     "metadata": {},
     "output_type": "execute_result"
    }
   ],
   "source": [
    "MYCONST = 44"
   ]
  },
  {
   "cell_type": "markdown",
   "id": "bc55d016",
   "metadata": {},
   "source": [
    "# Type Hierarchy"
   ]
  },
  {
   "cell_type": "code",
   "execution_count": 35,
   "id": "e75c8597",
   "metadata": {},
   "outputs": [
    {
     "data": {
      "text/plain": [
       "593-element Vector{Any}:\n",
       " AbstractArray\n",
       " AbstractChannel\n",
       " AbstractChar\n",
       " AbstractDict\n",
       " AbstractDisplay\n",
       " AbstractMatch\n",
       " AbstractPattern\n",
       " AbstractSet\n",
       " AbstractString\n",
       " Any\n",
       " Base.AbstractBroadcasted\n",
       " Base.AbstractCartesianIndex\n",
       " Base.AbstractCmd\n",
       " ⋮\n",
       " Timer\n",
       " Tuple\n",
       " Type\n",
       " TypeVar\n",
       " UndefInitializer\n",
       " Val\n",
       " VecElement\n",
       " VersionNumber\n",
       " WeakRef\n",
       " ZMQ.Context\n",
       " ZMQ.Socket\n",
       " ZMQ._Message"
      ]
     },
     "execution_count": 35,
     "metadata": {},
     "output_type": "execute_result"
    }
   ],
   "source": [
    "subtypes(Any)"
   ]
  },
  {
   "cell_type": "code",
   "execution_count": 36,
   "id": "57738ff2",
   "metadata": {},
   "outputs": [
    {
     "data": {
      "text/plain": [
       "Any"
      ]
     },
     "execution_count": 36,
     "metadata": {},
     "output_type": "execute_result"
    }
   ],
   "source": [
    "supertype(Number)"
   ]
  },
  {
   "cell_type": "code",
   "execution_count": 37,
   "id": "4b6cde57",
   "metadata": {},
   "outputs": [
    {
     "data": {
      "text/plain": [
       "2-element Vector{Any}:\n",
       " Complex\n",
       " Real"
      ]
     },
     "execution_count": 37,
     "metadata": {},
     "output_type": "execute_result"
    }
   ],
   "source": [
    "subtypes(Number)"
   ]
  },
  {
   "cell_type": "code",
   "execution_count": 38,
   "id": "5bc2065b",
   "metadata": {},
   "outputs": [
    {
     "data": {
      "text/plain": [
       "Type[]"
      ]
     },
     "execution_count": 38,
     "metadata": {},
     "output_type": "execute_result"
    }
   ],
   "source": [
    "subtypes(Complex)"
   ]
  },
  {
   "cell_type": "code",
   "execution_count": 39,
   "id": "4a0d9672",
   "metadata": {},
   "outputs": [
    {
     "data": {
      "text/plain": [
       "4-element Vector{Any}:\n",
       " AbstractFloat\n",
       " AbstractIrrational\n",
       " Integer\n",
       " Rational"
      ]
     },
     "execution_count": 39,
     "metadata": {},
     "output_type": "execute_result"
    }
   ],
   "source": [
    "subtypes(Real)"
   ]
  },
  {
   "cell_type": "code",
   "execution_count": 40,
   "id": "10d78bba",
   "metadata": {},
   "outputs": [
    {
     "data": {
      "text/plain": [
       "true"
      ]
     },
     "execution_count": 40,
     "metadata": {},
     "output_type": "execute_result"
    }
   ],
   "source": [
    "Complex <: Number # is Complex a subtype of Number"
   ]
  },
  {
   "cell_type": "code",
   "execution_count": 41,
   "id": "e9e595fa",
   "metadata": {},
   "outputs": [
    {
     "data": {
      "text/plain": [
       "true"
      ]
     },
     "execution_count": 41,
     "metadata": {},
     "output_type": "execute_result"
    }
   ],
   "source": [
    "Int64 <: Signed"
   ]
  },
  {
   "cell_type": "code",
   "execution_count": 42,
   "id": "d25baf74",
   "metadata": {},
   "outputs": [
    {
     "data": {
      "text/plain": [
       "false"
      ]
     },
     "execution_count": 42,
     "metadata": {},
     "output_type": "execute_result"
    }
   ],
   "source": [
    "Float64 <: Complex"
   ]
  },
  {
   "cell_type": "code",
   "execution_count": 43,
   "id": "21839884",
   "metadata": {},
   "outputs": [
    {
     "data": {
      "text/plain": [
       "true"
      ]
     },
     "execution_count": 43,
     "metadata": {},
     "output_type": "execute_result"
    }
   ],
   "source": [
    "Int32 <: Signed"
   ]
  },
  {
   "cell_type": "code",
   "execution_count": 44,
   "id": "c7d3529e",
   "metadata": {},
   "outputs": [
    {
     "data": {
      "text/plain": [
       "true"
      ]
     },
     "execution_count": 44,
     "metadata": {},
     "output_type": "execute_result"
    }
   ],
   "source": [
    "Int32 <: Real"
   ]
  },
  {
   "cell_type": "markdown",
   "id": "71d66ed3",
   "metadata": {},
   "source": [
    "# Integers and Floating-Point Numbers"
   ]
  },
  {
   "cell_type": "code",
   "execution_count": 45,
   "id": "059bfcac",
   "metadata": {},
   "outputs": [
    {
     "data": {
      "text/plain": [
       "127"
      ]
     },
     "execution_count": 45,
     "metadata": {},
     "output_type": "execute_result"
    }
   ],
   "source": [
    "typemax(Int8) # max value"
   ]
  },
  {
   "cell_type": "code",
   "execution_count": 46,
   "id": "13c69eef",
   "metadata": {},
   "outputs": [
    {
     "data": {
      "text/plain": [
       "32767"
      ]
     },
     "execution_count": 46,
     "metadata": {},
     "output_type": "execute_result"
    }
   ],
   "source": [
    "typemax(Int16)"
   ]
  },
  {
   "cell_type": "code",
   "execution_count": 47,
   "id": "7330fc88",
   "metadata": {},
   "outputs": [
    {
     "data": {
      "text/plain": [
       "-9223372036854775808"
      ]
     },
     "execution_count": 47,
     "metadata": {},
     "output_type": "execute_result"
    }
   ],
   "source": [
    "typemin(Int64)"
   ]
  },
  {
   "cell_type": "code",
   "execution_count": 48,
   "id": "a744c4de",
   "metadata": {},
   "outputs": [
    {
     "data": {
      "text/plain": [
       "Int64"
      ]
     },
     "execution_count": 48,
     "metadata": {},
     "output_type": "execute_result"
    }
   ],
   "source": [
    "typeof(12)"
   ]
  },
  {
   "cell_type": "code",
   "execution_count": 49,
   "id": "f3e9c88f",
   "metadata": {},
   "outputs": [
    {
     "data": {
      "text/plain": [
       "Int64"
      ]
     },
     "execution_count": 49,
     "metadata": {},
     "output_type": "execute_result"
    }
   ],
   "source": [
    "Int"
   ]
  },
  {
   "cell_type": "code",
   "execution_count": 50,
   "id": "d4627771",
   "metadata": {},
   "outputs": [
    {
     "data": {
      "text/plain": [
       "UInt64"
      ]
     },
     "execution_count": 50,
     "metadata": {},
     "output_type": "execute_result"
    }
   ],
   "source": [
    "UInt"
   ]
  },
  {
   "cell_type": "code",
   "execution_count": 51,
   "id": "93bd7842",
   "metadata": {},
   "outputs": [
    {
     "data": {
      "text/plain": [
       "64"
      ]
     },
     "execution_count": 51,
     "metadata": {},
     "output_type": "execute_result"
    }
   ],
   "source": [
    "Sys.WORD_SIZE"
   ]
  },
  {
   "cell_type": "code",
   "execution_count": 52,
   "id": "c35841ff",
   "metadata": {},
   "outputs": [
    {
     "data": {
      "text/plain": [
       "9223372036854775807"
      ]
     },
     "execution_count": 52,
     "metadata": {},
     "output_type": "execute_result"
    }
   ],
   "source": [
    "x = typemax(Int64)"
   ]
  },
  {
   "cell_type": "code",
   "execution_count": 53,
   "id": "fadd397b",
   "metadata": {},
   "outputs": [
    {
     "data": {
      "text/plain": [
       "-9223372036854775808"
      ]
     },
     "execution_count": 53,
     "metadata": {},
     "output_type": "execute_result"
    }
   ],
   "source": [
    "x + 1"
   ]
  },
  {
   "cell_type": "code",
   "execution_count": 54,
   "id": "7b66bc60",
   "metadata": {},
   "outputs": [
    {
     "data": {
      "text/plain": [
       "true"
      ]
     },
     "execution_count": 54,
     "metadata": {},
     "output_type": "execute_result"
    }
   ],
   "source": [
    "(x + 1) == typemin(Int64)"
   ]
  },
  {
   "cell_type": "code",
   "execution_count": 55,
   "id": "f98f3de2",
   "metadata": {},
   "outputs": [
    {
     "data": {
      "text/plain": [
       "170141183460469231731687303715884105727"
      ]
     },
     "execution_count": 55,
     "metadata": {},
     "output_type": "execute_result"
    }
   ],
   "source": [
    "y = typemax(Int128)"
   ]
  },
  {
   "cell_type": "code",
   "execution_count": 56,
   "id": "70b580f4",
   "metadata": {},
   "outputs": [
    {
     "data": {
      "text/plain": [
       "true"
      ]
     },
     "execution_count": 56,
     "metadata": {},
     "output_type": "execute_result"
    }
   ],
   "source": [
    "(y + 1) == typemin(Int128)"
   ]
  },
  {
   "cell_type": "code",
   "execution_count": 57,
   "id": "ca211643",
   "metadata": {},
   "outputs": [
    {
     "data": {
      "text/plain": [
       "-5376172055173529600"
      ]
     },
     "execution_count": 57,
     "metadata": {},
     "output_type": "execute_result"
    }
   ],
   "source": [
    "10^50"
   ]
  },
  {
   "cell_type": "code",
   "execution_count": 58,
   "id": "7f30c9a2",
   "metadata": {},
   "outputs": [
    {
     "data": {
      "text/plain": [
       "100000000000000000000000000000000000000000000000000"
      ]
     },
     "execution_count": 58,
     "metadata": {},
     "output_type": "execute_result"
    }
   ],
   "source": [
    "big(10)^50"
   ]
  },
  {
   "cell_type": "code",
   "execution_count": 59,
   "id": "52cd5342",
   "metadata": {},
   "outputs": [
    {
     "data": {
      "text/plain": [
       "0.35"
      ]
     },
     "execution_count": 59,
     "metadata": {},
     "output_type": "execute_result"
    }
   ],
   "source": [
    ".35 "
   ]
  },
  {
   "cell_type": "code",
   "execution_count": 60,
   "id": "40b3cfe8",
   "metadata": {},
   "outputs": [
    {
     "data": {
      "text/plain": [
       "314.0"
      ]
     },
     "execution_count": 60,
     "metadata": {},
     "output_type": "execute_result"
    }
   ],
   "source": [
    "3.14e2"
   ]
  },
  {
   "cell_type": "code",
   "execution_count": 61,
   "id": "aca4c55f",
   "metadata": {},
   "outputs": [
    {
     "data": {
      "text/plain": [
       "0.0278"
      ]
     },
     "execution_count": 61,
     "metadata": {},
     "output_type": "execute_result"
    }
   ],
   "source": [
    "2.78e-2"
   ]
  },
  {
   "cell_type": "code",
   "execution_count": 62,
   "id": "7c2931b9",
   "metadata": {},
   "outputs": [
    {
     "data": {
      "text/plain": [
       "Float64"
      ]
     },
     "execution_count": 62,
     "metadata": {},
     "output_type": "execute_result"
    }
   ],
   "source": [
    "typeof(2.2e2)"
   ]
  },
  {
   "cell_type": "code",
   "execution_count": 63,
   "id": "b527e32d",
   "metadata": {},
   "outputs": [
    {
     "data": {
      "text/plain": [
       "220.0f0"
      ]
     },
     "execution_count": 63,
     "metadata": {},
     "output_type": "execute_result"
    }
   ],
   "source": [
    "2.2f2"
   ]
  },
  {
   "cell_type": "code",
   "execution_count": 64,
   "id": "bb86e4cd",
   "metadata": {},
   "outputs": [
    {
     "data": {
      "text/plain": [
       "Float32"
      ]
     },
     "execution_count": 64,
     "metadata": {},
     "output_type": "execute_result"
    }
   ],
   "source": [
    "typeof(2.2f2)"
   ]
  },
  {
   "cell_type": "code",
   "execution_count": 65,
   "id": "6e416d66",
   "metadata": {},
   "outputs": [
    {
     "data": {
      "text/plain": [
       "3"
      ]
     },
     "execution_count": 65,
     "metadata": {},
     "output_type": "execute_result"
    }
   ],
   "source": [
    "Int16(3.0)"
   ]
  },
  {
   "cell_type": "code",
   "execution_count": 66,
   "id": "b7630baf",
   "metadata": {},
   "outputs": [
    {
     "data": {
      "text/plain": [
       "Float64"
      ]
     },
     "execution_count": 66,
     "metadata": {},
     "output_type": "execute_result"
    }
   ],
   "source": [
    "typeof(3.32)"
   ]
  },
  {
   "cell_type": "code",
   "execution_count": 67,
   "id": "a7d47bd9",
   "metadata": {},
   "outputs": [
    {
     "data": {
      "text/plain": [
       "3.32f0"
      ]
     },
     "execution_count": 67,
     "metadata": {},
     "output_type": "execute_result"
    }
   ],
   "source": [
    "Float32(3.32)"
   ]
  },
  {
   "cell_type": "code",
   "execution_count": 68,
   "id": "f5ab5dac",
   "metadata": {},
   "outputs": [
    {
     "data": {
      "text/plain": [
       "8"
      ]
     },
     "execution_count": 68,
     "metadata": {},
     "output_type": "execute_result"
    }
   ],
   "source": [
    "α = 235.12\n",
    "sizeof(α)"
   ]
  },
  {
   "cell_type": "code",
   "execution_count": 69,
   "id": "265089ee",
   "metadata": {},
   "outputs": [
    {
     "data": {
      "text/plain": [
       "235.12f0"
      ]
     },
     "execution_count": 69,
     "metadata": {},
     "output_type": "execute_result"
    }
   ],
   "source": [
    "β = Float32(α)"
   ]
  },
  {
   "cell_type": "code",
   "execution_count": 70,
   "id": "563ffd31",
   "metadata": {},
   "outputs": [
    {
     "data": {
      "text/plain": [
       "4"
      ]
     },
     "execution_count": 70,
     "metadata": {},
     "output_type": "execute_result"
    }
   ],
   "source": [
    "sizeof(β)"
   ]
  },
  {
   "cell_type": "code",
   "execution_count": 71,
   "id": "e440d262",
   "metadata": {},
   "outputs": [
    {
     "data": {
      "text/plain": [
       "5000000"
      ]
     },
     "execution_count": 71,
     "metadata": {},
     "output_type": "execute_result"
    }
   ],
   "source": [
    "x = 5_000_000"
   ]
  },
  {
   "cell_type": "code",
   "execution_count": 72,
   "id": "f6aa49a4",
   "metadata": {},
   "outputs": [
    {
     "data": {
      "text/plain": [
       "20000000"
      ]
     },
     "execution_count": 72,
     "metadata": {},
     "output_type": "execute_result"
    }
   ],
   "source": [
    "y = 20_000_000"
   ]
  },
  {
   "cell_type": "code",
   "execution_count": 73,
   "id": "49fb7b9c",
   "metadata": {},
   "outputs": [
    {
     "data": {
      "text/plain": [
       "15000000"
      ]
     },
     "execution_count": 73,
     "metadata": {},
     "output_type": "execute_result"
    }
   ],
   "source": [
    "y - x"
   ]
  },
  {
   "cell_type": "code",
   "execution_count": 74,
   "id": "73c10584",
   "metadata": {},
   "outputs": [
    {
     "data": {
      "text/plain": [
       "Inf"
      ]
     },
     "execution_count": 74,
     "metadata": {},
     "output_type": "execute_result"
    }
   ],
   "source": [
    "Inf"
   ]
  },
  {
   "cell_type": "code",
   "execution_count": 75,
   "id": "519a973f",
   "metadata": {},
   "outputs": [
    {
     "data": {
      "text/plain": [
       "-Inf"
      ]
     },
     "execution_count": 75,
     "metadata": {},
     "output_type": "execute_result"
    }
   ],
   "source": [
    "-Inf"
   ]
  },
  {
   "cell_type": "code",
   "execution_count": 76,
   "id": "1c3958e6",
   "metadata": {},
   "outputs": [
    {
     "data": {
      "text/plain": [
       "Inf16"
      ]
     },
     "execution_count": 76,
     "metadata": {},
     "output_type": "execute_result"
    }
   ],
   "source": [
    "Inf16"
   ]
  },
  {
   "cell_type": "code",
   "execution_count": 77,
   "id": "d7a83118",
   "metadata": {},
   "outputs": [
    {
     "data": {
      "text/plain": [
       "Inf32"
      ]
     },
     "execution_count": 77,
     "metadata": {},
     "output_type": "execute_result"
    }
   ],
   "source": [
    "Inf32"
   ]
  },
  {
   "cell_type": "code",
   "execution_count": 78,
   "id": "b266127f",
   "metadata": {},
   "outputs": [
    {
     "data": {
      "text/plain": [
       "0.0"
      ]
     },
     "execution_count": 78,
     "metadata": {},
     "output_type": "execute_result"
    }
   ],
   "source": [
    "1 / Inf"
   ]
  },
  {
   "cell_type": "code",
   "execution_count": 79,
   "id": "0830a2e7",
   "metadata": {},
   "outputs": [
    {
     "data": {
      "text/plain": [
       "Inf"
      ]
     },
     "execution_count": 79,
     "metadata": {},
     "output_type": "execute_result"
    }
   ],
   "source": [
    "1/0"
   ]
  },
  {
   "cell_type": "code",
   "execution_count": 80,
   "id": "bd770574",
   "metadata": {},
   "outputs": [
    {
     "data": {
      "text/plain": [
       "NaN"
      ]
     },
     "execution_count": 80,
     "metadata": {},
     "output_type": "execute_result"
    }
   ],
   "source": [
    "0 / 0"
   ]
  },
  {
   "cell_type": "code",
   "execution_count": 81,
   "id": "803735c5",
   "metadata": {},
   "outputs": [
    {
     "data": {
      "text/plain": [
       "NaN"
      ]
     },
     "execution_count": 81,
     "metadata": {},
     "output_type": "execute_result"
    }
   ],
   "source": [
    "0 * Inf"
   ]
  },
  {
   "cell_type": "code",
   "execution_count": 82,
   "id": "b00a297f",
   "metadata": {},
   "outputs": [
    {
     "data": {
      "text/plain": [
       "true"
      ]
     },
     "execution_count": 82,
     "metadata": {},
     "output_type": "execute_result"
    }
   ],
   "source": [
    "x = 6; y = 0; z = 0\n",
    "isinf(x/y)"
   ]
  },
  {
   "cell_type": "code",
   "execution_count": 83,
   "id": "ba83db94",
   "metadata": {},
   "outputs": [
    {
     "data": {
      "text/plain": [
       "true"
      ]
     },
     "execution_count": 83,
     "metadata": {},
     "output_type": "execute_result"
    }
   ],
   "source": [
    "isnan(y/z)"
   ]
  },
  {
   "cell_type": "code",
   "execution_count": 84,
   "id": "e23f7b07",
   "metadata": {},
   "outputs": [
    {
     "data": {
      "text/plain": [
       "2.220446049250313e-16"
      ]
     },
     "execution_count": 84,
     "metadata": {},
     "output_type": "execute_result"
    }
   ],
   "source": [
    "eps()"
   ]
  },
  {
   "cell_type": "code",
   "execution_count": 85,
   "id": "f50ac0af",
   "metadata": {},
   "outputs": [
    {
     "data": {
      "text/plain": [
       "1.1920929f-7"
      ]
     },
     "execution_count": 85,
     "metadata": {},
     "output_type": "execute_result"
    }
   ],
   "source": [
    "eps(Float32)"
   ]
  },
  {
   "cell_type": "code",
   "execution_count": 86,
   "id": "5ff53251",
   "metadata": {},
   "outputs": [
    {
     "data": {
      "text/plain": [
       "Float16(0.000977)"
      ]
     },
     "execution_count": 86,
     "metadata": {},
     "output_type": "execute_result"
    }
   ],
   "source": [
    "eps(Float16)"
   ]
  },
  {
   "cell_type": "code",
   "execution_count": 87,
   "id": "b7adebd4",
   "metadata": {},
   "outputs": [
    {
     "data": {
      "text/plain": [
       "2.220446049250313e-16"
      ]
     },
     "execution_count": 87,
     "metadata": {},
     "output_type": "execute_result"
    }
   ],
   "source": [
    "eps(1.0)"
   ]
  },
  {
   "cell_type": "code",
   "execution_count": 88,
   "id": "6ad62bd8",
   "metadata": {},
   "outputs": [
    {
     "data": {
      "text/plain": [
       "1.4210854715202004e-14"
      ]
     },
     "execution_count": 88,
     "metadata": {},
     "output_type": "execute_result"
    }
   ],
   "source": [
    "eps(100.0)"
   ]
  },
  {
   "cell_type": "code",
   "execution_count": 89,
   "id": "b5bbc644",
   "metadata": {},
   "outputs": [
    {
     "data": {
      "text/plain": [
       "Bool"
      ]
     },
     "execution_count": 89,
     "metadata": {},
     "output_type": "execute_result"
    }
   ],
   "source": [
    "typeof(true)"
   ]
  },
  {
   "cell_type": "code",
   "execution_count": 90,
   "id": "136892ae",
   "metadata": {},
   "outputs": [
    {
     "data": {
      "text/plain": [
       "Bool"
      ]
     },
     "execution_count": 90,
     "metadata": {},
     "output_type": "execute_result"
    }
   ],
   "source": [
    "typeof(false)"
   ]
  },
  {
   "cell_type": "code",
   "execution_count": 91,
   "id": "6477a477",
   "metadata": {},
   "outputs": [
    {
     "data": {
      "text/plain": [
       "true"
      ]
     },
     "execution_count": 91,
     "metadata": {},
     "output_type": "execute_result"
    }
   ],
   "source": [
    "Bool(1)"
   ]
  },
  {
   "cell_type": "code",
   "execution_count": 92,
   "id": "bcc56e6b",
   "metadata": {},
   "outputs": [
    {
     "data": {
      "text/plain": [
       "false"
      ]
     },
     "execution_count": 92,
     "metadata": {},
     "output_type": "execute_result"
    }
   ],
   "source": [
    "Bool(0)"
   ]
  },
  {
   "cell_type": "code",
   "execution_count": 93,
   "id": "084bcbd4",
   "metadata": {},
   "outputs": [
    {
     "data": {
      "text/plain": [
       "true"
      ]
     },
     "execution_count": 93,
     "metadata": {},
     "output_type": "execute_result"
    }
   ],
   "source": [
    "true == 1"
   ]
  },
  {
   "cell_type": "code",
   "execution_count": 94,
   "id": "c8f951ef",
   "metadata": {},
   "outputs": [
    {
     "data": {
      "text/plain": [
       "true"
      ]
     },
     "execution_count": 94,
     "metadata": {},
     "output_type": "execute_result"
    }
   ],
   "source": [
    "false == 0"
   ]
  },
  {
   "cell_type": "markdown",
   "id": "9635f9fb",
   "metadata": {},
   "source": [
    "# Complex and Rational Numbers"
   ]
  },
  {
   "cell_type": "code",
   "execution_count": 95,
   "id": "9d013c93",
   "metadata": {},
   "outputs": [
    {
     "data": {
      "text/plain": [
       "3 + 4im"
      ]
     },
     "execution_count": 95,
     "metadata": {},
     "output_type": "execute_result"
    }
   ],
   "source": [
    "x = 3 + 4im"
   ]
  },
  {
   "cell_type": "code",
   "execution_count": 96,
   "id": "c5c9df2c",
   "metadata": {},
   "outputs": [
    {
     "data": {
      "text/plain": [
       "Complex{Int64}"
      ]
     },
     "execution_count": 96,
     "metadata": {},
     "output_type": "execute_result"
    }
   ],
   "source": [
    "typeof(x)"
   ]
  },
  {
   "cell_type": "code",
   "execution_count": 97,
   "id": "2b9de1c0",
   "metadata": {},
   "outputs": [
    {
     "data": {
      "text/plain": [
       "2.1 + 3.5im"
      ]
     },
     "execution_count": 97,
     "metadata": {},
     "output_type": "execute_result"
    }
   ],
   "source": [
    "y = 2.1 + 3.5im"
   ]
  },
  {
   "cell_type": "code",
   "execution_count": 98,
   "id": "c37ded33",
   "metadata": {},
   "outputs": [
    {
     "data": {
      "text/plain": [
       "ComplexF64\u001b[90m (alias for \u001b[39m\u001b[90mComplex{Float64}\u001b[39m\u001b[90m)\u001b[39m"
      ]
     },
     "execution_count": 98,
     "metadata": {},
     "output_type": "execute_result"
    }
   ],
   "source": [
    "typeof(y)"
   ]
  },
  {
   "cell_type": "code",
   "execution_count": 99,
   "id": "f1bba06e",
   "metadata": {},
   "outputs": [
    {
     "data": {
      "text/plain": [
       "-1 + 0im"
      ]
     },
     "execution_count": 99,
     "metadata": {},
     "output_type": "execute_result"
    }
   ],
   "source": [
    "im^2"
   ]
  },
  {
   "cell_type": "code",
   "execution_count": 100,
   "id": "b78dc9f1",
   "metadata": {},
   "outputs": [
    {
     "ename": "LoadError",
     "evalue": "DomainError with -1.0:\nsqrt will only return a complex result if called with a complex argument. Try sqrt(Complex(x)).",
     "output_type": "error",
     "traceback": [
      "DomainError with -1.0:\nsqrt will only return a complex result if called with a complex argument. Try sqrt(Complex(x)).",
      "",
      "Stacktrace:",
      " [1] throw_complex_domainerror(f::Symbol, x::Float64)",
      "   @ Base.Math ./math.jl:33",
      " [2] sqrt",
      "   @ ./math.jl:591 [inlined]",
      " [3] sqrt(x::Int64)",
      "   @ Base.Math ./math.jl:1372",
      " [4] top-level scope",
      "   @ In[100]:1",
      " [5] eval",
      "   @ ./boot.jl:368 [inlined]",
      " [6] include_string(mapexpr::typeof(REPL.softscope), mod::Module, code::String, filename::String)",
      "   @ Base ./loading.jl:1428"
     ]
    }
   ],
   "source": [
    "sqrt(-1)"
   ]
  },
  {
   "cell_type": "code",
   "execution_count": 101,
   "id": "77d90f01",
   "metadata": {},
   "outputs": [
    {
     "data": {
      "text/plain": [
       "0.0 + 1.0im"
      ]
     },
     "execution_count": 101,
     "metadata": {},
     "output_type": "execute_result"
    }
   ],
   "source": [
    "√Complex(-1)"
   ]
  },
  {
   "cell_type": "code",
   "execution_count": 102,
   "id": "d47496da",
   "metadata": {},
   "outputs": [
    {
     "data": {
      "text/plain": [
       "0.0 + 1.0im"
      ]
     },
     "execution_count": 102,
     "metadata": {},
     "output_type": "execute_result"
    }
   ],
   "source": [
    "√(-1 + 0im)"
   ]
  },
  {
   "cell_type": "code",
   "execution_count": 103,
   "id": "83a1137e",
   "metadata": {},
   "outputs": [
    {
     "data": {
      "text/plain": [
       "2.1 + 7.0im"
      ]
     },
     "execution_count": 103,
     "metadata": {},
     "output_type": "execute_result"
    }
   ],
   "source": [
    "a = 2.1; b=7.0;\n",
    "complex(a, b)"
   ]
  },
  {
   "cell_type": "code",
   "execution_count": 104,
   "id": "6455569d",
   "metadata": {},
   "outputs": [
    {
     "data": {
      "text/plain": [
       "-4 + 20im"
      ]
     },
     "execution_count": 104,
     "metadata": {},
     "output_type": "execute_result"
    }
   ],
   "source": [
    "(2 + 3im) * (4 + 4im)"
   ]
  },
  {
   "cell_type": "code",
   "execution_count": 105,
   "id": "d5450013",
   "metadata": {},
   "outputs": [
    {
     "data": {
      "text/plain": [
       "5 + 7im"
      ]
     },
     "execution_count": 105,
     "metadata": {},
     "output_type": "execute_result"
    }
   ],
   "source": [
    "c = 5 + 7im"
   ]
  },
  {
   "cell_type": "code",
   "execution_count": 106,
   "id": "38df78eb",
   "metadata": {},
   "outputs": [
    {
     "data": {
      "text/plain": [
       "5"
      ]
     },
     "execution_count": 106,
     "metadata": {},
     "output_type": "execute_result"
    }
   ],
   "source": [
    "real(c)"
   ]
  },
  {
   "cell_type": "code",
   "execution_count": 107,
   "id": "1b4792f7",
   "metadata": {},
   "outputs": [
    {
     "data": {
      "text/plain": [
       "7"
      ]
     },
     "execution_count": 107,
     "metadata": {},
     "output_type": "execute_result"
    }
   ],
   "source": [
    "imag(c)"
   ]
  },
  {
   "cell_type": "code",
   "execution_count": 108,
   "id": "bad69695",
   "metadata": {},
   "outputs": [
    {
     "data": {
      "text/plain": [
       "8 - 5im"
      ]
     },
     "execution_count": 108,
     "metadata": {},
     "output_type": "execute_result"
    }
   ],
   "source": [
    "conj(8 + 5im)"
   ]
  },
  {
   "cell_type": "code",
   "execution_count": 109,
   "id": "695bf7b3",
   "metadata": {},
   "outputs": [
    {
     "data": {
      "text/plain": [
       "5//7"
      ]
     },
     "execution_count": 109,
     "metadata": {},
     "output_type": "execute_result"
    }
   ],
   "source": [
    "x = 5 // 7"
   ]
  },
  {
   "cell_type": "code",
   "execution_count": 110,
   "id": "f592eac1",
   "metadata": {},
   "outputs": [
    {
     "data": {
      "text/plain": [
       "Rational{Int64}"
      ]
     },
     "execution_count": 110,
     "metadata": {},
     "output_type": "execute_result"
    }
   ],
   "source": [
    "typeof(x)"
   ]
  },
  {
   "cell_type": "code",
   "execution_count": 111,
   "id": "9a5ea2e8",
   "metadata": {},
   "outputs": [
    {
     "data": {
      "text/plain": [
       "5//7"
      ]
     },
     "execution_count": 111,
     "metadata": {},
     "output_type": "execute_result"
    }
   ],
   "source": [
    "y = 15//21"
   ]
  },
  {
   "cell_type": "code",
   "execution_count": 112,
   "id": "887ba1bf",
   "metadata": {},
   "outputs": [
    {
     "data": {
      "text/plain": [
       "Rational{Int64}"
      ]
     },
     "execution_count": 112,
     "metadata": {},
     "output_type": "execute_result"
    }
   ],
   "source": [
    "typeof(y)"
   ]
  },
  {
   "cell_type": "code",
   "execution_count": 113,
   "id": "fc9f706a",
   "metadata": {},
   "outputs": [
    {
     "data": {
      "text/plain": [
       "true"
      ]
     },
     "execution_count": 113,
     "metadata": {},
     "output_type": "execute_result"
    }
   ],
   "source": [
    "isa(1, Int)"
   ]
  },
  {
   "cell_type": "code",
   "execution_count": 114,
   "id": "e06c7856",
   "metadata": {},
   "outputs": [
    {
     "data": {
      "text/plain": [
       "true"
      ]
     },
     "execution_count": 114,
     "metadata": {},
     "output_type": "execute_result"
    }
   ],
   "source": [
    "isa(4 + 2im, Complex)"
   ]
  },
  {
   "cell_type": "code",
   "execution_count": 115,
   "id": "25eca955",
   "metadata": {},
   "outputs": [
    {
     "data": {
      "text/plain": [
       "true"
      ]
     },
     "execution_count": 115,
     "metadata": {},
     "output_type": "execute_result"
    }
   ],
   "source": [
    "isa(\"Julia\", String)"
   ]
  },
  {
   "cell_type": "markdown",
   "id": "86425729",
   "metadata": {},
   "source": [
    "# Character and String"
   ]
  },
  {
   "cell_type": "code",
   "execution_count": 116,
   "id": "d6591734",
   "metadata": {},
   "outputs": [
    {
     "data": {
      "text/plain": [
       "'a': ASCII/Unicode U+0061 (category Ll: Letter, lowercase)"
      ]
     },
     "execution_count": 116,
     "metadata": {},
     "output_type": "execute_result"
    }
   ],
   "source": [
    "chr = 'a'"
   ]
  },
  {
   "cell_type": "code",
   "execution_count": 117,
   "id": "e7fbbb33",
   "metadata": {},
   "outputs": [
    {
     "data": {
      "text/plain": [
       "Char"
      ]
     },
     "execution_count": 117,
     "metadata": {},
     "output_type": "execute_result"
    }
   ],
   "source": [
    "typeof(chr)"
   ]
  },
  {
   "cell_type": "code",
   "execution_count": 118,
   "id": "35e87e86",
   "metadata": {},
   "outputs": [
    {
     "data": {
      "text/plain": [
       "97"
      ]
     },
     "execution_count": 118,
     "metadata": {},
     "output_type": "execute_result"
    }
   ],
   "source": [
    "numchr = Int(chr)"
   ]
  },
  {
   "cell_type": "code",
   "execution_count": 119,
   "id": "9e6da007",
   "metadata": {},
   "outputs": [
    {
     "data": {
      "text/plain": [
       "Char"
      ]
     },
     "execution_count": 119,
     "metadata": {},
     "output_type": "execute_result"
    }
   ],
   "source": [
    "typeof(chr)"
   ]
  },
  {
   "cell_type": "code",
   "execution_count": 120,
   "id": "95d38701",
   "metadata": {},
   "outputs": [
    {
     "data": {
      "text/plain": [
       "'σ': Unicode U+03C3 (category Ll: Letter, lowercase)"
      ]
     },
     "execution_count": 120,
     "metadata": {},
     "output_type": "execute_result"
    }
   ],
   "source": [
    "unichar = 'σ'"
   ]
  },
  {
   "cell_type": "code",
   "execution_count": 121,
   "id": "e90bb655",
   "metadata": {},
   "outputs": [
    {
     "data": {
      "text/plain": [
       "'Σ': Unicode U+03A3 (category Lu: Letter, uppercase)"
      ]
     },
     "execution_count": 121,
     "metadata": {},
     "output_type": "execute_result"
    }
   ],
   "source": [
    "'\\u03A3'"
   ]
  },
  {
   "cell_type": "code",
   "execution_count": 122,
   "id": "8a4113f8",
   "metadata": {},
   "outputs": [
    {
     "data": {
      "text/plain": [
       "'α': Unicode U+03B1 (category Ll: Letter, lowercase)"
      ]
     },
     "execution_count": 122,
     "metadata": {},
     "output_type": "execute_result"
    }
   ],
   "source": [
    "'\\u03B1'"
   ]
  },
  {
   "cell_type": "code",
   "execution_count": 123,
   "id": "279760c1",
   "metadata": {},
   "outputs": [
    {
     "data": {
      "text/plain": [
       "\"Julia string\""
      ]
     },
     "execution_count": 123,
     "metadata": {},
     "output_type": "execute_result"
    }
   ],
   "source": [
    "str = \"Julia string\""
   ]
  },
  {
   "cell_type": "code",
   "execution_count": 124,
   "id": "50c6eace",
   "metadata": {},
   "outputs": [
    {
     "data": {
      "text/plain": [
       "String"
      ]
     },
     "execution_count": 124,
     "metadata": {},
     "output_type": "execute_result"
    }
   ],
   "source": [
    "longstr = \"\"\"Another Julia string\"\"\"\n",
    "typeof(longstr)"
   ]
  },
  {
   "cell_type": "code",
   "execution_count": 125,
   "id": "fe43b097",
   "metadata": {},
   "outputs": [
    {
     "data": {
      "text/plain": [
       "\"Julia language\""
      ]
     },
     "execution_count": 125,
     "metadata": {},
     "output_type": "execute_result"
    }
   ],
   "source": [
    "str = \"Julia language\""
   ]
  },
  {
   "cell_type": "code",
   "execution_count": 126,
   "id": "c969acaa",
   "metadata": {},
   "outputs": [
    {
     "data": {
      "text/plain": [
       "'J': ASCII/Unicode U+004A (category Lu: Letter, uppercase)"
      ]
     },
     "execution_count": 126,
     "metadata": {},
     "output_type": "execute_result"
    }
   ],
   "source": [
    "str[1]"
   ]
  },
  {
   "cell_type": "code",
   "execution_count": 127,
   "id": "edc0a6d0",
   "metadata": {},
   "outputs": [
    {
     "data": {
      "text/plain": [
       "'e': ASCII/Unicode U+0065 (category Ll: Letter, lowercase)"
      ]
     },
     "execution_count": 127,
     "metadata": {},
     "output_type": "execute_result"
    }
   ],
   "source": [
    "str[14]"
   ]
  },
  {
   "cell_type": "code",
   "execution_count": 128,
   "id": "fbcdf8bb",
   "metadata": {},
   "outputs": [
    {
     "data": {
      "text/plain": [
       "'J': ASCII/Unicode U+004A (category Lu: Letter, uppercase)"
      ]
     },
     "execution_count": 128,
     "metadata": {},
     "output_type": "execute_result"
    }
   ],
   "source": [
    "str[begin]"
   ]
  },
  {
   "cell_type": "code",
   "execution_count": 129,
   "id": "af1a57b7",
   "metadata": {},
   "outputs": [
    {
     "data": {
      "text/plain": [
       "'e': ASCII/Unicode U+0065 (category Ll: Letter, lowercase)"
      ]
     },
     "execution_count": 129,
     "metadata": {},
     "output_type": "execute_result"
    }
   ],
   "source": [
    "str[end]"
   ]
  },
  {
   "cell_type": "code",
   "execution_count": 130,
   "id": "7f5aedcf",
   "metadata": {},
   "outputs": [
    {
     "data": {
      "text/plain": [
       "'g': ASCII/Unicode U+0067 (category Ll: Letter, lowercase)"
      ]
     },
     "execution_count": 130,
     "metadata": {},
     "output_type": "execute_result"
    }
   ],
   "source": [
    "str[end - 1]"
   ]
  },
  {
   "cell_type": "code",
   "execution_count": 131,
   "id": "8ca2f2e4",
   "metadata": {},
   "outputs": [
    {
     "data": {
      "text/plain": [
       "'l': ASCII/Unicode U+006C (category Ll: Letter, lowercase)"
      ]
     },
     "execution_count": 131,
     "metadata": {},
     "output_type": "execute_result"
    }
   ],
   "source": [
    "str[end ÷ 2]"
   ]
  },
  {
   "cell_type": "code",
   "execution_count": 132,
   "id": "030228ed",
   "metadata": {},
   "outputs": [
    {
     "data": {
      "text/plain": [
       "\"Julia language\""
      ]
     },
     "execution_count": 132,
     "metadata": {},
     "output_type": "execute_result"
    }
   ],
   "source": [
    "str"
   ]
  },
  {
   "cell_type": "code",
   "execution_count": 133,
   "id": "44799293",
   "metadata": {},
   "outputs": [
    {
     "data": {
      "text/plain": [
       "\"lia\""
      ]
     },
     "execution_count": 133,
     "metadata": {},
     "output_type": "execute_result"
    }
   ],
   "source": [
    "str[3:5]"
   ]
  },
  {
   "cell_type": "code",
   "execution_count": 134,
   "id": "fe84207d",
   "metadata": {},
   "outputs": [
    {
     "data": {
      "text/plain": [
       "\"guage\""
      ]
     },
     "execution_count": 134,
     "metadata": {},
     "output_type": "execute_result"
    }
   ],
   "source": [
    "str[end - 4: end]"
   ]
  },
  {
   "cell_type": "code",
   "execution_count": 135,
   "id": "2426b8ec",
   "metadata": {},
   "outputs": [
    {
     "data": {
      "text/plain": [
       "1"
      ]
     },
     "execution_count": 135,
     "metadata": {},
     "output_type": "execute_result"
    }
   ],
   "source": [
    "firstindex(str)"
   ]
  },
  {
   "cell_type": "code",
   "execution_count": 136,
   "id": "ae537064",
   "metadata": {},
   "outputs": [
    {
     "data": {
      "text/plain": [
       "14"
      ]
     },
     "execution_count": 136,
     "metadata": {},
     "output_type": "execute_result"
    }
   ],
   "source": [
    "lastindex(str)"
   ]
  },
  {
   "cell_type": "code",
   "execution_count": 137,
   "id": "95ecb664",
   "metadata": {},
   "outputs": [
    {
     "data": {
      "text/plain": [
       "14"
      ]
     },
     "execution_count": 137,
     "metadata": {},
     "output_type": "execute_result"
    }
   ],
   "source": [
    "length(str)"
   ]
  },
  {
   "cell_type": "code",
   "execution_count": 138,
   "id": "ca919df9",
   "metadata": {},
   "outputs": [
    {
     "data": {
      "text/plain": [
       "\"αβΣ\""
      ]
     },
     "execution_count": 138,
     "metadata": {},
     "output_type": "execute_result"
    }
   ],
   "source": [
    "newstr = \"αβΣ\""
   ]
  },
  {
   "cell_type": "code",
   "execution_count": 139,
   "id": "e32df3c3",
   "metadata": {},
   "outputs": [
    {
     "data": {
      "text/plain": [
       "1"
      ]
     },
     "execution_count": 139,
     "metadata": {},
     "output_type": "execute_result"
    }
   ],
   "source": [
    "firstindex(newstr)"
   ]
  },
  {
   "cell_type": "code",
   "execution_count": 140,
   "id": "9d2117f2",
   "metadata": {},
   "outputs": [
    {
     "data": {
      "text/plain": [
       "5"
      ]
     },
     "execution_count": 140,
     "metadata": {},
     "output_type": "execute_result"
    }
   ],
   "source": [
    "lastindex(newstr)"
   ]
  },
  {
   "cell_type": "code",
   "execution_count": 141,
   "id": "2aed6b4a",
   "metadata": {},
   "outputs": [
    {
     "data": {
      "text/plain": [
       "'α': Unicode U+03B1 (category Ll: Letter, lowercase)"
      ]
     },
     "execution_count": 141,
     "metadata": {},
     "output_type": "execute_result"
    }
   ],
   "source": [
    "newstr[1]"
   ]
  },
  {
   "cell_type": "code",
   "execution_count": 142,
   "id": "67482e91",
   "metadata": {},
   "outputs": [
    {
     "ename": "LoadError",
     "evalue": "StringIndexError: invalid index [2], valid nearby indices [1]=>'α', [3]=>'β'",
     "output_type": "error",
     "traceback": [
      "StringIndexError: invalid index [2], valid nearby indices [1]=>'α', [3]=>'β'",
      "",
      "Stacktrace:",
      " [1] string_index_err(s::String, i::Int64)",
      "   @ Base ./strings/string.jl:12",
      " [2] getindex_continued(s::String, i::Int64, u::UInt32)",
      "   @ Base ./strings/string.jl:237",
      " [3] getindex(s::String, i::Int64)",
      "   @ Base ./strings/string.jl:230",
      " [4] top-level scope",
      "   @ In[142]:1",
      " [5] eval",
      "   @ ./boot.jl:368 [inlined]",
      " [6] include_string(mapexpr::typeof(REPL.softscope), mod::Module, code::String, filename::String)",
      "   @ Base ./loading.jl:1428"
     ]
    }
   ],
   "source": [
    "newstr[2]"
   ]
  },
  {
   "cell_type": "code",
   "execution_count": 144,
   "id": "1870f55d",
   "metadata": {},
   "outputs": [
    {
     "data": {
      "text/plain": [
       "'β': Unicode U+03B2 (category Ll: Letter, lowercase)"
      ]
     },
     "execution_count": 144,
     "metadata": {},
     "output_type": "execute_result"
    }
   ],
   "source": [
    "newstr[3]\n",
    "# not all char encoded in a single bit"
   ]
  },
  {
   "cell_type": "code",
   "execution_count": 145,
   "id": "5fbb5326",
   "metadata": {},
   "outputs": [
    {
     "data": {
      "text/plain": [
       "7"
      ]
     },
     "execution_count": 145,
     "metadata": {},
     "output_type": "execute_result"
    }
   ],
   "source": [
    "c = \"∞ α a Σ\"\n",
    "length(c)"
   ]
  },
  {
   "cell_type": "code",
   "execution_count": 146,
   "id": "5fd8953c",
   "metadata": {},
   "outputs": [
    {
     "data": {
      "text/plain": [
       "10"
      ]
     },
     "execution_count": 146,
     "metadata": {},
     "output_type": "execute_result"
    }
   ],
   "source": [
    "lastindex(c)"
   ]
  },
  {
   "cell_type": "code",
   "execution_count": 148,
   "id": "368590bf",
   "metadata": {},
   "outputs": [
    {
     "data": {
      "text/plain": [
       "3"
      ]
     },
     "execution_count": 148,
     "metadata": {},
     "output_type": "execute_result"
    }
   ],
   "source": [
    "ncodeunits(\"→\")"
   ]
  },
  {
   "cell_type": "code",
   "execution_count": 149,
   "id": "f78bfa2b",
   "metadata": {},
   "outputs": [
    {
     "data": {
      "text/plain": [
       "\"Julia programming is the best.\""
      ]
     },
     "execution_count": 149,
     "metadata": {},
     "output_type": "execute_result"
    }
   ],
   "source": [
    "str1 = \"Julia programming \"; str2 = \"is the best.\";\n",
    "string(str1, str2)"
   ]
  },
  {
   "cell_type": "code",
   "execution_count": 151,
   "id": "a2420772",
   "metadata": {},
   "outputs": [
    {
     "data": {
      "text/plain": [
       "\"Julia programming is the best.\""
      ]
     },
     "execution_count": 151,
     "metadata": {},
     "output_type": "execute_result"
    }
   ],
   "source": [
    "str1 * \"\" * str2 "
   ]
  },
  {
   "cell_type": "code",
   "execution_count": 152,
   "id": "06292c72",
   "metadata": {},
   "outputs": [
    {
     "data": {
      "text/plain": [
       "\"Julia Julia Julia Julia \""
      ]
     },
     "execution_count": 152,
     "metadata": {},
     "output_type": "execute_result"
    }
   ],
   "source": [
    "\"Julia \"^4"
   ]
  },
  {
   "cell_type": "code",
   "execution_count": 153,
   "id": "bf29115e",
   "metadata": {},
   "outputs": [
    {
     "data": {
      "text/plain": [
       "\"First num is 4, second num is 5, the addition is 9\""
      ]
     },
     "execution_count": 153,
     "metadata": {},
     "output_type": "execute_result"
    }
   ],
   "source": [
    "x = 4; y=5;\n",
    "\"First num is $x, second num is $y, the addition is $(x+y)\""
   ]
  },
  {
   "cell_type": "markdown",
   "id": "6883f88d",
   "metadata": {},
   "source": [
    "# Primitive and Composite types"
   ]
  },
  {
   "cell_type": "code",
   "execution_count": 154,
   "id": "9500291b",
   "metadata": {},
   "outputs": [],
   "source": [
    "struct Rectangle\n",
    "    width::Float64\n",
    "    length::Float64\n",
    "end"
   ]
  },
  {
   "cell_type": "code",
   "execution_count": 155,
   "id": "824cbf7f",
   "metadata": {},
   "outputs": [
    {
     "data": {
      "text/plain": [
       "(:width, :length)"
      ]
     },
     "execution_count": 155,
     "metadata": {},
     "output_type": "execute_result"
    }
   ],
   "source": [
    "fieldnames(Rectangle)"
   ]
  },
  {
   "cell_type": "code",
   "execution_count": 157,
   "id": "0a2e6b89",
   "metadata": {},
   "outputs": [
    {
     "data": {
      "text/plain": [
       "Rectangle(4.0, 7.0)"
      ]
     },
     "execution_count": 157,
     "metadata": {},
     "output_type": "execute_result"
    }
   ],
   "source": [
    "rectangle1 = Rectangle(4, 7)"
   ]
  },
  {
   "cell_type": "code",
   "execution_count": 158,
   "id": "e182ea53",
   "metadata": {},
   "outputs": [
    {
     "data": {
      "text/plain": [
       "7.0"
      ]
     },
     "execution_count": 158,
     "metadata": {},
     "output_type": "execute_result"
    }
   ],
   "source": [
    "rectangle1.length"
   ]
  },
  {
   "cell_type": "code",
   "execution_count": 159,
   "id": "e09e8863",
   "metadata": {},
   "outputs": [
    {
     "data": {
      "text/plain": [
       "4.0"
      ]
     },
     "execution_count": 159,
     "metadata": {},
     "output_type": "execute_result"
    }
   ],
   "source": [
    "rectangle1.width"
   ]
  },
  {
   "cell_type": "code",
   "execution_count": 160,
   "id": "cb62e9a8",
   "metadata": {},
   "outputs": [
    {
     "ename": "LoadError",
     "evalue": "MethodError: no method matching Rectangle(::Int64)\n\u001b[0mClosest candidates are:\n\u001b[0m  Rectangle(::Any, \u001b[91m::Any\u001b[39m) at In[154]:2\n\u001b[0m  Rectangle(\u001b[91m::Float64\u001b[39m, \u001b[91m::Float64\u001b[39m) at In[154]:2",
     "output_type": "error",
     "traceback": [
      "MethodError: no method matching Rectangle(::Int64)\n\u001b[0mClosest candidates are:\n\u001b[0m  Rectangle(::Any, \u001b[91m::Any\u001b[39m) at In[154]:2\n\u001b[0m  Rectangle(\u001b[91m::Float64\u001b[39m, \u001b[91m::Float64\u001b[39m) at In[154]:2",
      "",
      "Stacktrace:",
      " [1] top-level scope",
      "   @ In[160]:1",
      " [2] eval",
      "   @ ./boot.jl:368 [inlined]",
      " [3] include_string(mapexpr::typeof(REPL.softscope), mod::Module, code::String, filename::String)",
      "   @ Base ./loading.jl:1428"
     ]
    }
   ],
   "source": [
    "rectangle1 = Rectangle(5)"
   ]
  },
  {
   "cell_type": "code",
   "execution_count": null,
   "id": "c7fdc61e",
   "metadata": {},
   "outputs": [],
   "source": []
  }
 ],
 "metadata": {
  "kernelspec": {
   "display_name": "Julia 1.8.2",
   "language": "julia",
   "name": "julia-1.8"
  },
  "language_info": {
   "file_extension": ".jl",
   "mimetype": "application/julia",
   "name": "julia",
   "version": "1.8.2"
  }
 },
 "nbformat": 4,
 "nbformat_minor": 5
}
