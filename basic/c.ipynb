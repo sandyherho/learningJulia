{
 "cells": [
  {
   "cell_type": "markdown",
   "id": "e1bfb74b",
   "metadata": {},
   "source": [
    "# Basic Operations"
   ]
  },
  {
   "cell_type": "code",
   "execution_count": 2,
   "id": "710dddd5",
   "metadata": {},
   "outputs": [
    {
     "data": {
      "text/plain": [
       "5.153846153846154"
      ]
     },
     "execution_count": 2,
     "metadata": {},
     "output_type": "execute_result"
    }
   ],
   "source": [
    "5 + 7\n",
    "14 - 6\n",
    "3.14 * 2.78\n",
    "67 / 13"
   ]
  },
  {
   "cell_type": "code",
   "execution_count": 3,
   "id": "734c4b0b",
   "metadata": {},
   "outputs": [
    {
     "data": {
      "text/plain": [
       "5.153846153846154"
      ]
     },
     "execution_count": 3,
     "metadata": {},
     "output_type": "execute_result"
    }
   ],
   "source": [
    "ans"
   ]
  },
  {
   "cell_type": "code",
   "execution_count": 4,
   "id": "0a095fb1",
   "metadata": {},
   "outputs": [
    {
     "data": {
      "text/plain": [
       "26.562130177514796"
      ]
     },
     "execution_count": 4,
     "metadata": {},
     "output_type": "execute_result"
    }
   ],
   "source": [
    "ans^2"
   ]
  },
  {
   "cell_type": "code",
   "execution_count": 6,
   "id": "16ebf3e6",
   "metadata": {},
   "outputs": [
    {
     "data": {
      "text/plain": [
       "151"
      ]
     },
     "execution_count": 6,
     "metadata": {},
     "output_type": "execute_result"
    }
   ],
   "source": [
    "x = 12; y = 23;\n",
    "3x + 5y"
   ]
  },
  {
   "cell_type": "code",
   "execution_count": 7,
   "id": "e643a36a",
   "metadata": {},
   "outputs": [
    {
     "data": {
      "text/plain": [
       "884"
      ]
     },
     "execution_count": 7,
     "metadata": {},
     "output_type": "execute_result"
    }
   ],
   "source": [
    "4(5x + 7y)"
   ]
  },
  {
   "cell_type": "code",
   "execution_count": 9,
   "id": "4a68232e",
   "metadata": {},
   "outputs": [
    {
     "data": {
      "text/plain": [
       "-12"
      ]
     },
     "execution_count": 9,
     "metadata": {},
     "output_type": "execute_result"
    }
   ],
   "source": [
    "-x"
   ]
  },
  {
   "cell_type": "code",
   "execution_count": 10,
   "id": "70661202",
   "metadata": {},
   "outputs": [
    {
     "data": {
      "text/plain": [
       "-23"
      ]
     },
     "execution_count": 10,
     "metadata": {},
     "output_type": "execute_result"
    }
   ],
   "source": [
    "-y"
   ]
  },
  {
   "cell_type": "code",
   "execution_count": 11,
   "id": "3814d350",
   "metadata": {},
   "outputs": [
    {
     "data": {
      "text/plain": [
       "-3.5"
      ]
     },
     "execution_count": 11,
     "metadata": {},
     "output_type": "execute_result"
    }
   ],
   "source": [
    "-3.5"
   ]
  },
  {
   "cell_type": "code",
   "execution_count": null,
   "id": "4b47d3c9",
   "metadata": {},
   "outputs": [],
   "source": [
    "15 ÷ "
   ]
  }
 ],
 "metadata": {
  "kernelspec": {
   "display_name": "Julia 1.8.2",
   "language": "julia",
   "name": "julia-1.8"
  },
  "language_info": {
   "file_extension": ".jl",
   "mimetype": "application/julia",
   "name": "julia",
   "version": "1.8.2"
  }
 },
 "nbformat": 4,
 "nbformat_minor": 5
}
