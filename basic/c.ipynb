{
 "cells": [
  {
   "cell_type": "markdown",
   "id": "e1bfb74b",
   "metadata": {},
   "source": [
    "# Basic Operations"
   ]
  },
  {
   "cell_type": "code",
   "execution_count": 1,
   "id": "710dddd5",
   "metadata": {},
   "outputs": [
    {
     "data": {
      "text/plain": [
       "5.153846153846154"
      ]
     },
     "execution_count": 1,
     "metadata": {},
     "output_type": "execute_result"
    }
   ],
   "source": [
    "5 + 7\n",
    "14 - 6\n",
    "3.14 * 2.78\n",
    "67 / 13"
   ]
  },
  {
   "cell_type": "code",
   "execution_count": 2,
   "id": "734c4b0b",
   "metadata": {},
   "outputs": [
    {
     "data": {
      "text/plain": [
       "5.153846153846154"
      ]
     },
     "execution_count": 2,
     "metadata": {},
     "output_type": "execute_result"
    }
   ],
   "source": [
    "ans"
   ]
  },
  {
   "cell_type": "code",
   "execution_count": 3,
   "id": "0a095fb1",
   "metadata": {},
   "outputs": [
    {
     "data": {
      "text/plain": [
       "26.562130177514796"
      ]
     },
     "execution_count": 3,
     "metadata": {},
     "output_type": "execute_result"
    }
   ],
   "source": [
    "ans^2"
   ]
  },
  {
   "cell_type": "code",
   "execution_count": 4,
   "id": "16ebf3e6",
   "metadata": {},
   "outputs": [
    {
     "data": {
      "text/plain": [
       "151"
      ]
     },
     "execution_count": 4,
     "metadata": {},
     "output_type": "execute_result"
    }
   ],
   "source": [
    "x = 12; y = 23;\n",
    "3x + 5y"
   ]
  },
  {
   "cell_type": "code",
   "execution_count": 5,
   "id": "e643a36a",
   "metadata": {},
   "outputs": [
    {
     "data": {
      "text/plain": [
       "884"
      ]
     },
     "execution_count": 5,
     "metadata": {},
     "output_type": "execute_result"
    }
   ],
   "source": [
    "4(5x + 7y)"
   ]
  },
  {
   "cell_type": "code",
   "execution_count": 6,
   "id": "4a68232e",
   "metadata": {},
   "outputs": [
    {
     "data": {
      "text/plain": [
       "-12"
      ]
     },
     "execution_count": 6,
     "metadata": {},
     "output_type": "execute_result"
    }
   ],
   "source": [
    "-x"
   ]
  },
  {
   "cell_type": "code",
   "execution_count": 7,
   "id": "70661202",
   "metadata": {},
   "outputs": [
    {
     "data": {
      "text/plain": [
       "-23"
      ]
     },
     "execution_count": 7,
     "metadata": {},
     "output_type": "execute_result"
    }
   ],
   "source": [
    "-y"
   ]
  },
  {
   "cell_type": "code",
   "execution_count": 8,
   "id": "3814d350",
   "metadata": {},
   "outputs": [
    {
     "data": {
      "text/plain": [
       "-3.5"
      ]
     },
     "execution_count": 8,
     "metadata": {},
     "output_type": "execute_result"
    }
   ],
   "source": [
    "-3.5"
   ]
  },
  {
   "cell_type": "code",
   "execution_count": 10,
   "id": "4b47d3c9",
   "metadata": {},
   "outputs": [
    {
     "data": {
      "text/plain": [
       "2"
      ]
     },
     "execution_count": 10,
     "metadata": {},
     "output_type": "execute_result"
    }
   ],
   "source": [
    "15 ÷ 6 # \\div TAB"
   ]
  },
  {
   "cell_type": "code",
   "execution_count": 11,
   "id": "e811817a",
   "metadata": {},
   "outputs": [
    {
     "data": {
      "text/plain": [
       "3.0"
      ]
     },
     "execution_count": 11,
     "metadata": {},
     "output_type": "execute_result"
    }
   ],
   "source": [
    "6.5 ÷ 2"
   ]
  },
  {
   "cell_type": "code",
   "execution_count": 12,
   "id": "b36588fb",
   "metadata": {},
   "outputs": [
    {
     "data": {
      "text/plain": [
       "2"
      ]
     },
     "execution_count": 12,
     "metadata": {},
     "output_type": "execute_result"
    }
   ],
   "source": [
    "div(15, 6)"
   ]
  },
  {
   "cell_type": "code",
   "execution_count": 14,
   "id": "e6743904",
   "metadata": {},
   "outputs": [
    {
     "data": {
      "text/plain": [
       "3.0"
      ]
     },
     "execution_count": 14,
     "metadata": {},
     "output_type": "execute_result"
    }
   ],
   "source": [
    "div(6.5, 2)"
   ]
  },
  {
   "cell_type": "code",
   "execution_count": 15,
   "id": "ea56b8ec",
   "metadata": {},
   "outputs": [
    {
     "data": {
      "text/plain": [
       "64"
      ]
     },
     "execution_count": 15,
     "metadata": {},
     "output_type": "execute_result"
    }
   ],
   "source": [
    "4^3"
   ]
  },
  {
   "cell_type": "code",
   "execution_count": 16,
   "id": "ee0ff208",
   "metadata": {},
   "outputs": [
    {
     "data": {
      "text/plain": [
       "0.5"
      ]
     },
     "execution_count": 16,
     "metadata": {},
     "output_type": "execute_result"
    }
   ],
   "source": [
    ".25^.5"
   ]
  },
  {
   "cell_type": "code",
   "execution_count": 17,
   "id": "7e1b7ac8",
   "metadata": {},
   "outputs": [
    {
     "data": {
      "text/plain": [
       "9"
      ]
     },
     "execution_count": 17,
     "metadata": {},
     "output_type": "execute_result"
    }
   ],
   "source": [
    "4 + 5"
   ]
  },
  {
   "cell_type": "code",
   "execution_count": 18,
   "id": "b2860ae4",
   "metadata": {},
   "outputs": [
    {
     "data": {
      "text/plain": [
       "9"
      ]
     },
     "execution_count": 18,
     "metadata": {},
     "output_type": "execute_result"
    }
   ],
   "source": [
    "+(4, 5)"
   ]
  },
  {
   "cell_type": "code",
   "execution_count": 19,
   "id": "979f4e96",
   "metadata": {},
   "outputs": [
    {
     "data": {
      "text/plain": [
       "64"
      ]
     },
     "execution_count": 19,
     "metadata": {},
     "output_type": "execute_result"
    }
   ],
   "source": [
    "^(4, 3)"
   ]
  },
  {
   "cell_type": "code",
   "execution_count": 20,
   "id": "e75c7504",
   "metadata": {},
   "outputs": [
    {
     "data": {
      "text/plain": [
       "3.0"
      ]
     },
     "execution_count": 20,
     "metadata": {},
     "output_type": "execute_result"
    }
   ],
   "source": [
    "5 \\ 15"
   ]
  },
  {
   "cell_type": "code",
   "execution_count": 21,
   "id": "f5a12f5c",
   "metadata": {},
   "outputs": [
    {
     "data": {
      "text/plain": [
       "2.0"
      ]
     },
     "execution_count": 21,
     "metadata": {},
     "output_type": "execute_result"
    }
   ],
   "source": [
    "4 \\ 8"
   ]
  },
  {
   "cell_type": "code",
   "execution_count": 22,
   "id": "548981dc",
   "metadata": {},
   "outputs": [
    {
     "data": {
      "text/plain": [
       "4.0"
      ]
     },
     "execution_count": 22,
     "metadata": {},
     "output_type": "execute_result"
    }
   ],
   "source": [
    "sqrt(16)"
   ]
  },
  {
   "cell_type": "code",
   "execution_count": 23,
   "id": "fd4a2630",
   "metadata": {},
   "outputs": [
    {
     "data": {
      "text/plain": [
       "4.0"
      ]
     },
     "execution_count": 23,
     "metadata": {},
     "output_type": "execute_result"
    }
   ],
   "source": [
    "√16 # \\sqrt TAB"
   ]
  },
  {
   "cell_type": "code",
   "execution_count": 24,
   "id": "9320f3de",
   "metadata": {},
   "outputs": [
    {
     "data": {
      "text/plain": [
       "4.0"
      ]
     },
     "execution_count": 24,
     "metadata": {},
     "output_type": "execute_result"
    }
   ],
   "source": [
    "cbrt(64)"
   ]
  },
  {
   "cell_type": "code",
   "execution_count": 26,
   "id": "46b9648e",
   "metadata": {},
   "outputs": [
    {
     "data": {
      "text/plain": [
       "4.0"
      ]
     },
     "execution_count": 26,
     "metadata": {},
     "output_type": "execute_result"
    }
   ],
   "source": [
    "∛64 # \\cbrt TAB"
   ]
  },
  {
   "cell_type": "code",
   "execution_count": 27,
   "id": "e029de6c",
   "metadata": {},
   "outputs": [
    {
     "data": {
      "text/plain": [
       "3"
      ]
     },
     "execution_count": 27,
     "metadata": {},
     "output_type": "execute_result"
    }
   ],
   "source": [
    "28 % 5"
   ]
  },
  {
   "cell_type": "code",
   "execution_count": 28,
   "id": "81e2d31b",
   "metadata": {},
   "outputs": [
    {
     "data": {
      "text/plain": [
       "3"
      ]
     },
     "execution_count": 28,
     "metadata": {},
     "output_type": "execute_result"
    }
   ],
   "source": [
    "rem(28, 5)"
   ]
  },
  {
   "cell_type": "code",
   "execution_count": 29,
   "id": "a7938d6a",
   "metadata": {},
   "outputs": [],
   "source": [
    "a = 7.8; b = 3.6;"
   ]
  },
  {
   "cell_type": "code",
   "execution_count": 30,
   "id": "f5f3ff93",
   "metadata": {},
   "outputs": [
    {
     "data": {
      "text/plain": [
       "false"
      ]
     },
     "execution_count": 30,
     "metadata": {},
     "output_type": "execute_result"
    }
   ],
   "source": [
    "a == b"
   ]
  },
  {
   "cell_type": "code",
   "execution_count": 31,
   "id": "2d02d8cc",
   "metadata": {},
   "outputs": [
    {
     "data": {
      "text/plain": [
       "true"
      ]
     },
     "execution_count": 31,
     "metadata": {},
     "output_type": "execute_result"
    }
   ],
   "source": [
    "a != b"
   ]
  },
  {
   "cell_type": "code",
   "execution_count": 32,
   "id": "19a46afe",
   "metadata": {},
   "outputs": [
    {
     "data": {
      "text/plain": [
       "true"
      ]
     },
     "execution_count": 32,
     "metadata": {},
     "output_type": "execute_result"
    }
   ],
   "source": [
    "a ≠ b # \\ne TAB"
   ]
  },
  {
   "cell_type": "code",
   "execution_count": 33,
   "id": "80d07229",
   "metadata": {},
   "outputs": [
    {
     "data": {
      "text/plain": [
       "3-element Vector{Int64}:\n",
       " 1\n",
       " 2\n",
       " 3"
      ]
     },
     "execution_count": 33,
     "metadata": {},
     "output_type": "execute_result"
    }
   ],
   "source": [
    "c = [1,2,3]"
   ]
  },
  {
   "cell_type": "code",
   "execution_count": 34,
   "id": "75342429",
   "metadata": {},
   "outputs": [
    {
     "data": {
      "text/plain": [
       "3-element Vector{Int64}:\n",
       " 1\n",
       " 2\n",
       " 3"
      ]
     },
     "execution_count": 34,
     "metadata": {},
     "output_type": "execute_result"
    }
   ],
   "source": [
    "d = c"
   ]
  },
  {
   "cell_type": "code",
   "execution_count": 35,
   "id": "40d48268",
   "metadata": {},
   "outputs": [
    {
     "data": {
      "text/plain": [
       "3-element Vector{Int64}:\n",
       " 1\n",
       " 2\n",
       " 3"
      ]
     },
     "execution_count": 35,
     "metadata": {},
     "output_type": "execute_result"
    }
   ],
   "source": [
    "e = deepcopy(c)"
   ]
  },
  {
   "cell_type": "code",
   "execution_count": 36,
   "id": "62cb259c",
   "metadata": {},
   "outputs": [
    {
     "data": {
      "text/plain": [
       "true"
      ]
     },
     "execution_count": 36,
     "metadata": {},
     "output_type": "execute_result"
    }
   ],
   "source": [
    "c == d"
   ]
  },
  {
   "cell_type": "code",
   "execution_count": 37,
   "id": "04ba0a1f",
   "metadata": {},
   "outputs": [
    {
     "data": {
      "text/plain": [
       "true"
      ]
     },
     "execution_count": 37,
     "metadata": {},
     "output_type": "execute_result"
    }
   ],
   "source": [
    "c == e"
   ]
  },
  {
   "cell_type": "code",
   "execution_count": 38,
   "id": "67fe3de4",
   "metadata": {},
   "outputs": [
    {
     "data": {
      "text/plain": [
       "true"
      ]
     },
     "execution_count": 38,
     "metadata": {},
     "output_type": "execute_result"
    }
   ],
   "source": [
    "c === d"
   ]
  },
  {
   "cell_type": "code",
   "execution_count": 39,
   "id": "e274e36a",
   "metadata": {},
   "outputs": [
    {
     "data": {
      "text/plain": [
       "false"
      ]
     },
     "execution_count": 39,
     "metadata": {},
     "output_type": "execute_result"
    }
   ],
   "source": [
    "c === e"
   ]
  },
  {
   "cell_type": "code",
   "execution_count": 40,
   "id": "cbcd6463",
   "metadata": {},
   "outputs": [
    {
     "data": {
      "text/plain": [
       "false"
      ]
     },
     "execution_count": 40,
     "metadata": {},
     "output_type": "execute_result"
    }
   ],
   "source": [
    "c ≡ e # \\equiv TAb"
   ]
  },
  {
   "cell_type": "code",
   "execution_count": 41,
   "id": "d51cd8f0",
   "metadata": {},
   "outputs": [
    {
     "data": {
      "text/plain": [
       "false"
      ]
     },
     "execution_count": 41,
     "metadata": {},
     "output_type": "execute_result"
    }
   ],
   "source": [
    "a ≤ b # \\leq TAB"
   ]
  },
  {
   "cell_type": "code",
   "execution_count": 42,
   "id": "46c191a0",
   "metadata": {},
   "outputs": [
    {
     "data": {
      "text/plain": [
       "true"
      ]
     },
     "execution_count": 42,
     "metadata": {},
     "output_type": "execute_result"
    }
   ],
   "source": [
    "a ≥ b # \\geq TAB"
   ]
  },
  {
   "cell_type": "code",
   "execution_count": 43,
   "id": "ec3da059",
   "metadata": {},
   "outputs": [
    {
     "data": {
      "text/plain": [
       "false"
      ]
     },
     "execution_count": 43,
     "metadata": {},
     "output_type": "execute_result"
    }
   ],
   "source": [
    "a <= b"
   ]
  },
  {
   "cell_type": "code",
   "execution_count": 44,
   "id": "997e2654",
   "metadata": {},
   "outputs": [
    {
     "data": {
      "text/plain": [
       "true"
      ]
     },
     "execution_count": 44,
     "metadata": {},
     "output_type": "execute_result"
    }
   ],
   "source": [
    "a >= b"
   ]
  },
  {
   "cell_type": "code",
   "execution_count": 46,
   "id": "c031b817",
   "metadata": {},
   "outputs": [
    {
     "data": {
      "text/plain": [
       "true"
      ]
     },
     "execution_count": 46,
     "metadata": {},
     "output_type": "execute_result"
    }
   ],
   "source": [
    "c = 1.7 \n",
    "a >= b >= c"
   ]
  },
  {
   "cell_type": "code",
   "execution_count": 48,
   "id": "792df9c1",
   "metadata": {},
   "outputs": [
    {
     "data": {
      "text/plain": [
       "true"
      ]
     },
     "execution_count": 48,
     "metadata": {},
     "output_type": "execute_result"
    }
   ],
   "source": [
    "(a >= b) && (b >= c) # the same"
   ]
  },
  {
   "cell_type": "code",
   "execution_count": 49,
   "id": "759f9427",
   "metadata": {},
   "outputs": [
    {
     "data": {
      "text/plain": [
       "true"
      ]
     },
     "execution_count": 49,
     "metadata": {},
     "output_type": "execute_result"
    }
   ],
   "source": [
    "3 <= 3 < 9 != 17  >= 14"
   ]
  },
  {
   "cell_type": "code",
   "execution_count": 50,
   "id": "93d5bb86",
   "metadata": {},
   "outputs": [
    {
     "data": {
      "text/plain": [
       "0.6000000000000001"
      ]
     },
     "execution_count": 50,
     "metadata": {},
     "output_type": "execute_result"
    }
   ],
   "source": [
    "0.4 + 0.2"
   ]
  },
  {
   "cell_type": "code",
   "execution_count": 51,
   "id": "6fbf13ec",
   "metadata": {},
   "outputs": [
    {
     "data": {
      "text/plain": [
       "false"
      ]
     },
     "execution_count": 51,
     "metadata": {},
     "output_type": "execute_result"
    }
   ],
   "source": [
    "0.6 == 0.4 + 0.2"
   ]
  },
  {
   "cell_type": "code",
   "execution_count": 52,
   "id": "1ddf7551",
   "metadata": {},
   "outputs": [
    {
     "data": {
      "text/plain": [
       "false"
      ]
     },
     "execution_count": 52,
     "metadata": {},
     "output_type": "execute_result"
    }
   ],
   "source": [
    "isequal(0.6, 0.4+0.2)"
   ]
  },
  {
   "cell_type": "code",
   "execution_count": 53,
   "id": "cc587be7",
   "metadata": {},
   "outputs": [
    {
     "data": {
      "text/plain": [
       "true"
      ]
     },
     "execution_count": 53,
     "metadata": {},
     "output_type": "execute_result"
    }
   ],
   "source": [
    "isapprox(0.6, 0.4 + 0.2)"
   ]
  },
  {
   "cell_type": "code",
   "execution_count": 54,
   "id": "0df23c8b",
   "metadata": {},
   "outputs": [
    {
     "data": {
      "text/plain": [
       "true"
      ]
     },
     "execution_count": 54,
     "metadata": {},
     "output_type": "execute_result"
    }
   ],
   "source": [
    "0.6 ≈ 0.4 + 0.2 # \\approx TAB"
   ]
  },
  {
   "cell_type": "code",
   "execution_count": 55,
   "id": "659f39b9",
   "metadata": {},
   "outputs": [],
   "source": [
    "a = true; b = false;"
   ]
  },
  {
   "cell_type": "code",
   "execution_count": 56,
   "id": "bfa61692",
   "metadata": {},
   "outputs": [
    {
     "data": {
      "text/plain": [
       "false"
      ]
     },
     "execution_count": 56,
     "metadata": {},
     "output_type": "execute_result"
    }
   ],
   "source": [
    "!a"
   ]
  },
  {
   "cell_type": "code",
   "execution_count": 57,
   "id": "29013dec",
   "metadata": {},
   "outputs": [
    {
     "data": {
      "text/plain": [
       "true"
      ]
     },
     "execution_count": 57,
     "metadata": {},
     "output_type": "execute_result"
    }
   ],
   "source": [
    "!b"
   ]
  },
  {
   "cell_type": "code",
   "execution_count": 58,
   "id": "9e90fd0e",
   "metadata": {},
   "outputs": [
    {
     "data": {
      "text/plain": [
       "true"
      ]
     },
     "execution_count": 58,
     "metadata": {},
     "output_type": "execute_result"
    }
   ],
   "source": [
    "a && a"
   ]
  },
  {
   "cell_type": "code",
   "execution_count": 59,
   "id": "8bab3626",
   "metadata": {},
   "outputs": [
    {
     "data": {
      "text/plain": [
       "false"
      ]
     },
     "execution_count": 59,
     "metadata": {},
     "output_type": "execute_result"
    }
   ],
   "source": [
    "a && b"
   ]
  },
  {
   "cell_type": "code",
   "execution_count": 60,
   "id": "b7e8932b",
   "metadata": {},
   "outputs": [
    {
     "data": {
      "text/plain": [
       "true"
      ]
     },
     "execution_count": 60,
     "metadata": {},
     "output_type": "execute_result"
    }
   ],
   "source": [
    "a|| b"
   ]
  },
  {
   "cell_type": "code",
   "execution_count": 61,
   "id": "bd49985f",
   "metadata": {},
   "outputs": [
    {
     "data": {
      "text/plain": [
       "false"
      ]
     },
     "execution_count": 61,
     "metadata": {},
     "output_type": "execute_result"
    }
   ],
   "source": [
    "b || b"
   ]
  },
  {
   "cell_type": "code",
   "execution_count": 64,
   "id": "7a123f86",
   "metadata": {},
   "outputs": [
    {
     "data": {
      "text/plain": [
       "40"
      ]
     },
     "execution_count": 64,
     "metadata": {},
     "output_type": "execute_result"
    }
   ],
   "source": [
    "x = 109; y = 56;\n",
    "x & y"
   ]
  },
  {
   "cell_type": "code",
   "execution_count": 65,
   "id": "a4ee1e3b",
   "metadata": {},
   "outputs": [
    {
     "data": {
      "text/plain": [
       "125"
      ]
     },
     "execution_count": 65,
     "metadata": {},
     "output_type": "execute_result"
    }
   ],
   "source": [
    "x | y"
   ]
  },
  {
   "cell_type": "code",
   "execution_count": 66,
   "id": "6260ddbf",
   "metadata": {},
   "outputs": [
    {
     "data": {
      "text/plain": [
       "85"
      ]
     },
     "execution_count": 66,
     "metadata": {},
     "output_type": "execute_result"
    }
   ],
   "source": [
    "x ⊻ y # \\xor TAB"
   ]
  },
  {
   "cell_type": "code",
   "execution_count": 67,
   "id": "4240291c",
   "metadata": {},
   "outputs": [
    {
     "data": {
      "text/plain": [
       "-110"
      ]
     },
     "execution_count": 67,
     "metadata": {},
     "output_type": "execute_result"
    }
   ],
   "source": [
    "~x"
   ]
  },
  {
   "cell_type": "code",
   "execution_count": 68,
   "id": "8a1afc41",
   "metadata": {},
   "outputs": [],
   "source": [
    "using Bits"
   ]
  },
  {
   "cell_type": "code",
   "execution_count": 69,
   "id": "061d8fcb",
   "metadata": {},
   "outputs": [
    {
     "data": {
      "text/plain": [
       "<00000000 00000000 00000000 00000000 00000000 00000000 00000000 00000101>"
      ]
     },
     "execution_count": 69,
     "metadata": {},
     "output_type": "execute_result"
    }
   ],
   "source": [
    "bits(5)"
   ]
  },
  {
   "cell_type": "code",
   "execution_count": 70,
   "id": "26614f1d",
   "metadata": {},
   "outputs": [
    {
     "data": {
      "text/plain": [
       "-6"
      ]
     },
     "execution_count": 70,
     "metadata": {},
     "output_type": "execute_result"
    }
   ],
   "source": [
    "~5"
   ]
  },
  {
   "cell_type": "code",
   "execution_count": 71,
   "id": "5309c975",
   "metadata": {},
   "outputs": [
    {
     "data": {
      "text/plain": [
       "<11111111 11111111 11111111 11111111 11111111 11111111 11111111 11111010>"
      ]
     },
     "execution_count": 71,
     "metadata": {},
     "output_type": "execute_result"
    }
   ],
   "source": [
    "bits(-6)"
   ]
  },
  {
   "cell_type": "code",
   "execution_count": 72,
   "id": "1bdbb3c9",
   "metadata": {},
   "outputs": [
    {
     "data": {
      "text/plain": [
       "\"0000000000000000000000000000000000000000000000000000000000000101\""
      ]
     },
     "execution_count": 72,
     "metadata": {},
     "output_type": "execute_result"
    }
   ],
   "source": [
    "bitstring(5)"
   ]
  },
  {
   "cell_type": "code",
   "execution_count": 73,
   "id": "3ce5e88a",
   "metadata": {},
   "outputs": [
    {
     "data": {
      "text/plain": [
       "\"1111111111111111111111111111111111111111111111111111111111111010\""
      ]
     },
     "execution_count": 73,
     "metadata": {},
     "output_type": "execute_result"
    }
   ],
   "source": [
    "bitstring(-6)"
   ]
  },
  {
   "cell_type": "code",
   "execution_count": 74,
   "id": "8c82af73",
   "metadata": {},
   "outputs": [
    {
     "data": {
      "text/plain": [
       "7"
      ]
     },
     "execution_count": 74,
     "metadata": {},
     "output_type": "execute_result"
    }
   ],
   "source": [
    "x = 7"
   ]
  },
  {
   "cell_type": "code",
   "execution_count": 75,
   "id": "47af9263",
   "metadata": {},
   "outputs": [
    {
     "data": {
      "text/plain": [
       "12"
      ]
     },
     "execution_count": 75,
     "metadata": {},
     "output_type": "execute_result"
    }
   ],
   "source": [
    "x = x + 5"
   ]
  },
  {
   "cell_type": "code",
   "execution_count": 76,
   "id": "0030c2fd",
   "metadata": {},
   "outputs": [
    {
     "data": {
      "text/plain": [
       "12"
      ]
     },
     "execution_count": 76,
     "metadata": {},
     "output_type": "execute_result"
    }
   ],
   "source": [
    "x = 7\n",
    "x += 5"
   ]
  },
  {
   "cell_type": "code",
   "execution_count": 78,
   "id": "79a44f8d",
   "metadata": {},
   "outputs": [
    {
     "data": {
      "text/plain": [
       "12"
      ]
     },
     "execution_count": 78,
     "metadata": {},
     "output_type": "execute_result"
    }
   ],
   "source": [
    "x = 3\n",
    "x *= 4 "
   ]
  },
  {
   "cell_type": "code",
   "execution_count": 79,
   "id": "6aa3eb6b",
   "metadata": {},
   "outputs": [
    {
     "data": {
      "text/plain": [
       "1.0"
      ]
     },
     "execution_count": 79,
     "metadata": {},
     "output_type": "execute_result"
    }
   ],
   "source": [
    "x = 17\n",
    "x /= 17"
   ]
  },
  {
   "cell_type": "code",
   "execution_count": 80,
   "id": "b6fa857b",
   "metadata": {},
   "outputs": [
    {
     "data": {
      "text/plain": [
       "8"
      ]
     },
     "execution_count": 80,
     "metadata": {},
     "output_type": "execute_result"
    }
   ],
   "source": [
    "x = 2;\n",
    "x ^= 3"
   ]
  },
  {
   "cell_type": "code",
   "execution_count": 81,
   "id": "9a25d5af",
   "metadata": {},
   "outputs": [
    {
     "data": {
      "text/plain": [
       "1"
      ]
     },
     "execution_count": 81,
     "metadata": {},
     "output_type": "execute_result"
    }
   ],
   "source": [
    "log(ℯ)"
   ]
  },
  {
   "cell_type": "code",
   "execution_count": 82,
   "id": "70d1f0ef",
   "metadata": {},
   "outputs": [
    {
     "data": {
      "text/plain": [
       "2.0"
      ]
     },
     "execution_count": 82,
     "metadata": {},
     "output_type": "execute_result"
    }
   ],
   "source": [
    "log(ℯ^2)"
   ]
  },
  {
   "cell_type": "code",
   "execution_count": 83,
   "id": "1a6d722a",
   "metadata": {},
   "outputs": [
    {
     "data": {
      "text/plain": [
       "4.0"
      ]
     },
     "execution_count": 83,
     "metadata": {},
     "output_type": "execute_result"
    }
   ],
   "source": [
    "log(10, 10_000)"
   ]
  },
  {
   "cell_type": "code",
   "execution_count": 84,
   "id": "264978ca",
   "metadata": {},
   "outputs": [
    {
     "data": {
      "text/plain": [
       "20.085536923187668"
      ]
     },
     "execution_count": 84,
     "metadata": {},
     "output_type": "execute_result"
    }
   ],
   "source": [
    "exp(3)"
   ]
  },
  {
   "cell_type": "code",
   "execution_count": 85,
   "id": "a9a93cba",
   "metadata": {},
   "outputs": [
    {
     "data": {
      "text/plain": [
       "20.085536923187668"
      ]
     },
     "execution_count": 85,
     "metadata": {},
     "output_type": "execute_result"
    }
   ],
   "source": [
    "ℯ^3"
   ]
  },
  {
   "cell_type": "code",
   "execution_count": 86,
   "id": "47fa364d",
   "metadata": {},
   "outputs": [
    {
     "data": {
      "text/plain": [
       "4.0"
      ]
     },
     "execution_count": 86,
     "metadata": {},
     "output_type": "execute_result"
    }
   ],
   "source": [
    "round(3.78) # nearest integer"
   ]
  },
  {
   "cell_type": "code",
   "execution_count": 87,
   "id": "34c32654",
   "metadata": {},
   "outputs": [
    {
     "data": {
      "text/plain": [
       "-4.0"
      ]
     },
     "execution_count": 87,
     "metadata": {},
     "output_type": "execute_result"
    }
   ],
   "source": [
    "floor(-3.78) #integer towards -∞"
   ]
  },
  {
   "cell_type": "code",
   "execution_count": 88,
   "id": "4936490d",
   "metadata": {},
   "outputs": [
    {
     "data": {
      "text/plain": [
       "4.0"
      ]
     },
     "execution_count": 88,
     "metadata": {},
     "output_type": "execute_result"
    }
   ],
   "source": [
    "ceil(3.78) #integer towards ∞"
   ]
  },
  {
   "cell_type": "code",
   "execution_count": 89,
   "id": "260dbed0",
   "metadata": {},
   "outputs": [
    {
     "data": {
      "text/plain": [
       "3"
      ]
     },
     "execution_count": 89,
     "metadata": {},
     "output_type": "execute_result"
    }
   ],
   "source": [
    "abs(-3)"
   ]
  },
  {
   "cell_type": "code",
   "execution_count": 90,
   "id": "f51d30b2",
   "metadata": {},
   "outputs": [
    {
     "data": {
      "text/plain": [
       "-1"
      ]
     },
     "execution_count": 90,
     "metadata": {},
     "output_type": "execute_result"
    }
   ],
   "source": [
    "sign(-4)"
   ]
  },
  {
   "cell_type": "code",
   "execution_count": 91,
   "id": "cfdd2785",
   "metadata": {},
   "outputs": [
    {
     "data": {
      "text/plain": [
       "1"
      ]
     },
     "execution_count": 91,
     "metadata": {},
     "output_type": "execute_result"
    }
   ],
   "source": [
    "sign(2)"
   ]
  },
  {
   "cell_type": "code",
   "execution_count": 92,
   "id": "1b685cf6",
   "metadata": {},
   "outputs": [
    {
     "data": {
      "text/plain": [
       "0.49999999999999994"
      ]
     },
     "execution_count": 92,
     "metadata": {},
     "output_type": "execute_result"
    }
   ],
   "source": [
    "sin(π/6)"
   ]
  },
  {
   "cell_type": "code",
   "execution_count": 93,
   "id": "1b2e58d0",
   "metadata": {},
   "outputs": [
    {
     "data": {
      "text/plain": [
       "0.7071067811865476"
      ]
     },
     "execution_count": 93,
     "metadata": {},
     "output_type": "execute_result"
    }
   ],
   "source": [
    "cos(π/4)"
   ]
  },
  {
   "cell_type": "code",
   "execution_count": 94,
   "id": "20b35990",
   "metadata": {},
   "outputs": [
    {
     "data": {
      "text/plain": [
       "0.9999999999999999"
      ]
     },
     "execution_count": 94,
     "metadata": {},
     "output_type": "execute_result"
    }
   ],
   "source": [
    "tan(π/4)"
   ]
  },
  {
   "cell_type": "code",
   "execution_count": 95,
   "id": "b74b34de",
   "metadata": {},
   "outputs": [
    {
     "data": {
      "text/plain": [
       "0.5"
      ]
     },
     "execution_count": 95,
     "metadata": {},
     "output_type": "execute_result"
    }
   ],
   "source": [
    "sind(30)"
   ]
  },
  {
   "cell_type": "code",
   "execution_count": 96,
   "id": "8327907e",
   "metadata": {},
   "outputs": [
    {
     "data": {
      "text/plain": [
       "0.7071067811865476"
      ]
     },
     "execution_count": 96,
     "metadata": {},
     "output_type": "execute_result"
    }
   ],
   "source": [
    "cosd(45)"
   ]
  },
  {
   "cell_type": "code",
   "execution_count": 97,
   "id": "e0223195",
   "metadata": {},
   "outputs": [
    {
     "data": {
      "text/plain": [
       "0.5773502691896258"
      ]
     },
     "execution_count": 97,
     "metadata": {},
     "output_type": "execute_result"
    }
   ],
   "source": [
    "tand(30)"
   ]
  },
  {
   "cell_type": "code",
   "execution_count": 98,
   "id": "69eadc21",
   "metadata": {},
   "outputs": [
    {
     "data": {
      "text/plain": [
       "4-element Vector{Float64}:\n",
       " 0.8551552980451127\n",
       " 0.7259902649090259\n",
       " 0.9331464560402307\n",
       " 0.06745457039755298"
      ]
     },
     "execution_count": 98,
     "metadata": {},
     "output_type": "execute_result"
    }
   ],
   "source": [
    "rand(4)"
   ]
  },
  {
   "cell_type": "code",
   "execution_count": 99,
   "id": "7e8ff9cc",
   "metadata": {},
   "outputs": [
    {
     "data": {
      "text/plain": [
       "4-element Vector{Int64}:\n",
       "  1708434882337971290\n",
       " -4018567782612108026\n",
       " -1691910249183409404\n",
       " -4704183649188768061"
      ]
     },
     "execution_count": 99,
     "metadata": {},
     "output_type": "execute_result"
    }
   ],
   "source": [
    "rand(Int, 4)"
   ]
  },
  {
   "cell_type": "code",
   "execution_count": 100,
   "id": "2fa1579a",
   "metadata": {},
   "outputs": [
    {
     "data": {
      "text/plain": [
       "2×2 Matrix{Float64}:\n",
       " 0.0905107  0.528871\n",
       " 0.468484   0.445744"
      ]
     },
     "execution_count": 100,
     "metadata": {},
     "output_type": "execute_result"
    }
   ],
   "source": [
    "rand(Float64,(2,2))"
   ]
  },
  {
   "cell_type": "code",
   "execution_count": 101,
   "id": "2af60995",
   "metadata": {},
   "outputs": [],
   "source": [
    "x = 7; y=3; z=9; t=2.5;"
   ]
  },
  {
   "cell_type": "code",
   "execution_count": 102,
   "id": "f043304d",
   "metadata": {},
   "outputs": [
    {
     "data": {
      "text/plain": [
       "16"
      ]
     },
     "execution_count": 102,
     "metadata": {},
     "output_type": "execute_result"
    }
   ],
   "source": [
    "(x + z)"
   ]
  },
  {
   "cell_type": "code",
   "execution_count": 103,
   "id": "7b819516",
   "metadata": {},
   "outputs": [
    {
     "data": {
      "text/plain": [
       "5.5"
      ]
     },
     "execution_count": 103,
     "metadata": {},
     "output_type": "execute_result"
    }
   ],
   "source": [
    "y+ t"
   ]
  },
  {
   "cell_type": "code",
   "execution_count": 104,
   "id": "f59086f0",
   "metadata": {},
   "outputs": [
    {
     "data": {
      "text/plain": [
       "3"
      ]
     },
     "execution_count": 104,
     "metadata": {},
     "output_type": "execute_result"
    }
   ],
   "source": [
    "y % z"
   ]
  }
 ],
 "metadata": {
  "kernelspec": {
   "display_name": "Julia 1.8.2",
   "language": "julia",
   "name": "julia-1.8"
  },
  "language_info": {
   "file_extension": ".jl",
   "mimetype": "application/julia",
   "name": "julia",
   "version": "1.8.2"
  }
 },
 "nbformat": 4,
 "nbformat_minor": 5
}
