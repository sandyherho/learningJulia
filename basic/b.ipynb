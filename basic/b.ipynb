{
 "cells": [
  {
   "cell_type": "markdown",
   "id": "355cc6c3",
   "metadata": {},
   "source": [
    "# Parametric types"
   ]
  },
  {
   "cell_type": "code",
   "execution_count": 1,
   "id": "c82813c8",
   "metadata": {},
   "outputs": [],
   "source": [
    "struct Rectangle\n",
    "    width::Float64\n",
    "    height::Float64\n",
    "end"
   ]
  },
  {
   "cell_type": "code",
   "execution_count": 5,
   "id": "a9261c05",
   "metadata": {},
   "outputs": [],
   "source": [
    "struct PaRectangle{T}\n",
    "    width::T\n",
    "    height::T\n",
    "end"
   ]
  },
  {
   "cell_type": "code",
   "execution_count": 6,
   "id": "a97505c0",
   "metadata": {},
   "outputs": [
    {
     "data": {
      "text/plain": [
       "PaRectangle{Int64}(3, 8)"
      ]
     },
     "execution_count": 6,
     "metadata": {},
     "output_type": "execute_result"
    }
   ],
   "source": [
    "r1 = PaRectangle{Int}(3,8)"
   ]
  },
  {
   "cell_type": "code",
   "execution_count": 7,
   "id": "ba992ef1",
   "metadata": {},
   "outputs": [
    {
     "data": {
      "text/plain": [
       "PaRectangle{Float32}(2.78f0, 3.14f0)"
      ]
     },
     "execution_count": 7,
     "metadata": {},
     "output_type": "execute_result"
    }
   ],
   "source": [
    "r2 = PaRectangle{Float32}(2.78, 3.14)"
   ]
  },
  {
   "cell_type": "code",
   "execution_count": 8,
   "id": "9885abc4",
   "metadata": {},
   "outputs": [
    {
     "data": {
      "text/plain": [
       "PaRectangle{String}(\"three\", \"five\")"
      ]
     },
     "execution_count": 8,
     "metadata": {},
     "output_type": "execute_result"
    }
   ],
   "source": [
    "r3 = PaRectangle{String}(\"three\", \"five\")"
   ]
  },
  {
   "cell_type": "code",
   "execution_count": 9,
   "id": "255a844b",
   "metadata": {},
   "outputs": [
    {
     "data": {
      "text/plain": [
       "PaRectangle{Int64}"
      ]
     },
     "execution_count": 9,
     "metadata": {},
     "output_type": "execute_result"
    }
   ],
   "source": [
    "typeof(r1)"
   ]
  },
  {
   "cell_type": "code",
   "execution_count": 10,
   "id": "7f9005a7",
   "metadata": {},
   "outputs": [
    {
     "data": {
      "text/plain": [
       "PaRectangle{Float32}"
      ]
     },
     "execution_count": 10,
     "metadata": {},
     "output_type": "execute_result"
    }
   ],
   "source": [
    "typeof(r2)"
   ]
  },
  {
   "cell_type": "code",
   "execution_count": 11,
   "id": "9df74914",
   "metadata": {},
   "outputs": [
    {
     "data": {
      "text/plain": [
       "PaRectangle{String}"
      ]
     },
     "execution_count": 11,
     "metadata": {},
     "output_type": "execute_result"
    }
   ],
   "source": [
    "typeof(r3)"
   ]
  },
  {
   "cell_type": "code",
   "execution_count": 12,
   "id": "2b599620",
   "metadata": {},
   "outputs": [
    {
     "data": {
      "text/plain": [
       "true"
      ]
     },
     "execution_count": 12,
     "metadata": {},
     "output_type": "execute_result"
    }
   ],
   "source": [
    "PaRectangle{Float64} <: PaRectangle"
   ]
  },
  {
   "cell_type": "code",
   "execution_count": 13,
   "id": "b9533b89",
   "metadata": {},
   "outputs": [
    {
     "data": {
      "text/plain": [
       "PaRectangle{Int64}(3, 4)"
      ]
     },
     "execution_count": 13,
     "metadata": {},
     "output_type": "execute_result"
    }
   ],
   "source": [
    "r4 = PaRectangle(3,4)"
   ]
  },
  {
   "cell_type": "code",
   "execution_count": 14,
   "id": "b9f9a8df",
   "metadata": {},
   "outputs": [
    {
     "data": {
      "text/plain": [
       "PaRectangle{Float64}(5.7, 8.1)"
      ]
     },
     "execution_count": 14,
     "metadata": {},
     "output_type": "execute_result"
    }
   ],
   "source": [
    "r5=PaRectangle(5.7, 8.1)"
   ]
  },
  {
   "cell_type": "code",
   "execution_count": 15,
   "id": "be6fc6b3",
   "metadata": {},
   "outputs": [
    {
     "ename": "LoadError",
     "evalue": "MethodError: no method matching PaRectangle(::Int64, ::Float64)\n\u001b[0mClosest candidates are:\n\u001b[0m  PaRectangle(::T, \u001b[91m::T\u001b[39m) where T at In[5]:2",
     "output_type": "error",
     "traceback": [
      "MethodError: no method matching PaRectangle(::Int64, ::Float64)\n\u001b[0mClosest candidates are:\n\u001b[0m  PaRectangle(::T, \u001b[91m::T\u001b[39m) where T at In[5]:2",
      "",
      "Stacktrace:",
      " [1] top-level scope",
      "   @ In[15]:1",
      " [2] eval",
      "   @ ./boot.jl:368 [inlined]",
      " [3] include_string(mapexpr::typeof(REPL.softscope), mod::Module, code::String, filename::String)",
      "   @ Base ./loading.jl:1428"
     ]
    }
   ],
   "source": [
    "r6=PaRectangle(2, 3.)"
   ]
  },
  {
   "cell_type": "code",
   "execution_count": 16,
   "id": "58b53a62",
   "metadata": {},
   "outputs": [],
   "source": [
    "struct NumRectangle{T <: Real}\n",
    "    width::T\n",
    "    height::T\n",
    "end"
   ]
  },
  {
   "cell_type": "code",
   "execution_count": 1,
   "id": "acf23795",
   "metadata": {},
   "outputs": [
    {
     "ename": "LoadError",
     "evalue": "UndefVarError: NumRectangle not defined",
     "output_type": "error",
     "traceback": [
      "UndefVarError: NumRectangle not defined",
      "",
      "Stacktrace:",
      " [1] top-level scope",
      "   @ In[1]:1",
      " [2] eval",
      "   @ ./boot.jl:368 [inlined]",
      " [3] include_string(mapexpr::typeof(REPL.softscope), mod::Module, code::String, filename::String)",
      "   @ Base ./loading.jl:1428"
     ]
    }
   ],
   "source": [
    "r7 = NumRectangle{String}(\"three\", \"five\")"
   ]
  },
  {
   "cell_type": "code",
   "execution_count": 2,
   "id": "115a8147",
   "metadata": {},
   "outputs": [],
   "source": [
    "abstract type Color{T} end"
   ]
  },
  {
   "cell_type": "code",
   "execution_count": 3,
   "id": "4babf3d6",
   "metadata": {},
   "outputs": [
    {
     "data": {
      "text/plain": [
       "true"
      ]
     },
     "execution_count": 3,
     "metadata": {},
     "output_type": "execute_result"
    }
   ],
   "source": [
    "Color{Float64} <: Color"
   ]
  },
  {
   "cell_type": "code",
   "execution_count": 4,
   "id": "8d5eb60e",
   "metadata": {},
   "outputs": [
    {
     "data": {
      "text/plain": [
       "true"
      ]
     },
     "execution_count": 4,
     "metadata": {},
     "output_type": "execute_result"
    }
   ],
   "source": [
    "Color{String} <: Color"
   ]
  },
  {
   "cell_type": "code",
   "execution_count": 5,
   "id": "cbf5f3ba",
   "metadata": {},
   "outputs": [],
   "source": [
    "abstract type NewColor{T<:Real} end"
   ]
  },
  {
   "cell_type": "code",
   "execution_count": 6,
   "id": "f71e1a2f",
   "metadata": {},
   "outputs": [],
   "source": [
    "struct Rational{T <: Integer} <: Real\n",
    "    num::T\n",
    "end"
   ]
  },
  {
   "cell_type": "code",
   "execution_count": 8,
   "id": "844cbba5",
   "metadata": {},
   "outputs": [],
   "source": [
    "struct Ration{T <: Integer}<:Real\n",
    "    num::T\n",
    "    den::T\n",
    "end"
   ]
  },
  {
   "cell_type": "code",
   "execution_count": 9,
   "id": "aec71f5f",
   "metadata": {},
   "outputs": [
    {
     "data": {
      "text/plain": [
       "Ration{Int64}(4, 5)"
      ]
     },
     "execution_count": 9,
     "metadata": {},
     "output_type": "execute_result"
    }
   ],
   "source": [
    "r = Ration(4, 5)"
   ]
  },
  {
   "cell_type": "code",
   "execution_count": 10,
   "id": "8ab2210a",
   "metadata": {},
   "outputs": [
    {
     "data": {
      "text/plain": [
       "Ration{Int64}"
      ]
     },
     "execution_count": 10,
     "metadata": {},
     "output_type": "execute_result"
    }
   ],
   "source": [
    "typeof(r)"
   ]
  },
  {
   "cell_type": "code",
   "execution_count": 12,
   "id": "f46c9daf",
   "metadata": {},
   "outputs": [],
   "source": [
    "struct NewShape{T <: AbstractString, P <: Number}\n",
    "    name::T\n",
    "    color::T\n",
    "    x_coord::P\n",
    "    y_coord::P\n",
    "end"
   ]
  },
  {
   "cell_type": "code",
   "execution_count": 13,
   "id": "895b9eee",
   "metadata": {},
   "outputs": [
    {
     "data": {
      "text/plain": [
       "NewShape{String, Float64}(\"Rectangle\", \"Red\", 5.5, 7.5)"
      ]
     },
     "execution_count": 13,
     "metadata": {},
     "output_type": "execute_result"
    }
   ],
   "source": [
    "rect = NewShape(\"Rectangle\", \"Red\", 5.5, 7.5)"
   ]
  },
  {
   "cell_type": "code",
   "execution_count": 16,
   "id": "bd2ef4a2",
   "metadata": {},
   "outputs": [
    {
     "data": {
      "text/plain": [
       "NewShape{String, Int64}(\"Circle\", \"Black\", 2, 1)"
      ]
     },
     "execution_count": 16,
     "metadata": {},
     "output_type": "execute_result"
    }
   ],
   "source": [
    "circle = NewShape(\"Circle\", \"Black\", 2, 1)"
   ]
  }
 ],
 "metadata": {
  "kernelspec": {
   "display_name": "Julia 1.8.2",
   "language": "julia",
   "name": "julia-1.8"
  },
  "language_info": {
   "file_extension": ".jl",
   "mimetype": "application/julia",
   "name": "julia",
   "version": "1.8.2"
  }
 },
 "nbformat": 4,
 "nbformat_minor": 5
}
