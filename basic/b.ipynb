{
 "cells": [
  {
   "cell_type": "markdown",
   "id": "4528432b",
   "metadata": {},
   "source": [
    "# Parametric types"
   ]
  },
  {
   "cell_type": "code",
   "execution_count": 1,
   "id": "a1ea7976",
   "metadata": {},
   "outputs": [],
   "source": [
    "struct Rectangle\n",
    "    width::Float64\n",
    "    height::Float64\n",
    "end"
   ]
  },
  {
   "cell_type": "code",
   "execution_count": 5,
   "id": "7e8fe652",
   "metadata": {},
   "outputs": [],
   "source": [
    "struct PaRectangle{T}\n",
    "    width::T\n",
    "    height::T\n",
    "end"
   ]
  },
  {
   "cell_type": "code",
   "execution_count": 6,
   "id": "e86cddba",
   "metadata": {},
   "outputs": [
    {
     "data": {
      "text/plain": [
       "PaRectangle{Int64}(3, 8)"
      ]
     },
     "execution_count": 6,
     "metadata": {},
     "output_type": "execute_result"
    }
   ],
   "source": [
    "r1 = PaRectangle{Int}(3,8)"
   ]
  },
  {
   "cell_type": "code",
   "execution_count": 7,
   "id": "9dd9887b",
   "metadata": {},
   "outputs": [
    {
     "data": {
      "text/plain": [
       "PaRectangle{Float32}(2.78f0, 3.14f0)"
      ]
     },
     "execution_count": 7,
     "metadata": {},
     "output_type": "execute_result"
    }
   ],
   "source": [
    "r2 = PaRectangle{Float32}(2.78, 3.14)"
   ]
  },
  {
   "cell_type": "code",
   "execution_count": 8,
   "id": "15988264",
   "metadata": {},
   "outputs": [
    {
     "data": {
      "text/plain": [
       "PaRectangle{String}(\"three\", \"five\")"
      ]
     },
     "execution_count": 8,
     "metadata": {},
     "output_type": "execute_result"
    }
   ],
   "source": [
    "r3 = PaRectangle{String}(\"three\", \"five\")"
   ]
  },
  {
   "cell_type": "code",
   "execution_count": 9,
   "id": "c7dd58c2",
   "metadata": {},
   "outputs": [
    {
     "data": {
      "text/plain": [
       "PaRectangle{Int64}"
      ]
     },
     "execution_count": 9,
     "metadata": {},
     "output_type": "execute_result"
    }
   ],
   "source": [
    "typeof(r1)"
   ]
  },
  {
   "cell_type": "code",
   "execution_count": null,
   "id": "26be1232",
   "metadata": {},
   "outputs": [],
   "source": [
    "typeof(r)"
   ]
  }
 ],
 "metadata": {
  "kernelspec": {
   "display_name": "Julia 1.8.2",
   "language": "julia",
   "name": "julia-1.8"
  },
  "language_info": {
   "file_extension": ".jl",
   "mimetype": "application/julia",
   "name": "julia",
   "version": "1.8.2"
  }
 },
 "nbformat": 4,
 "nbformat_minor": 5
}
