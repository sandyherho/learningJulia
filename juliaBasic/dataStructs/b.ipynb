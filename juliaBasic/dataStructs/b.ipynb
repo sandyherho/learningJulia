{
 "cells": [
  {
   "cell_type": "markdown",
   "id": "6fd21bd2",
   "metadata": {},
   "source": [
    "# Arrays"
   ]
  },
  {
   "cell_type": "code",
   "execution_count": 1,
   "id": "1b27266b",
   "metadata": {},
   "outputs": [
    {
     "data": {
      "text/plain": [
       "4-element Vector{Any}:\n",
       "    3\n",
       "     \"Julia\"\n",
       " 2022\n",
       "    4.12"
      ]
     },
     "execution_count": 1,
     "metadata": {},
     "output_type": "execute_result"
    }
   ],
   "source": [
    "arr = [3, \"Julia\",2022,4.12]"
   ]
  },
  {
   "cell_type": "code",
   "execution_count": 2,
   "id": "214d97d5",
   "metadata": {},
   "outputs": [
    {
     "data": {
      "text/plain": [
       "3-element Vector{Float64}:\n",
       " 2.2\n",
       " 2.4\n",
       " 2.5"
      ]
     },
     "execution_count": 2,
     "metadata": {},
     "output_type": "execute_result"
    }
   ],
   "source": [
    "arrfloat = [2.2,2.4,2.5]"
   ]
  },
  {
   "cell_type": "code",
   "execution_count": 3,
   "id": "736c5472",
   "metadata": {},
   "outputs": [
    {
     "data": {
      "text/plain": [
       "3-element Vector{Int64}:\n",
       "  7\n",
       " 11\n",
       " 13"
      ]
     },
     "execution_count": 3,
     "metadata": {},
     "output_type": "execute_result"
    }
   ],
   "source": [
    "arrint = [7,11,13]"
   ]
  },
  {
   "cell_type": "code",
   "execution_count": 4,
   "id": "aa06e48d",
   "metadata": {},
   "outputs": [
    {
     "data": {
      "text/plain": [
       "4-element Vector{String}:\n",
       " \"abc\"\n",
       " \"def\"\n",
       " \"xyz\"\n",
       " \"αβγ\""
      ]
     },
     "execution_count": 4,
     "metadata": {},
     "output_type": "execute_result"
    }
   ],
   "source": [
    "arrstr = [\"abc\", \"def\", \"xyz\", \"αβγ\"]"
   ]
  },
  {
   "cell_type": "code",
   "execution_count": 5,
   "id": "6852a059",
   "metadata": {},
   "outputs": [
    {
     "data": {
      "text/plain": [
       "Vector{Any}\u001b[90m (alias for \u001b[39m\u001b[90mArray{Any, 1}\u001b[39m\u001b[90m)\u001b[39m"
      ]
     },
     "execution_count": 5,
     "metadata": {},
     "output_type": "execute_result"
    }
   ],
   "source": [
    "typeof(arr)"
   ]
  },
  {
   "cell_type": "code",
   "execution_count": 6,
   "id": "71c7afcb",
   "metadata": {},
   "outputs": [
    {
     "data": {
      "text/plain": [
       "Vector{Float64}\u001b[90m (alias for \u001b[39m\u001b[90mArray{Float64, 1}\u001b[39m\u001b[90m)\u001b[39m"
      ]
     },
     "execution_count": 6,
     "metadata": {},
     "output_type": "execute_result"
    }
   ],
   "source": [
    "typeof(arrfloat)"
   ]
  },
  {
   "cell_type": "code",
   "execution_count": 7,
   "id": "49a27a14",
   "metadata": {},
   "outputs": [
    {
     "data": {
      "text/plain": [
       "Vector{Int64}\u001b[90m (alias for \u001b[39m\u001b[90mArray{Int64, 1}\u001b[39m\u001b[90m)\u001b[39m"
      ]
     },
     "execution_count": 7,
     "metadata": {},
     "output_type": "execute_result"
    }
   ],
   "source": [
    "typeof(arrint)"
   ]
  },
  {
   "cell_type": "code",
   "execution_count": 8,
   "id": "6b2cd9b5",
   "metadata": {},
   "outputs": [
    {
     "data": {
      "text/plain": [
       "Vector{String}\u001b[90m (alias for \u001b[39m\u001b[90mArray{String, 1}\u001b[39m\u001b[90m)\u001b[39m"
      ]
     },
     "execution_count": 8,
     "metadata": {},
     "output_type": "execute_result"
    }
   ],
   "source": [
    "typeof(arrstr)"
   ]
  },
  {
   "cell_type": "code",
   "execution_count": 9,
   "id": "30e1c983",
   "metadata": {},
   "outputs": [
    {
     "data": {
      "text/plain": [
       "5-element Vector{Int64}:\n",
       " 2\n",
       " 3\n",
       " 4\n",
       " 5\n",
       " 7"
      ]
     },
     "execution_count": 9,
     "metadata": {},
     "output_type": "execute_result"
    }
   ],
   "source": [
    "arrprime = Int64[2, 3, 4, 5, 7]"
   ]
  },
  {
   "cell_type": "code",
   "execution_count": 10,
   "id": "ea830d32",
   "metadata": {},
   "outputs": [
    {
     "data": {
      "text/plain": [
       "3-element Vector{Float64}:\n",
       " 3.14\n",
       " 2.718\n",
       " 1.6"
      ]
     },
     "execution_count": 10,
     "metadata": {},
     "output_type": "execute_result"
    }
   ],
   "source": [
    "arrdouble = Float64[3.14, 2.718, 1.6]"
   ]
  },
  {
   "cell_type": "code",
   "execution_count": 11,
   "id": "80e6ecf9",
   "metadata": {},
   "outputs": [
    {
     "data": {
      "text/plain": [
       "3-element Vector{Any}:\n",
       " 7\n",
       " 8.2\n",
       "  [3, 5, 7]"
      ]
     },
     "execution_count": 11,
     "metadata": {},
     "output_type": "execute_result"
    }
   ],
   "source": [
    "arrmixed = [7, 8.2, [3, 5, 7]]"
   ]
  },
  {
   "cell_type": "code",
   "execution_count": 12,
   "id": "581a2aae",
   "metadata": {},
   "outputs": [
    {
     "data": {
      "text/plain": [
       "4-element Vector{Any}:\n",
       "    3\n",
       "     \"Julia\"\n",
       " 2022\n",
       "    4.12"
      ]
     },
     "execution_count": 12,
     "metadata": {},
     "output_type": "execute_result"
    }
   ],
   "source": [
    "arr"
   ]
  },
  {
   "cell_type": "code",
   "execution_count": 13,
   "id": "30b61e09",
   "metadata": {},
   "outputs": [
    {
     "data": {
      "text/plain": [
       "3"
      ]
     },
     "execution_count": 13,
     "metadata": {},
     "output_type": "execute_result"
    }
   ],
   "source": [
    "arr[1]"
   ]
  },
  {
   "cell_type": "code",
   "execution_count": 15,
   "id": "4b8832ec",
   "metadata": {},
   "outputs": [
    {
     "data": {
      "text/plain": [
       "4.12"
      ]
     },
     "execution_count": 15,
     "metadata": {},
     "output_type": "execute_result"
    }
   ],
   "source": [
    "arr[end]"
   ]
  },
  {
   "cell_type": "code",
   "execution_count": 16,
   "id": "5e74adaf",
   "metadata": {},
   "outputs": [
    {
     "data": {
      "text/plain": [
       "Int64"
      ]
     },
     "execution_count": 16,
     "metadata": {},
     "output_type": "execute_result"
    }
   ],
   "source": [
    "typeof(arr[3])"
   ]
  },
  {
   "cell_type": "code",
   "execution_count": 17,
   "id": "2f3b5610",
   "metadata": {},
   "outputs": [
    {
     "data": {
      "text/plain": [
       "3-element Vector{String}:\n",
       " \"abc\"\n",
       " \"def\"\n",
       " \"xyz\""
      ]
     },
     "execution_count": 17,
     "metadata": {},
     "output_type": "execute_result"
    }
   ],
   "source": [
    "arrstr[1:3]"
   ]
  },
  {
   "cell_type": "code",
   "execution_count": 18,
   "id": "699af2a1",
   "metadata": {},
   "outputs": [
    {
     "data": {
      "text/plain": [
       "4-element Vector{Any}:\n",
       "    3\n",
       "     \"Julia\"\n",
       " 2022\n",
       "    4.12"
      ]
     },
     "execution_count": 18,
     "metadata": {},
     "output_type": "execute_result"
    }
   ],
   "source": [
    "arr"
   ]
  },
  {
   "cell_type": "code",
   "execution_count": 19,
   "id": "538594b6",
   "metadata": {},
   "outputs": [
    {
     "data": {
      "text/plain": [
       "3-element Vector{Any}:\n",
       "     \"Julia\"\n",
       " 2022\n",
       "    4.12"
      ]
     },
     "execution_count": 19,
     "metadata": {},
     "output_type": "execute_result"
    }
   ],
   "source": [
    "arr[2:end]"
   ]
  },
  {
   "cell_type": "code",
   "execution_count": 20,
   "id": "cf8d8bbd",
   "metadata": {},
   "outputs": [
    {
     "data": {
      "text/plain": [
       "4-element Vector{Any}:\n",
       "    3\n",
       "     \"Julia\"\n",
       " 2022\n",
       "    4.12"
      ]
     },
     "execution_count": 20,
     "metadata": {},
     "output_type": "execute_result"
    }
   ],
   "source": [
    "newarray = arr[:]"
   ]
  },
  {
   "cell_type": "code",
   "execution_count": 21,
   "id": "3ae8461e",
   "metadata": {},
   "outputs": [
    {
     "data": {
      "text/plain": [
       "true"
      ]
     },
     "execution_count": 21,
     "metadata": {},
     "output_type": "execute_result"
    }
   ],
   "source": [
    "newarray == arr"
   ]
  },
  {
   "cell_type": "code",
   "execution_count": 22,
   "id": "2bb651be",
   "metadata": {},
   "outputs": [
    {
     "data": {
      "text/plain": [
       "false"
      ]
     },
     "execution_count": 22,
     "metadata": {},
     "output_type": "execute_result"
    }
   ],
   "source": [
    "newarray ≡ arr"
   ]
  },
  {
   "cell_type": "code",
   "execution_count": 23,
   "id": "89ad795f",
   "metadata": {},
   "outputs": [
    {
     "data": {
      "text/plain": [
       "4-element Vector{Any}:\n",
       "    3\n",
       "     \"Julia\"\n",
       " 2022\n",
       "    4.12"
      ]
     },
     "execution_count": 23,
     "metadata": {},
     "output_type": "execute_result"
    }
   ],
   "source": [
    "arr"
   ]
  },
  {
   "cell_type": "code",
   "execution_count": 24,
   "id": "63a90865",
   "metadata": {},
   "outputs": [
    {
     "data": {
      "text/plain": [
       "9999"
      ]
     },
     "execution_count": 24,
     "metadata": {},
     "output_type": "execute_result"
    }
   ],
   "source": [
    "arr[1] = 9999"
   ]
  },
  {
   "cell_type": "code",
   "execution_count": 25,
   "id": "b5abc867",
   "metadata": {},
   "outputs": [
    {
     "data": {
      "text/plain": [
       "4-element Vector{Any}:\n",
       " 9999\n",
       "     \"Julia\"\n",
       " 2022\n",
       "    4.12"
      ]
     },
     "execution_count": 25,
     "metadata": {},
     "output_type": "execute_result"
    }
   ],
   "source": [
    "arr"
   ]
  },
  {
   "cell_type": "code",
   "execution_count": 26,
   "id": "1b89e767",
   "metadata": {},
   "outputs": [
    {
     "data": {
      "text/plain": [
       "5-element Vector{Int64}:\n",
       " 2\n",
       " 3\n",
       " 4\n",
       " 5\n",
       " 7"
      ]
     },
     "execution_count": 26,
     "metadata": {},
     "output_type": "execute_result"
    }
   ],
   "source": [
    "arrprime"
   ]
  },
  {
   "cell_type": "code",
   "execution_count": 27,
   "id": "0b62ee64",
   "metadata": {},
   "outputs": [
    {
     "ename": "LoadError",
     "evalue": "MethodError: \u001b[0mCannot `convert` an object of type \u001b[92mString\u001b[39m\u001b[0m to an object of type \u001b[91mInt64\u001b[39m\n\u001b[0mClosest candidates are:\n\u001b[0m  convert(::Type{T}, \u001b[91m::T\u001b[39m) where T<:Number at number.jl:6\n\u001b[0m  convert(::Type{T}, \u001b[91m::Number\u001b[39m) where T<:Number at number.jl:7\n\u001b[0m  convert(::Type{T}, \u001b[91m::Base.TwicePrecision\u001b[39m) where T<:Number at twiceprecision.jl:273\n\u001b[0m  ...",
     "output_type": "error",
     "traceback": [
      "MethodError: \u001b[0mCannot `convert` an object of type \u001b[92mString\u001b[39m\u001b[0m to an object of type \u001b[91mInt64\u001b[39m\n\u001b[0mClosest candidates are:\n\u001b[0m  convert(::Type{T}, \u001b[91m::T\u001b[39m) where T<:Number at number.jl:6\n\u001b[0m  convert(::Type{T}, \u001b[91m::Number\u001b[39m) where T<:Number at number.jl:7\n\u001b[0m  convert(::Type{T}, \u001b[91m::Base.TwicePrecision\u001b[39m) where T<:Number at twiceprecision.jl:273\n\u001b[0m  ...",
      "",
      "Stacktrace:",
      " [1] setindex!(A::Vector{Int64}, x::String, i1::Int64)",
      "   @ Base ./array.jl:966",
      " [2] top-level scope",
      "   @ In[27]:1",
      " [3] eval",
      "   @ ./boot.jl:368 [inlined]",
      " [4] include_string(mapexpr::typeof(REPL.softscope), mod::Module, code::String, filename::String)",
      "   @ Base ./loading.jl:1428"
     ]
    }
   ],
   "source": [
    "arrprime[2] = \"three\""
   ]
  },
  {
   "cell_type": "code",
   "execution_count": 28,
   "id": "78999726",
   "metadata": {},
   "outputs": [
    {
     "data": {
      "text/plain": [
       "2-element Vector{Int64}:\n",
       " 111\n",
       " 222"
      ]
     },
     "execution_count": 28,
     "metadata": {},
     "output_type": "execute_result"
    }
   ],
   "source": [
    "arr[2:3] = [111, 222]"
   ]
  },
  {
   "cell_type": "code",
   "execution_count": 29,
   "id": "17963a5f",
   "metadata": {},
   "outputs": [
    {
     "data": {
      "text/plain": [
       "4-element Vector{Any}:\n",
       " 9999\n",
       "  111\n",
       "  222\n",
       "    4.12"
      ]
     },
     "execution_count": 29,
     "metadata": {},
     "output_type": "execute_result"
    }
   ],
   "source": [
    "arr"
   ]
  },
  {
   "cell_type": "code",
   "execution_count": 30,
   "id": "6bae4893",
   "metadata": {},
   "outputs": [
    {
     "ename": "LoadError",
     "evalue": "ArgumentError: indexed assignment with a single value to possibly many locations is not supported; perhaps use broadcasting `.=` instead?",
     "output_type": "error",
     "traceback": [
      "ArgumentError: indexed assignment with a single value to possibly many locations is not supported; perhaps use broadcasting `.=` instead?",
      "",
      "Stacktrace:",
      " [1] setindex_shape_check(::Int64, ::Int64)",
      "   @ Base ./indices.jl:261",
      " [2] _unsafe_setindex!(#unused#::IndexLinear, A::Vector{Any}, x::Int64, I::UnitRange{Int64})",
      "   @ Base ./multidimensional.jl:939",
      " [3] _setindex!",
      "   @ ./multidimensional.jl:930 [inlined]",
      " [4] setindex!(A::Vector{Any}, v::Int64, I::UnitRange{Int64})",
      "   @ Base ./abstractarray.jl:1344",
      " [5] top-level scope",
      "   @ In[30]:1",
      " [6] eval",
      "   @ ./boot.jl:368 [inlined]",
      " [7] include_string(mapexpr::typeof(REPL.softscope), mod::Module, code::String, filename::String)",
      "   @ Base ./loading.jl:1428"
     ]
    }
   ],
   "source": [
    "arr[2:3] = 4"
   ]
  },
  {
   "cell_type": "code",
   "execution_count": 31,
   "id": "3879655b",
   "metadata": {},
   "outputs": [
    {
     "data": {
      "text/plain": [
       "true"
      ]
     },
     "execution_count": 31,
     "metadata": {},
     "output_type": "execute_result"
    }
   ],
   "source": [
    "111 ∈ arr"
   ]
  },
  {
   "cell_type": "code",
   "execution_count": 32,
   "id": "cbee91b5",
   "metadata": {},
   "outputs": [
    {
     "data": {
      "text/plain": [
       "true"
      ]
     },
     "execution_count": 32,
     "metadata": {},
     "output_type": "execute_result"
    }
   ],
   "source": [
    "\"abc\" ∈ arrstr"
   ]
  },
  {
   "cell_type": "code",
   "execution_count": 33,
   "id": "463f9d25",
   "metadata": {},
   "outputs": [
    {
     "data": {
      "text/plain": [
       "true"
      ]
     },
     "execution_count": 33,
     "metadata": {},
     "output_type": "execute_result"
    }
   ],
   "source": [
    "issubset([\"abc\", \"def\"], arrstr)"
   ]
  },
  {
   "cell_type": "code",
   "execution_count": 36,
   "id": "9e3b46bf",
   "metadata": {},
   "outputs": [
    {
     "data": {
      "text/plain": [
       "true"
      ]
     },
     "execution_count": 36,
     "metadata": {},
     "output_type": "execute_result"
    }
   ],
   "source": [
    "[\"abc\", \"def\"] ⊆ arrstr #\\subseteq TAB"
   ]
  },
  {
   "cell_type": "code",
   "execution_count": 37,
   "id": "1e0eb400",
   "metadata": {},
   "outputs": [
    {
     "data": {
      "text/plain": [
       "true"
      ]
     },
     "execution_count": 37,
     "metadata": {},
     "output_type": "execute_result"
    }
   ],
   "source": [
    "[\"abc\", \"def\"] ⊊ arrstr #\\subsetneq TAB"
   ]
  },
  {
   "cell_type": "code",
   "execution_count": 38,
   "id": "bd766f57",
   "metadata": {},
   "outputs": [
    {
     "data": {
      "text/plain": [
       "false"
      ]
     },
     "execution_count": 38,
     "metadata": {},
     "output_type": "execute_result"
    }
   ],
   "source": [
    "arrstr ⊊ arrstr"
   ]
  },
  {
   "cell_type": "code",
   "execution_count": 40,
   "id": "82b51ae9",
   "metadata": {},
   "outputs": [
    {
     "data": {
      "text/plain": [
       "true"
      ]
     },
     "execution_count": 40,
     "metadata": {},
     "output_type": "execute_result"
    }
   ],
   "source": [
    "arrstr ⊇ [\"abc\", \"def\"] # \\supseteq TAB"
   ]
  },
  {
   "cell_type": "code",
   "execution_count": 42,
   "id": "8755602d",
   "metadata": {},
   "outputs": [
    {
     "data": {
      "text/plain": [
       "4-element Vector{String}:\n",
       " \"α\"\n",
       " \"β\"\n",
       " \"γ\"\n",
       " \"δ\""
      ]
     },
     "execution_count": 42,
     "metadata": {},
     "output_type": "execute_result"
    }
   ],
   "source": [
    "arr = [\"α\", \"β\", \"γ\",\"δ\"]"
   ]
  },
  {
   "cell_type": "code",
   "execution_count": 43,
   "id": "b5767b7e",
   "metadata": {},
   "outputs": [
    {
     "data": {
      "text/plain": [
       "String"
      ]
     },
     "execution_count": 43,
     "metadata": {},
     "output_type": "execute_result"
    }
   ],
   "source": [
    "eltype(arr)"
   ]
  },
  {
   "cell_type": "code",
   "execution_count": 44,
   "id": "44e896c5",
   "metadata": {},
   "outputs": [
    {
     "data": {
      "text/plain": [
       "4"
      ]
     },
     "execution_count": 44,
     "metadata": {},
     "output_type": "execute_result"
    }
   ],
   "source": [
    "length(arr)"
   ]
  },
  {
   "cell_type": "code",
   "execution_count": 45,
   "id": "7b4c65e7",
   "metadata": {},
   "outputs": [
    {
     "data": {
      "text/plain": [
       "5-element Vector{String}:\n",
       " \"α\"\n",
       " \"β\"\n",
       " \"γ\"\n",
       " \"δ\"\n",
       " \"σ\""
      ]
     },
     "execution_count": 45,
     "metadata": {},
     "output_type": "execute_result"
    }
   ],
   "source": [
    "push!(arr, \"σ\")"
   ]
  },
  {
   "cell_type": "code",
   "execution_count": 46,
   "id": "45075a9f",
   "metadata": {},
   "outputs": [
    {
     "data": {
      "text/plain": [
       "5-element Vector{String}:\n",
       " \"α\"\n",
       " \"β\"\n",
       " \"γ\"\n",
       " \"δ\"\n",
       " \"σ\""
      ]
     },
     "execution_count": 46,
     "metadata": {},
     "output_type": "execute_result"
    }
   ],
   "source": [
    "arr"
   ]
  },
  {
   "cell_type": "code",
   "execution_count": 47,
   "id": "7036015d",
   "metadata": {},
   "outputs": [
    {
     "data": {
      "text/plain": [
       "2-element Vector{String}:\n",
       " \"Δ\"\n",
       " \"Θ\""
      ]
     },
     "execution_count": 47,
     "metadata": {},
     "output_type": "execute_result"
    }
   ],
   "source": [
    "arr2 = [\"Δ\", \"Θ\"]"
   ]
  },
  {
   "cell_type": "code",
   "execution_count": 48,
   "id": "224eba57",
   "metadata": {},
   "outputs": [
    {
     "data": {
      "text/plain": [
       "7-element Vector{String}:\n",
       " \"α\"\n",
       " \"β\"\n",
       " \"γ\"\n",
       " \"δ\"\n",
       " \"σ\"\n",
       " \"Δ\"\n",
       " \"Θ\""
      ]
     },
     "execution_count": 48,
     "metadata": {},
     "output_type": "execute_result"
    }
   ],
   "source": [
    "append!(arr, arr2)"
   ]
  },
  {
   "cell_type": "code",
   "execution_count": 50,
   "id": "9843a7ea",
   "metadata": {},
   "outputs": [
    {
     "data": {
      "text/plain": [
       "6-element Vector{String}:\n",
       " \"α\"\n",
       " \"β\"\n",
       " \"δ\"\n",
       " \"σ\"\n",
       " \"Δ\"\n",
       " \"Θ\""
      ]
     },
     "execution_count": 50,
     "metadata": {},
     "output_type": "execute_result"
    }
   ],
   "source": [
    "deleteat!(arr, 3)"
   ]
  },
  {
   "cell_type": "code",
   "execution_count": 52,
   "id": "4bded1e7",
   "metadata": {},
   "outputs": [
    {
     "data": {
      "text/plain": [
       "3-element Vector{String}:\n",
       " \"β\"\n",
       " \"Δ\"\n",
       " \"Θ\""
      ]
     },
     "execution_count": 52,
     "metadata": {},
     "output_type": "execute_result"
    }
   ],
   "source": [
    "deleteat!(arr, [1,3,4])"
   ]
  },
  {
   "cell_type": "code",
   "execution_count": 54,
   "id": "84e29a02",
   "metadata": {},
   "outputs": [
    {
     "data": {
      "text/plain": [
       "\"Θ\""
      ]
     },
     "execution_count": 54,
     "metadata": {},
     "output_type": "execute_result"
    }
   ],
   "source": [
    "pop!(arr)"
   ]
  },
  {
   "cell_type": "code",
   "execution_count": 55,
   "id": "924cef00",
   "metadata": {},
   "outputs": [
    {
     "data": {
      "text/plain": [
       "\"β\""
      ]
     },
     "execution_count": 55,
     "metadata": {},
     "output_type": "execute_result"
    }
   ],
   "source": [
    "popfirst!(arr)"
   ]
  },
  {
   "cell_type": "code",
   "execution_count": 57,
   "id": "7bf39adf",
   "metadata": {},
   "outputs": [
    {
     "data": {
      "text/plain": [
       "1-element Vector{String}:\n",
       " \"Δ\""
      ]
     },
     "execution_count": 57,
     "metadata": {},
     "output_type": "execute_result"
    }
   ],
   "source": [
    "arr"
   ]
  },
  {
   "cell_type": "code",
   "execution_count": 58,
   "id": "be30e867",
   "metadata": {},
   "outputs": [
    {
     "data": {
      "text/plain": [
       "2-element Vector{String}:\n",
       " \"α\"\n",
       " \"Δ\""
      ]
     },
     "execution_count": 58,
     "metadata": {},
     "output_type": "execute_result"
    }
   ],
   "source": [
    "insert!(arr,1,\"α\")"
   ]
  },
  {
   "cell_type": "code",
   "execution_count": 59,
   "id": "48db86fe",
   "metadata": {},
   "outputs": [
    {
     "data": {
      "text/plain": [
       "3-element Vector{String}:\n",
       " \"α\"\n",
       " \"λ\"\n",
       " \"Δ\""
      ]
     },
     "execution_count": 59,
     "metadata": {},
     "output_type": "execute_result"
    }
   ],
   "source": [
    "insert!(arr,2,\"λ\")"
   ]
  },
  {
   "cell_type": "code",
   "execution_count": 61,
   "id": "a8b72801",
   "metadata": {},
   "outputs": [
    {
     "data": {
      "text/plain": [
       "\"Julia,Python,R\""
      ]
     },
     "execution_count": 61,
     "metadata": {},
     "output_type": "execute_result"
    }
   ],
   "source": [
    "str = \"Julia,Python,R\""
   ]
  },
  {
   "cell_type": "code",
   "execution_count": 62,
   "id": "297d505a",
   "metadata": {},
   "outputs": [
    {
     "data": {
      "text/plain": [
       "3-element Vector{SubString{String}}:\n",
       " \"Julia\"\n",
       " \"Python\"\n",
       " \"R\""
      ]
     },
     "execution_count": 62,
     "metadata": {},
     "output_type": "execute_result"
    }
   ],
   "source": [
    "arrstr = split(str, \",\")"
   ]
  }
 ],
 "metadata": {
  "kernelspec": {
   "display_name": "Julia 1.8.2",
   "language": "julia",
   "name": "julia-1.8"
  },
  "language_info": {
   "file_extension": ".jl",
   "mimetype": "application/julia",
   "name": "julia",
   "version": "1.8.2"
  }
 },
 "nbformat": 4,
 "nbformat_minor": 5
}
