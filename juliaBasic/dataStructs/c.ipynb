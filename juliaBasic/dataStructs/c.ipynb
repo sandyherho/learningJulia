{
 "cells": [
  {
   "cell_type": "markdown",
   "id": "a453451e",
   "metadata": {},
   "source": [
    "# Vectors & Matrices"
   ]
  },
  {
   "cell_type": "code",
   "execution_count": null,
   "id": "4b22809f",
   "metadata": {},
   "outputs": [],
   "source": []
  }
 ],
 "metadata": {
  "kernelspec": {
   "display_name": "Julia 1.8.2",
   "language": "julia",
   "name": "julia-1.8"
  },
  "language_info": {
   "file_extension": ".jl",
   "mimetype": "application/julia",
   "name": "julia",
   "version": "1.8.2"
  }
 },
 "nbformat": 4,
 "nbformat_minor": 5
}
