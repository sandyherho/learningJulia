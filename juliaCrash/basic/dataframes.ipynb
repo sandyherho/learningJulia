{
 "cells": [
  {
   "cell_type": "code",
   "execution_count": 4,
   "id": "cc2eee39",
   "metadata": {},
   "outputs": [],
   "source": [
    "#=\n",
    "using Pkg\n",
    "Pkg.add(\"DataFrames\")\n",
    "Pkg.add(\"RDatasets\")\n",
    "Pkg.add(\"StatsBase\")\n",
    "=#"
   ]
  },
  {
   "cell_type": "code",
   "execution_count": 5,
   "id": "e2abe03b",
   "metadata": {},
   "outputs": [],
   "source": [
    "# load required packages into the environment\n",
    "using DataFrames, RDatasets, StatsBase"
   ]
  },
  {
   "cell_type": "code",
   "execution_count": 7,
   "id": "38114ad1",
   "metadata": {},
   "outputs": [],
   "source": [
    "# load the \"mtcars\" dataset from the \"dataset\" R package\n"
   ]
  },
  {
   "cell_type": "code",
   "execution_count": null,
   "id": "31d6ada5",
   "metadata": {},
   "outputs": [],
   "source": []
  }
 ],
 "metadata": {
  "kernelspec": {
   "display_name": "Julia 1.8.2",
   "language": "julia",
   "name": "julia-1.8"
  },
  "language_info": {
   "file_extension": ".jl",
   "mimetype": "application/julia",
   "name": "julia",
   "version": "1.8.2"
  }
 },
 "nbformat": 4,
 "nbformat_minor": 5
}
